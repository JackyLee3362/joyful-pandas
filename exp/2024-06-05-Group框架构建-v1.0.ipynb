{
 "cells": [
  {
   "cell_type": "markdown",
   "metadata": {},
   "source": [
    "# 主要是框架内部的处理类\n",
    "\n",
    "写一个类"
   ]
  },
  {
   "cell_type": "markdown",
   "metadata": {},
   "source": [
    "## 数据预处理部分"
   ]
  },
  {
   "cell_type": "code",
   "execution_count": 1,
   "metadata": {},
   "outputs": [
    {
     "name": "stdout",
     "output_type": "stream",
     "text": [
      "{(0.703665851855809,): ('Male',), (-1.4211290733558493,): ('Female',)}\n"
     ]
    },
    {
     "data": {
      "text/html": [
       "<pre style=\"white-space:pre;overflow-x:auto;line-height:normal;font-family:Menlo,'DejaVu Sans Mono',consolas,'Courier New',monospace\"><span style=\"color: #7fbfbf; text-decoration-color: #7fbfbf\">[00:49:46] </span><span style=\"color: #000080; text-decoration-color: #000080\">INFO    </span> 数据集处理完毕， 遍历 xxx.grouped                                   <a href=\"file://d:\\Dropbox\\Projects\\joyful-pandas\\exp\\utils\\DataPreProcessor_0604.py\" target=\"_blank\"><span style=\"color: #7f7f7f; text-decoration-color: #7f7f7f\">DataPreProcessor_0604.py</span></a><span style=\"color: #7f7f7f; text-decoration-color: #7f7f7f\">:</span><a href=\"file://d:\\Dropbox\\Projects\\joyful-pandas\\exp\\utils\\DataPreProcessor_0604.py#46\" target=\"_blank\"><span style=\"color: #7f7f7f; text-decoration-color: #7f7f7f\">46</span></a>\n",
       "<span style=\"color: #7fbfbf; text-decoration-color: #7fbfbf\">           </span>         查看数据，<span style=\"color: #800080; text-decoration-color: #800080; font-weight: bold\">每个单元是Group</span><span style=\"font-weight: bold\">(</span>scale_name, origin_name , X, y<span style=\"font-weight: bold\">)</span>           <span style=\"color: #7f7f7f; text-decoration-color: #7f7f7f\">                           </span>\n",
       "</pre>\n"
      ],
      "text/plain": [
       "\u001b[2;36m[00:49:46]\u001b[0m\u001b[2;36m \u001b[0m\u001b[34mINFO    \u001b[0m 数据集处理完毕， 遍历 xxx.grouped                                   \u001b]8;id=30218;file://d:\\Dropbox\\Projects\\joyful-pandas\\exp\\utils\\DataPreProcessor_0604.py\u001b\\\u001b[2mDataPreProcessor_0604.py\u001b[0m\u001b]8;;\u001b\\\u001b[2m:\u001b[0m\u001b]8;id=749601;file://d:\\Dropbox\\Projects\\joyful-pandas\\exp\\utils\\DataPreProcessor_0604.py#46\u001b\\\u001b[2m46\u001b[0m\u001b]8;;\u001b\\\n",
       "\u001b[2;36m           \u001b[0m         查看数据，\u001b[1;35m每个单元是Group\u001b[0m\u001b[1m(\u001b[0mscale_name, origin_name , X, y\u001b[1m)\u001b[0m           \u001b[2m                           \u001b[0m\n"
      ]
     },
     "metadata": {},
     "output_type": "display_data"
    }
   ],
   "source": [
    "# 重新加载模块\n",
    "%load_ext autoreload\n",
    "%autoreload 2\n",
    "from exp.utils.DataPreProcessor_0605 import DataPreProcessor, Group \n",
    "\n",
    "sensitive_names = [\"sex\"]\n",
    "processor = DataPreProcessor(\n",
    "    data_path=\"../input/adult.csv\", \n",
    "    sensitive_names=sensitive_names,\n",
    "    label=\"income\",\n",
    "    label_mapper={\"<=50K\":0, \">50K\":1}\n",
    ")"
   ]
  },
  {
   "cell_type": "markdown",
   "metadata": {},
   "source": [
    "## 模型训练与预测"
   ]
  },
  {
   "cell_type": "code",
   "execution_count": 2,
   "metadata": {},
   "outputs": [],
   "source": [
    "import xgboost\n",
    "\n",
    "# 训练集、测试集和敏感属性\n",
    "X_train = processor.X_train_label_scale\n",
    "y_train = processor.y_train\n",
    "X_test = processor.X_test_label_scale\n",
    "y_test = processor.y_test\n",
    "sensitive_indexes = processor.X_test[sensitive_names]\n",
    "\n",
    "# 模型训练 \n",
    "model = xgboost.XGBClassifier()\n",
    "model.fit(X_train, y_train)\n",
    "y_pred = model.predict(X_test)"
   ]
  },
  {
   "cell_type": "code",
   "execution_count": 3,
   "metadata": {},
   "outputs": [
    {
     "data": {
      "text/plain": [
       "准确度(1)         0.871635\n",
       "精确度(1)         0.772044\n",
       "召回率(1)         0.658547\n",
       "f1分数(1)        0.710793\n",
       "AUC分数(1)       0.798650\n",
       "TPR(1)      1541.000000\n",
       "TNR(1)      6974.000000\n",
       "FPR(0)       455.000000\n",
       "FNR(0)       799.000000\n",
       "DP差异(0)        0.186382\n",
       "DP比率(1)        0.298818\n",
       "EO差异(0)        0.069172\n",
       "EO比率(1)        0.215589\n",
       "Name: XGBClassifier-baseline, dtype: float64"
      ]
     },
     "execution_count": 3,
     "metadata": {},
     "output_type": "execute_result"
    }
   ],
   "source": [
    "from exp.utils.FairMetric_0605 import FairMetric\n",
    "\n",
    "fm = FairMetric(\"XGBClassifier-baseline\", y_test, y_pred, sensitive_features=sensitive_indexes)\n",
    "fm.metrics"
   ]
  },
  {
   "cell_type": "code",
   "execution_count": 4,
   "metadata": {},
   "outputs": [
    {
     "name": "stderr",
     "output_type": "stream",
     "text": [
      "IProgress not found. Please update jupyter and ipywidgets. See https://ipywidgets.readthedocs.io/en/stable/user_install.html\n"
     ]
    },
    {
     "data": {
      "text/html": [
       "<pre style=\"white-space:pre;overflow-x:auto;line-height:normal;font-family:Menlo,'DejaVu Sans Mono',consolas,'Courier New',monospace\"><span style=\"color: #7fbfbf; text-decoration-color: #7fbfbf\">[00:49:50] </span><span style=\"color: #008000; text-decoration-color: #008000\">DEBUG   </span> matplotlib data path:                                                           <a href=\"file://c:\\Users\\JACKYLEE\\anaconda3\\envs\\dl\\lib\\site-packages\\matplotlib\\__init__.py\" target=\"_blank\"><span style=\"color: #7f7f7f; text-decoration-color: #7f7f7f\">__init__.py</span></a><span style=\"color: #7f7f7f; text-decoration-color: #7f7f7f\">:</span><a href=\"file://c:\\Users\\JACKYLEE\\anaconda3\\envs\\dl\\lib\\site-packages\\matplotlib\\__init__.py#337\" target=\"_blank\"><span style=\"color: #7f7f7f; text-decoration-color: #7f7f7f\">337</span></a>\n",
       "<span style=\"color: #7fbfbf; text-decoration-color: #7fbfbf\">           </span>         c:\\Users\\JACKYLEE\\anaconda3\\envs\\dl\\lib\\site-packages\\matplotlib\\mpl-data       <span style=\"color: #7f7f7f; text-decoration-color: #7f7f7f\">               </span>\n",
       "</pre>\n"
      ],
      "text/plain": [
       "\u001b[2;36m[00:49:50]\u001b[0m\u001b[2;36m \u001b[0m\u001b[32mDEBUG   \u001b[0m matplotlib data path:                                                           \u001b]8;id=275657;file://c:\\Users\\JACKYLEE\\anaconda3\\envs\\dl\\lib\\site-packages\\matplotlib\\__init__.py\u001b\\\u001b[2m__init__.py\u001b[0m\u001b]8;;\u001b\\\u001b[2m:\u001b[0m\u001b]8;id=55612;file://c:\\Users\\JACKYLEE\\anaconda3\\envs\\dl\\lib\\site-packages\\matplotlib\\__init__.py#337\u001b\\\u001b[2m337\u001b[0m\u001b]8;;\u001b\\\n",
       "\u001b[2;36m           \u001b[0m         c:\\Users\\JACKYLEE\\anaconda3\\envs\\dl\\lib\\site-packages\\matplotlib\\mpl-data       \u001b[2m               \u001b[0m\n"
      ]
     },
     "metadata": {},
     "output_type": "display_data"
    },
    {
     "data": {
      "text/html": [
       "<pre style=\"white-space:pre;overflow-x:auto;line-height:normal;font-family:Menlo,'DejaVu Sans Mono',consolas,'Courier New',monospace\"><span style=\"color: #7fbfbf; text-decoration-color: #7fbfbf\">           </span><span style=\"color: #008000; text-decoration-color: #008000\">DEBUG   </span> <span style=\"color: #808000; text-decoration-color: #808000\">CONFIGDIR</span>=<span style=\"color: #800080; text-decoration-color: #800080\">C</span>:\\Users\\JACKYLEE\\.matplotlib                                         <a href=\"file://c:\\Users\\JACKYLEE\\anaconda3\\envs\\dl\\lib\\site-packages\\matplotlib\\__init__.py\" target=\"_blank\"><span style=\"color: #7f7f7f; text-decoration-color: #7f7f7f\">__init__.py</span></a><span style=\"color: #7f7f7f; text-decoration-color: #7f7f7f\">:</span><a href=\"file://c:\\Users\\JACKYLEE\\anaconda3\\envs\\dl\\lib\\site-packages\\matplotlib\\__init__.py#337\" target=\"_blank\"><span style=\"color: #7f7f7f; text-decoration-color: #7f7f7f\">337</span></a>\n",
       "</pre>\n"
      ],
      "text/plain": [
       "\u001b[2;36m          \u001b[0m\u001b[2;36m \u001b[0m\u001b[32mDEBUG   \u001b[0m \u001b[33mCONFIGDIR\u001b[0m=\u001b[35mC\u001b[0m:\\Users\\JACKYLEE\\.matplotlib                                         \u001b]8;id=816916;file://c:\\Users\\JACKYLEE\\anaconda3\\envs\\dl\\lib\\site-packages\\matplotlib\\__init__.py\u001b\\\u001b[2m__init__.py\u001b[0m\u001b]8;;\u001b\\\u001b[2m:\u001b[0m\u001b]8;id=638662;file://c:\\Users\\JACKYLEE\\anaconda3\\envs\\dl\\lib\\site-packages\\matplotlib\\__init__.py#337\u001b\\\u001b[2m337\u001b[0m\u001b]8;;\u001b\\\n"
      ]
     },
     "metadata": {},
     "output_type": "display_data"
    },
    {
     "data": {
      "text/html": [
       "<pre style=\"white-space:pre;overflow-x:auto;line-height:normal;font-family:Menlo,'DejaVu Sans Mono',consolas,'Courier New',monospace\"><span style=\"color: #7fbfbf; text-decoration-color: #7fbfbf\">           </span><span style=\"color: #008000; text-decoration-color: #008000\">DEBUG   </span> interactive is <span style=\"color: #ff0000; text-decoration-color: #ff0000; font-style: italic\">False</span>                                                           <a href=\"file://c:\\Users\\JACKYLEE\\anaconda3\\envs\\dl\\lib\\site-packages\\matplotlib\\__init__.py\" target=\"_blank\"><span style=\"color: #7f7f7f; text-decoration-color: #7f7f7f\">__init__.py</span></a><span style=\"color: #7f7f7f; text-decoration-color: #7f7f7f\">:</span><a href=\"file://c:\\Users\\JACKYLEE\\anaconda3\\envs\\dl\\lib\\site-packages\\matplotlib\\__init__.py#1498\" target=\"_blank\"><span style=\"color: #7f7f7f; text-decoration-color: #7f7f7f\">1498</span></a>\n",
       "</pre>\n"
      ],
      "text/plain": [
       "\u001b[2;36m          \u001b[0m\u001b[2;36m \u001b[0m\u001b[32mDEBUG   \u001b[0m interactive is \u001b[3;91mFalse\u001b[0m                                                           \u001b]8;id=345077;file://c:\\Users\\JACKYLEE\\anaconda3\\envs\\dl\\lib\\site-packages\\matplotlib\\__init__.py\u001b\\\u001b[2m__init__.py\u001b[0m\u001b]8;;\u001b\\\u001b[2m:\u001b[0m\u001b]8;id=894193;file://c:\\Users\\JACKYLEE\\anaconda3\\envs\\dl\\lib\\site-packages\\matplotlib\\__init__.py#1498\u001b\\\u001b[2m1498\u001b[0m\u001b]8;;\u001b\\\n"
      ]
     },
     "metadata": {},
     "output_type": "display_data"
    },
    {
     "data": {
      "text/html": [
       "<pre style=\"white-space:pre;overflow-x:auto;line-height:normal;font-family:Menlo,'DejaVu Sans Mono',consolas,'Courier New',monospace\"><span style=\"color: #7fbfbf; text-decoration-color: #7fbfbf\">           </span><span style=\"color: #008000; text-decoration-color: #008000\">DEBUG   </span> platform is win32                                                              <a href=\"file://c:\\Users\\JACKYLEE\\anaconda3\\envs\\dl\\lib\\site-packages\\matplotlib\\__init__.py\" target=\"_blank\"><span style=\"color: #7f7f7f; text-decoration-color: #7f7f7f\">__init__.py</span></a><span style=\"color: #7f7f7f; text-decoration-color: #7f7f7f\">:</span><a href=\"file://c:\\Users\\JACKYLEE\\anaconda3\\envs\\dl\\lib\\site-packages\\matplotlib\\__init__.py#1499\" target=\"_blank\"><span style=\"color: #7f7f7f; text-decoration-color: #7f7f7f\">1499</span></a>\n",
       "</pre>\n"
      ],
      "text/plain": [
       "\u001b[2;36m          \u001b[0m\u001b[2;36m \u001b[0m\u001b[32mDEBUG   \u001b[0m platform is win32                                                              \u001b]8;id=634816;file://c:\\Users\\JACKYLEE\\anaconda3\\envs\\dl\\lib\\site-packages\\matplotlib\\__init__.py\u001b\\\u001b[2m__init__.py\u001b[0m\u001b]8;;\u001b\\\u001b[2m:\u001b[0m\u001b]8;id=129812;file://c:\\Users\\JACKYLEE\\anaconda3\\envs\\dl\\lib\\site-packages\\matplotlib\\__init__.py#1499\u001b\\\u001b[2m1499\u001b[0m\u001b]8;;\u001b\\\n"
      ]
     },
     "metadata": {},
     "output_type": "display_data"
    },
    {
     "data": {
      "text/html": [
       "<pre style=\"white-space:pre;overflow-x:auto;line-height:normal;font-family:Menlo,'DejaVu Sans Mono',consolas,'Courier New',monospace\"><span style=\"color: #7fbfbf; text-decoration-color: #7fbfbf\">           </span><span style=\"color: #008000; text-decoration-color: #008000\">DEBUG   </span> <span style=\"color: #808000; text-decoration-color: #808000\">CACHEDIR</span>=<span style=\"color: #800080; text-decoration-color: #800080\">C</span>:\\Users\\JACKYLEE\\.matplotlib                                          <a href=\"file://c:\\Users\\JACKYLEE\\anaconda3\\envs\\dl\\lib\\site-packages\\matplotlib\\__init__.py\" target=\"_blank\"><span style=\"color: #7f7f7f; text-decoration-color: #7f7f7f\">__init__.py</span></a><span style=\"color: #7f7f7f; text-decoration-color: #7f7f7f\">:</span><a href=\"file://c:\\Users\\JACKYLEE\\anaconda3\\envs\\dl\\lib\\site-packages\\matplotlib\\__init__.py#337\" target=\"_blank\"><span style=\"color: #7f7f7f; text-decoration-color: #7f7f7f\">337</span></a>\n",
       "</pre>\n"
      ],
      "text/plain": [
       "\u001b[2;36m          \u001b[0m\u001b[2;36m \u001b[0m\u001b[32mDEBUG   \u001b[0m \u001b[33mCACHEDIR\u001b[0m=\u001b[35mC\u001b[0m:\\Users\\JACKYLEE\\.matplotlib                                          \u001b]8;id=912427;file://c:\\Users\\JACKYLEE\\anaconda3\\envs\\dl\\lib\\site-packages\\matplotlib\\__init__.py\u001b\\\u001b[2m__init__.py\u001b[0m\u001b]8;;\u001b\\\u001b[2m:\u001b[0m\u001b]8;id=295860;file://c:\\Users\\JACKYLEE\\anaconda3\\envs\\dl\\lib\\site-packages\\matplotlib\\__init__.py#337\u001b\\\u001b[2m337\u001b[0m\u001b]8;;\u001b\\\n"
      ]
     },
     "metadata": {},
     "output_type": "display_data"
    },
    {
     "data": {
      "text/html": [
       "<pre style=\"white-space:pre;overflow-x:auto;line-height:normal;font-family:Menlo,'DejaVu Sans Mono',consolas,'Courier New',monospace\"><span style=\"color: #7fbfbf; text-decoration-color: #7fbfbf\">           </span><span style=\"color: #008000; text-decoration-color: #008000\">DEBUG   </span> Using fontManager instance from                                            <a href=\"file://c:\\Users\\JACKYLEE\\anaconda3\\envs\\dl\\lib\\site-packages\\matplotlib\\font_manager.py\" target=\"_blank\"><span style=\"color: #7f7f7f; text-decoration-color: #7f7f7f\">font_manager.py</span></a><span style=\"color: #7f7f7f; text-decoration-color: #7f7f7f\">:</span><a href=\"file://c:\\Users\\JACKYLEE\\anaconda3\\envs\\dl\\lib\\site-packages\\matplotlib\\font_manager.py#1574\" target=\"_blank\"><span style=\"color: #7f7f7f; text-decoration-color: #7f7f7f\">1574</span></a>\n",
       "<span style=\"color: #7fbfbf; text-decoration-color: #7fbfbf\">           </span>         C:\\Users\\JACKYLEE\\.matplotlib\\fontlist-v330.json                           <span style=\"color: #7f7f7f; text-decoration-color: #7f7f7f\">                    </span>\n",
       "</pre>\n"
      ],
      "text/plain": [
       "\u001b[2;36m          \u001b[0m\u001b[2;36m \u001b[0m\u001b[32mDEBUG   \u001b[0m Using fontManager instance from                                            \u001b]8;id=345165;file://c:\\Users\\JACKYLEE\\anaconda3\\envs\\dl\\lib\\site-packages\\matplotlib\\font_manager.py\u001b\\\u001b[2mfont_manager.py\u001b[0m\u001b]8;;\u001b\\\u001b[2m:\u001b[0m\u001b]8;id=285705;file://c:\\Users\\JACKYLEE\\anaconda3\\envs\\dl\\lib\\site-packages\\matplotlib\\font_manager.py#1574\u001b\\\u001b[2m1574\u001b[0m\u001b]8;;\u001b\\\n",
       "\u001b[2;36m           \u001b[0m         C:\\Users\\JACKYLEE\\.matplotlib\\fontlist-v330.json                           \u001b[2m                    \u001b[0m\n"
      ]
     },
     "metadata": {},
     "output_type": "display_data"
    },
    {
     "data": {
      "text/html": [
       "<div>\n",
       "<style scoped>\n",
       "    .dataframe tbody tr th:only-of-type {\n",
       "        vertical-align: middle;\n",
       "    }\n",
       "\n",
       "    .dataframe tbody tr th {\n",
       "        vertical-align: top;\n",
       "    }\n",
       "\n",
       "    .dataframe thead th {\n",
       "        text-align: right;\n",
       "    }\n",
       "</style>\n",
       "<table border=\"1\" class=\"dataframe\">\n",
       "  <thead>\n",
       "    <tr style=\"text-align: right;\">\n",
       "      <th></th>\n",
       "      <th>age</th>\n",
       "      <th>workclass</th>\n",
       "      <th>fnlwgt</th>\n",
       "      <th>education</th>\n",
       "      <th>education.num</th>\n",
       "      <th>marital.status</th>\n",
       "      <th>occupation</th>\n",
       "      <th>relationship</th>\n",
       "      <th>race</th>\n",
       "      <th>sex</th>\n",
       "      <th>capital.gain</th>\n",
       "      <th>capital.loss</th>\n",
       "      <th>hours.per.week</th>\n",
       "      <th>native.country</th>\n",
       "    </tr>\n",
       "  </thead>\n",
       "  <tbody>\n",
       "    <tr>\n",
       "      <th>19749</th>\n",
       "      <td>0.494813</td>\n",
       "      <td>0.026526</td>\n",
       "      <td>-0.213601</td>\n",
       "      <td>-0.045938</td>\n",
       "      <td>-0.376381</td>\n",
       "      <td>0.463009</td>\n",
       "      <td>-0.021303</td>\n",
       "      <td>0.509124</td>\n",
       "      <td>0.029389</td>\n",
       "      <td>0.075267</td>\n",
       "      <td>-0.155306</td>\n",
       "      <td>-0.064937</td>\n",
       "      <td>-0.049951</td>\n",
       "      <td>0.023530</td>\n",
       "    </tr>\n",
       "    <tr>\n",
       "      <th>1216</th>\n",
       "      <td>0.500095</td>\n",
       "      <td>-0.002224</td>\n",
       "      <td>-0.207415</td>\n",
       "      <td>-0.189268</td>\n",
       "      <td>-0.220711</td>\n",
       "      <td>-0.490526</td>\n",
       "      <td>0.123010</td>\n",
       "      <td>-0.486618</td>\n",
       "      <td>0.022525</td>\n",
       "      <td>-0.381510</td>\n",
       "      <td>-0.132950</td>\n",
       "      <td>-2.609746</td>\n",
       "      <td>-0.836442</td>\n",
       "      <td>0.001223</td>\n",
       "    </tr>\n",
       "    <tr>\n",
       "      <th>27962</th>\n",
       "      <td>-0.201751</td>\n",
       "      <td>0.024517</td>\n",
       "      <td>-0.071968</td>\n",
       "      <td>0.033012</td>\n",
       "      <td>0.767833</td>\n",
       "      <td>0.451731</td>\n",
       "      <td>-0.474881</td>\n",
       "      <td>0.655555</td>\n",
       "      <td>-0.308522</td>\n",
       "      <td>0.038492</td>\n",
       "      <td>-0.198145</td>\n",
       "      <td>-0.099592</td>\n",
       "      <td>-0.055016</td>\n",
       "      <td>-0.609599</td>\n",
       "    </tr>\n",
       "    <tr>\n",
       "      <th>23077</th>\n",
       "      <td>-1.826280</td>\n",
       "      <td>0.035445</td>\n",
       "      <td>-0.060712</td>\n",
       "      <td>-0.215791</td>\n",
       "      <td>0.111234</td>\n",
       "      <td>-1.321697</td>\n",
       "      <td>0.256745</td>\n",
       "      <td>-0.766208</td>\n",
       "      <td>-0.008487</td>\n",
       "      <td>0.073554</td>\n",
       "      <td>-0.147942</td>\n",
       "      <td>-0.066919</td>\n",
       "      <td>-0.916901</td>\n",
       "      <td>0.023987</td>\n",
       "    </tr>\n",
       "    <tr>\n",
       "      <th>10180</th>\n",
       "      <td>-0.303005</td>\n",
       "      <td>0.052490</td>\n",
       "      <td>0.285900</td>\n",
       "      <td>-0.134943</td>\n",
       "      <td>-0.460785</td>\n",
       "      <td>0.547875</td>\n",
       "      <td>0.057780</td>\n",
       "      <td>1.367415</td>\n",
       "      <td>0.068808</td>\n",
       "      <td>-0.171300</td>\n",
       "      <td>-0.102331</td>\n",
       "      <td>-0.071025</td>\n",
       "      <td>-1.030011</td>\n",
       "      <td>0.015273</td>\n",
       "    </tr>\n",
       "  </tbody>\n",
       "</table>\n",
       "</div>"
      ],
      "text/plain": [
       "            age  workclass    fnlwgt  education  education.num  \\\n",
       "19749  0.494813   0.026526 -0.213601  -0.045938      -0.376381   \n",
       "1216   0.500095  -0.002224 -0.207415  -0.189268      -0.220711   \n",
       "27962 -0.201751   0.024517 -0.071968   0.033012       0.767833   \n",
       "23077 -1.826280   0.035445 -0.060712  -0.215791       0.111234   \n",
       "10180 -0.303005   0.052490  0.285900  -0.134943      -0.460785   \n",
       "\n",
       "       marital.status  occupation  relationship      race       sex  \\\n",
       "19749        0.463009   -0.021303      0.509124  0.029389  0.075267   \n",
       "1216        -0.490526    0.123010     -0.486618  0.022525 -0.381510   \n",
       "27962        0.451731   -0.474881      0.655555 -0.308522  0.038492   \n",
       "23077       -1.321697    0.256745     -0.766208 -0.008487  0.073554   \n",
       "10180        0.547875    0.057780      1.367415  0.068808 -0.171300   \n",
       "\n",
       "       capital.gain  capital.loss  hours.per.week  native.country  \n",
       "19749     -0.155306     -0.064937       -0.049951        0.023530  \n",
       "1216      -0.132950     -2.609746       -0.836442        0.001223  \n",
       "27962     -0.198145     -0.099592       -0.055016       -0.609599  \n",
       "23077     -0.147942     -0.066919       -0.916901        0.023987  \n",
       "10180     -0.102331     -0.071025       -1.030011        0.015273  "
      ]
     },
     "execution_count": 4,
     "metadata": {},
     "output_type": "execute_result"
    }
   ],
   "source": [
    "import shap\n",
    "import pandas as pd\n",
    "\n",
    "def get_shapley_values(X, model):\n",
    "    explainer = shap.Explainer(model)\n",
    "    shap_values = explainer(X)\n",
    "    shapley_values = pd.DataFrame(data=shap_values.values, columns=X.columns, index=X.index)\n",
    "    return shapley_values\n",
    "shapley_values = get_shapley_values(processor.X_train_label_scale, model)\n",
    "shapley_values.head()\n"
   ]
  },
  {
   "cell_type": "markdown",
   "metadata": {},
   "source": [
    "## SHAP-FAIR 框架\n",
    "\n",
    "![图片](./assets/2024-05-27-流程图.drawio.svg)"
   ]
  },
  {
   "cell_type": "code",
   "execution_count": 5,
   "metadata": {},
   "outputs": [
    {
     "data": {
      "text/plain": [
       "(('Male',),\n",
       " (15244, 14),\n",
       " (15244,),\n",
       "           sex\n",
       " 14160    Male\n",
       " 27048    Male\n",
       " 28868  Female\n",
       " 5667     Male\n",
       " 7827   Female\n",
       " ...       ...\n",
       " 32476  Female\n",
       " 21100    Male\n",
       " 27131    Male\n",
       " 25526    Male\n",
       " 21385    Male\n",
       " \n",
       " [9769 rows x 1 columns])"
      ]
     },
     "execution_count": 5,
     "metadata": {},
     "output_type": "execute_result"
    }
   ],
   "source": [
    "# 挑选一个 group，以男性举例\n",
    "group: Group = processor.grouped[1]\n",
    "X: pd.DataFrame = group.X\n",
    "y: pd.Series = group.y\n",
    "group.origin_name, X.shape, y.shape, sensitive_indexes"
   ]
  },
  {
   "cell_type": "markdown",
   "metadata": {},
   "source": [
    "### 个体间-SHAP距离\n",
    "\n",
    "Shapley Distance between Individual and Individual\n",
    "\n",
    "$$\n",
    "{\\rm SDII}(F, \\phi_i, \\phi_j) = \\sum_{f\\in F}^f|\\phi_i^f-\\phi_j^f|\n",
    "$$\n",
    "\n",
    "### 个体与组-SHAP距离 \n",
    "\n",
    "Shapley Distance between Individual and Group\n",
    "\n",
    "$$\n",
    "{\\rm SDIG}(F, \\phi_i, \\phi) = \\frac 1{m-1}\\sum_{\\phi_j \\in \\phi}^{\\phi}{\\rm SDII}(F, \\phi_i, \\phi_j)\n",
    "$$"
   ]
  },
  {
   "cell_type": "code",
   "execution_count": 324,
   "metadata": {},
   "outputs": [],
   "source": [
    "import numpy as np\n",
    "from tqdm import tqdm\n",
    "import matplotlib.pyplot as plt\n",
    "import logging\n",
    "import pandas as pd\n",
    "import os\n",
    "from sklearn.neighbors import NearestNeighbors\n",
    "\n",
    "logging.basicConfig(level=logging.INFO)\n",
    "\n",
    "\n",
    "class ShapFairFrameworkGroup:\n",
    "    def __init__(\n",
    "\n",
    "        self,\n",
    "        X: pd.DataFrame,\n",
    "        y: pd.Series,\n",
    "        shapley_values: pd.DataFrame,\n",
    "        sensitive_names: list[str],\n",
    "    ):\n",
    "\n",
    "\n",
    "        if X.shape != shapley_values.shape:\n",
    "            raise BaseException(\"X 和 shapley values 的 shape 不匹配\")\n",
    "\n",
    "\n",
    "        self.X = X\n",
    "\n",
    "\n",
    "        self.y = y\n",
    "\n",
    "\n",
    "        self.shapley_values = shapley_values\n",
    "\n",
    "\n",
    "        self.sensitive_names = sensitive_names\n",
    "        self.df_sdgg = pd.DataFrame(columns=sensitive_names)\n",
    "\n",
    "\n",
    "    def sdii(self): ...\n",
    "\n",
    "    def sdig(self, xi_idx):\n",
    "        sv = self.shapley_values\n",
    "        sv_feat_i = sv.loc[xi_idx, self.sensitive_names]\n",
    "        sv_feat_group = sv.loc[:, self.sensitive_names]\n",
    "        result = np.abs(sv_feat_i - sv_feat_group).sum(axis=0)\n",
    "        self.df_sdgg.loc[xi_idx] = result / len(sv_feat_group)\n",
    "\n",
    "    def sdgg(self, path: str = None):\n",
    "        if path is not None and os.path.exists(path):\n",
    "            self.df_sdgg = pd.read_csv(path, index_col=0)\n",
    "            print(\"读取缓存: \", path)\n",
    "            return\n",
    "        indexes = self.shapley_values.index\n",
    "        for idx in tqdm(indexes):\n",
    "            self.sdig(idx)\n",
    "        self.df_sdgg.to_csv(path, index=True)\n",
    "\n",
    "    def show_sigg_hist(self, sensitive_name):\n",
    "        \"\"\"画统计图\"\"\"\n",
    "        df = self.df_sdgg\n",
    "        values, bins, bars = plt.hist(df[sensitive_name], edgecolor=\"white\")\n",
    "        plt.bar_label(bars, fontsize=10, color=\"navy\")\n",
    "        plt.margins(x=0.01, y=0.1)\n",
    "        plt.show()\n",
    "\n",
    "    def get_candidates_fair_X(self, sensitive_name, threshold):\n",
    "        \"\"\"获得候选集和公平样本\"\"\"\n",
    "        df = self.df_sdgg\n",
    "        candidates_idx = df[df[sensitive_name] > threshold].index\n",
    "        fair_idx = df[df[sensitive_name] <= threshold].index\n",
    "        self.X_fair = X.loc[fair_idx]\n",
    "        self.X_candidates = X.loc[candidates_idx]\n",
    "        print(f\"统计: 大于 threshold {len(self.X_candidates)} 个, 小于 {len(self.X_fair)} 个\")\n",
    "\n",
    "    def get_df_neighbors_by_knn(self, knn_k=7):\n",
    "        knn = NearestNeighbors(n_neighbors=knn_k)\n",
    "        knn.fit(self.X_fair)\n",
    "        # 此处的 idx 应该是 X_fair 的序号\n",
    "        distance, idxs = knn.kneighbors(self.X_candidates)\n",
    "        self.idxs = idxs # 方便调试\n",
    "        self.df_neighbors = pd.DataFrame(idxs, index=self.X_candidates.index)\n",
    "        # 对每行进行处理，映射到 y.iloc[row].index 或者 X.\n",
    "        self.df_neighbors = self.df_neighbors.apply(lambda row: self.X_fair.iloc[row].index.values)\n",
    "\n",
    "    def get_unfair_idx(self):\n",
    "        \"\"\"获取不公平的标签\"\"\"\n",
    "        unfair_idx = []\n",
    "        ne = self.df_neighbors\n",
    "        for i in ne.index:\n",
    "            neighbors = ne.loc[i].values\n",
    "            # 候选者标签\n",
    "            candidate_label = self.y.loc[i]\n",
    "            # 公平者中的众数标签\n",
    "            neighbors_mode_label = y.loc[neighbors].mode().values[0]\n",
    "\n",
    "            if candidate_label != neighbors_mode_label:\n",
    "                unfair_idx.append(i)\n",
    "        \n",
    "        self.unfair_idx = pd.Series(unfair_idx)\n",
    "        print(f\"候选者 {len(ne)} 个, 不公平者 {len(unfair_idx)} 个, 比例 {len(unfair_idx) / len(ne) * 100:.2f}%\")\n"
   ]
  },
  {
   "cell_type": "code",
   "execution_count": 325,
   "metadata": {},
   "outputs": [],
   "source": [
    "## 无关小测试\n",
    "def test_svgg_1():\n",
    "    xi_idx = 19749\n",
    "    sv_i_f = shapley_values_X.loc[xi_idx, sensitive_names]\n",
    "    sv_f = shapley_values_X.loc[:, sensitive_names]\n",
    "    np.abs(sv_i_f - sv_f).sum(axis=0)\n"
   ]
  },
  {
   "cell_type": "code",
   "execution_count": 328,
   "metadata": {},
   "outputs": [
    {
     "name": "stdout",
     "output_type": "stream",
     "text": [
      "读取缓存:  pd-cache/2024-06-06-Male-test.csv\n",
      "统计: 大于 threshold 379 个, 小于 14865 个\n",
      "候选者 379 个, 不公平者 99 个, 比例 26.12%\n"
     ]
    },
    {
     "data": {
      "text/plain": [
       "array([13857, 26890, 27533, 21707, 21737, 16266,  5333,  5088, 15917,\n",
       "       28722,  3171, 11352,  4921, 20479, 16297, 31585,  7683, 31052,\n",
       "       25056, 28753,   304, 14959,  8724, 14225,  8565, 10632,  6115,\n",
       "       23543, 13881,   171, 26353, 23837, 11231, 21724,  9143,  4364,\n",
       "       24391, 22709, 21183,    36, 15678,  6999,  1494,  7624, 27871,\n",
       "       19466, 22667,  9386, 26401, 31323, 26692, 28255, 26996, 13436,\n",
       "         524, 17458, 26185, 19289,   901, 27543,  6582,   917, 25613,\n",
       "        8490,  7674, 20335,  1380, 23989, 14562, 24802,  4728,   159,\n",
       "       32142, 32076, 28011, 29846, 21494,  6629, 14566, 19056,  3173,\n",
       "        8712,  1007, 10745,  2343, 26361, 18449, 27632, 14153, 29721,\n",
       "        8415, 23486,  7494, 21689, 12043, 20764, 25547,  7158,   197],\n",
       "      dtype=int64)"
      ]
     },
     "execution_count": 328,
     "metadata": {},
     "output_type": "execute_result"
    }
   ],
   "source": [
    "shapley_values_X = shapley_values.loc[X.index]\n",
    "sff = ShapFairFrameworkGroup(X, y, shapley_values_X, sensitive_names)\n",
    "sff.sdgg(\"pd-cache/2024-06-06-Male-test.csv\")\n",
    "sff.get_candidates_fair_X('sex', 0.1)\n",
    "sff.get_df_neighbors_by_knn()\n",
    "sff.get_unfair_idx()\n",
    "sff.unfair_idx.values"
   ]
  },
  {
   "cell_type": "code",
   "execution_count": null,
   "metadata": {},
   "outputs": [],
   "source": []
  },
  {
   "cell_type": "code",
   "execution_count": 304,
   "metadata": {},
   "outputs": [],
   "source": [
    "# 无关小测试\n",
    "def test_neighbors(ne):\n",
    "    # ne = sff.df_neighbors\n",
    "    cnt = 0\n",
    "    for i in ne.index:\n",
    "        neighbors = ne.loc[i].values\n",
    "        candidate_label = y.loc[i]\n",
    "        neighbors_mode_label = y.loc[neighbors].mode().values[0]\n",
    "        if candidate_label != neighbors_mode_label:\n",
    "            cnt += 1\n",
    "    print(cnt)"
   ]
  },
  {
   "cell_type": "code",
   "execution_count": null,
   "metadata": {},
   "outputs": [],
   "source": []
  }
 ],
 "metadata": {
  "kernelspec": {
   "display_name": "dl",
   "language": "python",
   "name": "python3"
  },
  "language_info": {
   "codemirror_mode": {
    "name": "ipython",
    "version": 3
   },
   "file_extension": ".py",
   "mimetype": "text/x-python",
   "name": "python",
   "nbconvert_exporter": "python",
   "pygments_lexer": "ipython3",
   "version": "3.10.14"
  }
 },
 "nbformat": 4,
 "nbformat_minor": 2
}
