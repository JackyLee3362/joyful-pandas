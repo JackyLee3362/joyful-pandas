{
 "cells": [
  {
   "cell_type": "markdown",
   "metadata": {},
   "source": [
    "# 可解释公平指标\n",
    "\n",
    "@version 1.4"
   ]
  },
  {
   "cell_type": "markdown",
   "metadata": {},
   "source": [
    "![图片](./assets/2024-05-27-流程图.drawio.svg)"
   ]
  },
  {
   "cell_type": "markdown",
   "metadata": {},
   "source": [
    "## SHAP-Fairness 指标\n",
    "\n",
    "### 两个样本之间的 SHAP 可解释距离（在敏感属性上）\n",
    "\n",
    "Shapley Distance between Individual and Individual\n",
    "\n",
    "SDII\n",
    "\n",
    "其中 $A$ 是敏感属性集合\n",
    "\n",
    "$$\n",
    "D(x_i, x_j, A) =\n",
    "\\sum_{f\\in A}^f\n",
    "|\\phi_i^f-\\phi_j^f|\n",
    "$$"
   ]
  },
  {
   "cell_type": "markdown",
   "metadata": {},
   "source": [
    "### 样本在群体之间的可解释距离\n",
    "\n",
    "已知\n",
    "\n",
    "$$\n",
    "a = x_i^A \\\\\n",
    "X^a  = \\{x | x \\in X \\cap x^A \\equiv a \\} \\\\\n",
    "m = {\\rm count}(X^a) \\\\\n",
    "$$\n",
    "\n",
    "Shapley Distance between Individual and Group\n",
    "\n",
    "SDIG\n",
    "\n",
    "$$\n",
    "D(x_i, X^a, A) = \\frac 1{m-1} \\sum_{x_j \\in X^a \\backslash x_i}^{x_j} D(x_i, x_j, A)\n",
    "$$"
   ]
  },
  {
   "cell_type": "markdown",
   "metadata": {},
   "source": [
    "## 实验基本环境设置"
   ]
  },
  {
   "cell_type": "code",
   "execution_count": 1,
   "metadata": {},
   "outputs": [],
   "source": [
    "# 导入依赖\n",
    "import numpy as np\n",
    "import pandas as pd\n",
    "# from rich import print\n",
    "import matplotlib.pyplot as plt\n",
    "import os\n",
    "np.random.seed(42)"
   ]
  },
  {
   "cell_type": "code",
   "execution_count": 2,
   "metadata": {},
   "outputs": [],
   "source": [
    "# 字体设置\n",
    "from pylab import mpl\n",
    "# 设置显示中文字体\n",
    "mpl.rcParams[\"font.sans-serif\"] = [\"Microsoft YaHei\"]"
   ]
  },
  {
   "cell_type": "markdown",
   "metadata": {},
   "source": [
    "## 自定义函数"
   ]
  },
  {
   "cell_type": "code",
   "execution_count": 3,
   "metadata": {},
   "outputs": [
    {
     "name": "stderr",
     "output_type": "stream",
     "text": [
      "IProgress not found. Please update jupyter and ipywidgets. See https://ipywidgets.readthedocs.io/en/stable/user_install.html\n"
     ]
    }
   ],
   "source": [
    "# 导入自定义函数\n",
    "%load_ext autoreload\n",
    "%autoreload 2\n",
    "from utils.helper import fairness_metrics, test_model  # 测试各种指标并输出图像\n",
    "from utils.shap_helper import get_ext_train_comp_by_k\n",
    "from model.models import train_model_and_test\n",
    "from mydata.adult_0518 import (\n",
    "    X_train,\n",
    "    y_train,\n",
    "    X_test,\n",
    "    y_test,\n",
    "    sex,\n",
    "    feature_index,\n",
    "    idxs_loc_male,\n",
    "    idxs_loc_female,\n",
    ")  # 获得 数据集 测试集 和 测试集上的敏感属性"
   ]
  },
  {
   "cell_type": "markdown",
   "metadata": {},
   "source": [
    "## Xgboost-Baseline"
   ]
  },
  {
   "cell_type": "code",
   "execution_count": 4,
   "metadata": {},
   "outputs": [
    {
     "data": {
      "text/plain": [
       "{'准确率(1)': 0.8624219469751254,\n",
       " '精确率(0)': 0.7683765203595981,\n",
       " '召回率(1)': 0.6159389571852479,\n",
       " 'FPR(0)': 0.05910931174089069,\n",
       " 'FNR(0)': 0.384061042814752,\n",
       " 'F1 Score(1)': 0.6837647058823529,\n",
       " '人口平等 差异(0)': 0.16989595884523423,\n",
       " '人口平等 比率(1)': 0.32250719180485066,\n",
       " '机会均等 差异(0)': 0.08764799066199769,\n",
       " '机会均等 比率(1)': 0.29597011190360795}"
      ]
     },
     "execution_count": 4,
     "metadata": {},
     "output_type": "execute_result"
    }
   ],
   "source": [
    "import xgboost\n",
    "\n",
    "model_xgboost_baseline, res_xgboost_baseline = train_model_and_test(\n",
    "    X_train,\n",
    "    y_train,\n",
    "    X_test,\n",
    "    y_test,\n",
    "    model_cls=xgboost.XGBRegressor,\n",
    "    test_func=test_model,\n",
    "    sensitive_feature=sex,\n",
    "    desc=\"xgboost-baseline-组\",\n",
    ")\n",
    "res_xgboost_baseline"
   ]
  },
  {
   "cell_type": "markdown",
   "metadata": {},
   "source": [
    "## 计算得到 Shapley Value"
   ]
  },
  {
   "cell_type": "code",
   "execution_count": 2,
   "metadata": {},
   "outputs": [
    {
     "ename": "NameError",
     "evalue": "name 'model_xgboost_baseline' is not defined",
     "output_type": "error",
     "traceback": [
      "\u001b[1;31m---------------------------------------------------------------------------\u001b[0m",
      "\u001b[1;31mNameError\u001b[0m                                 Traceback (most recent call last)",
      "Cell \u001b[1;32mIn[2], line 10\u001b[0m\n\u001b[0;32m      7\u001b[0m     shap_values \u001b[38;5;241m=\u001b[39m explainer(X_train)\n\u001b[0;32m      8\u001b[0m     \u001b[38;5;28;01mreturn\u001b[39;00m shap_values\n\u001b[1;32m---> 10\u001b[0m shap_values \u001b[38;5;241m=\u001b[39m get_shapley_value(\u001b[43mmodel_xgboost_baseline\u001b[49m, X_train)\n",
      "\u001b[1;31mNameError\u001b[0m: name 'model_xgboost_baseline' is not defined"
     ]
    }
   ],
   "source": [
    "# 计算得到 shapley values\n",
    "import shap\n",
    "\n",
    "def get_shapley_value(model, X_train):\n",
    "    explainer = shap.Explainer(model)\n",
    "    shap_values = explainer(X_train)\n",
    "    return shap_values\n",
    "\n",
    "shap_values = get_shapley_value(model_xgboost_baseline, X_train)"
   ]
  },
  {
   "cell_type": "code",
   "execution_count": 6,
   "metadata": {},
   "outputs": [
    {
     "data": {
      "text/plain": [
       "(22792, 14)"
      ]
     },
     "execution_count": 6,
     "metadata": {},
     "output_type": "execute_result"
    }
   ],
   "source": [
    "# 获得 shapley values\n",
    "shapley_values = shap_values.values\n",
    "shapley_values.shape"
   ]
  },
  {
   "cell_type": "markdown",
   "metadata": {},
   "source": [
    "## 将 X_train 拆分为 male 和 female"
   ]
  },
  {
   "cell_type": "code",
   "execution_count": 7,
   "metadata": {},
   "outputs": [],
   "source": [
    "# 在 X_train 训练集上，已知 loc 获得 iloc\n",
    "idxs_iloc_in_X_train_male = X_train.index.get_indexer(idxs_loc_male)\n",
    "idxs_iloc_in_X_train_female = X_train.index.get_indexer(idxs_loc_female)"
   ]
  },
  {
   "cell_type": "code",
   "execution_count": 8,
   "metadata": {},
   "outputs": [
    {
     "data": {
      "text/html": [
       "<div>\n",
       "<style scoped>\n",
       "    .dataframe tbody tr th:only-of-type {\n",
       "        vertical-align: middle;\n",
       "    }\n",
       "\n",
       "    .dataframe tbody tr th {\n",
       "        vertical-align: top;\n",
       "    }\n",
       "\n",
       "    .dataframe thead th {\n",
       "        text-align: right;\n",
       "    }\n",
       "</style>\n",
       "<table border=\"1\" class=\"dataframe\">\n",
       "  <thead>\n",
       "    <tr style=\"text-align: right;\">\n",
       "      <th></th>\n",
       "      <th>age</th>\n",
       "      <th>workclass</th>\n",
       "      <th>fnlwgt</th>\n",
       "      <th>education</th>\n",
       "      <th>education.num</th>\n",
       "      <th>marital.status</th>\n",
       "      <th>occupation</th>\n",
       "      <th>relationship</th>\n",
       "      <th>race</th>\n",
       "      <th>sex</th>\n",
       "      <th>capital.gain</th>\n",
       "      <th>capital.loss</th>\n",
       "      <th>hours.per.week</th>\n",
       "      <th>native.country</th>\n",
       "    </tr>\n",
       "  </thead>\n",
       "  <tbody>\n",
       "    <tr>\n",
       "      <th>9</th>\n",
       "      <td>0.174720</td>\n",
       "      <td>-0.090641</td>\n",
       "      <td>-1.131673</td>\n",
       "      <td>1.217715</td>\n",
       "      <td>-0.034095</td>\n",
       "      <td>0.926666</td>\n",
       "      <td>-1.034080</td>\n",
       "      <td>1.591474</td>\n",
       "      <td>0.39298</td>\n",
       "      <td>0.699071</td>\n",
       "      <td>-0.145189</td>\n",
       "      <td>7.224655</td>\n",
       "      <td>1.585721</td>\n",
       "      <td>0.262317</td>\n",
       "    </tr>\n",
       "    <tr>\n",
       "      <th>11</th>\n",
       "      <td>-0.044989</td>\n",
       "      <td>1.703439</td>\n",
       "      <td>-0.239657</td>\n",
       "      <td>0.959385</td>\n",
       "      <td>1.912553</td>\n",
       "      <td>0.926666</td>\n",
       "      <td>0.728841</td>\n",
       "      <td>-0.276689</td>\n",
       "      <td>0.39298</td>\n",
       "      <td>0.699071</td>\n",
       "      <td>-0.145189</td>\n",
       "      <td>6.778726</td>\n",
       "      <td>0.367671</td>\n",
       "      <td>0.262317</td>\n",
       "    </tr>\n",
       "    <tr>\n",
       "      <th>13</th>\n",
       "      <td>-0.484406</td>\n",
       "      <td>-0.090641</td>\n",
       "      <td>-0.507029</td>\n",
       "      <td>0.442726</td>\n",
       "      <td>1.523223</td>\n",
       "      <td>1.591170</td>\n",
       "      <td>-0.782234</td>\n",
       "      <td>-0.276689</td>\n",
       "      <td>0.39298</td>\n",
       "      <td>0.699071</td>\n",
       "      <td>-0.145189</td>\n",
       "      <td>6.778726</td>\n",
       "      <td>1.179704</td>\n",
       "      <td>0.262317</td>\n",
       "    </tr>\n",
       "    <tr>\n",
       "      <th>14</th>\n",
       "      <td>0.907082</td>\n",
       "      <td>-0.090641</td>\n",
       "      <td>-0.167448</td>\n",
       "      <td>-0.073933</td>\n",
       "      <td>2.301883</td>\n",
       "      <td>0.926666</td>\n",
       "      <td>0.728841</td>\n",
       "      <td>-0.276689</td>\n",
       "      <td>0.39298</td>\n",
       "      <td>0.699071</td>\n",
       "      <td>-0.145189</td>\n",
       "      <td>6.778726</td>\n",
       "      <td>-0.038346</td>\n",
       "      <td>0.262317</td>\n",
       "    </tr>\n",
       "    <tr>\n",
       "      <th>15</th>\n",
       "      <td>0.540901</td>\n",
       "      <td>-0.090641</td>\n",
       "      <td>-1.364605</td>\n",
       "      <td>0.959385</td>\n",
       "      <td>1.912553</td>\n",
       "      <td>-1.731347</td>\n",
       "      <td>0.728841</td>\n",
       "      <td>-0.276689</td>\n",
       "      <td>0.39298</td>\n",
       "      <td>0.699071</td>\n",
       "      <td>-0.145189</td>\n",
       "      <td>6.778726</td>\n",
       "      <td>-0.038346</td>\n",
       "      <td>0.262317</td>\n",
       "    </tr>\n",
       "  </tbody>\n",
       "</table>\n",
       "</div>"
      ],
      "text/plain": [
       "         age  workclass    fnlwgt  education  education.num  marital.status  \\\n",
       "9   0.174720  -0.090641 -1.131673   1.217715      -0.034095        0.926666   \n",
       "11 -0.044989   1.703439 -0.239657   0.959385       1.912553        0.926666   \n",
       "13 -0.484406  -0.090641 -0.507029   0.442726       1.523223        1.591170   \n",
       "14  0.907082  -0.090641 -0.167448  -0.073933       2.301883        0.926666   \n",
       "15  0.540901  -0.090641 -1.364605   0.959385       1.912553       -1.731347   \n",
       "\n",
       "    occupation  relationship     race       sex  capital.gain  capital.loss  \\\n",
       "9    -1.034080      1.591474  0.39298  0.699071     -0.145189      7.224655   \n",
       "11    0.728841     -0.276689  0.39298  0.699071     -0.145189      6.778726   \n",
       "13   -0.782234     -0.276689  0.39298  0.699071     -0.145189      6.778726   \n",
       "14    0.728841     -0.276689  0.39298  0.699071     -0.145189      6.778726   \n",
       "15    0.728841     -0.276689  0.39298  0.699071     -0.145189      6.778726   \n",
       "\n",
       "    hours.per.week  native.country  \n",
       "9         1.585721        0.262317  \n",
       "11        0.367671        0.262317  \n",
       "13        1.179704        0.262317  \n",
       "14       -0.038346        0.262317  \n",
       "15       -0.038346        0.262317  "
      ]
     },
     "execution_count": 8,
     "metadata": {},
     "output_type": "execute_result"
    }
   ],
   "source": [
    "X_train.iloc[idxs_iloc_in_X_train_male].head()"
   ]
  },
  {
   "cell_type": "markdown",
   "metadata": {},
   "source": [
    "## 计算 Shapley Distance"
   ]
  },
  {
   "cell_type": "code",
   "execution_count": 9,
   "metadata": {},
   "outputs": [],
   "source": [
    "# 导入新指标，定义敏感属性\n",
    "from utils.new_index_0518 import shapley_distance_between_individual_and_individual as sdii\n",
    "from utils.new_index_0518 import shapley_distance_between_individual_and_group as sdig\n",
    "from utils.new_index_0518 import shapley_distance_between_group_and_group as sdgg\n",
    "\n",
    "# 因为 X_train 和 Shapley Values 是一一对应的，所以可以找到对应的 Shapley Value\n",
    "shapley_values_male = shapley_values[idxs_iloc_in_X_train_male]\n",
    "shapley_values_female = shapley_values[idxs_iloc_in_X_train_female]\n",
    "A = np.array([feature_index])"
   ]
  },
  {
   "cell_type": "code",
   "execution_count": 10,
   "metadata": {},
   "outputs": [],
   "source": [
    "# 如果有缓存则载入\n",
    "# 没有就运行函数\n",
    "def load_or_run_svgg_and_save(\n",
    "    X,  # 训练集\n",
    "    A,  # 敏感属性\n",
    "    date,  # 日期\n",
    "    title,  # 标题\n",
    "    dir=\"np-cache\",  # npy 缓存数据文件夹名\n",
    "):\n",
    "    filename = f\"{date}-{title}\"\n",
    "    filepath = f\"{dir}/{filename}.npy\"\n",
    "    print(\"文件名为: \", filename)\n",
    "    print(\"文件路径为: \", filepath)\n",
    "\n",
    "    if os.path.exists(filepath):\n",
    "        print(\"发现缓存数据，直接载入\")\n",
    "        return np.load(filepath)\n",
    "    print(\"未发现相关缓存\")\n",
    "    res = sdgg(X, A)\n",
    "    np.save(filepath, res)\n",
    "    print(\"缓存成功\")\n",
    "    return res"
   ]
  },
  {
   "cell_type": "markdown",
   "metadata": {},
   "source": [
    "## 获得 男性的 Shapley Distance 向量"
   ]
  },
  {
   "cell_type": "code",
   "execution_count": 11,
   "metadata": {},
   "outputs": [
    {
     "name": "stdout",
     "output_type": "stream",
     "text": [
      "文件名为:  2024-05-21-50min-可解释指标-sv-male\n",
      "文件路径为:  np-cache/2024-05-21-50min-可解释指标-sv-male.npy\n",
      "发现缓存数据，直接载入\n"
     ]
    }
   ],
   "source": [
    "shap_distance_male = load_or_run_svgg_and_save(\n",
    "    shapley_values_male, A, date=\"2024-05-21\", title=\"50min-可解释指标-sv-male\"\n",
    ")"
   ]
  },
  {
   "cell_type": "markdown",
   "metadata": {},
   "source": [
    "## 获得女性的 Shapley Distance 向量"
   ]
  },
  {
   "cell_type": "code",
   "execution_count": 12,
   "metadata": {},
   "outputs": [
    {
     "name": "stdout",
     "output_type": "stream",
     "text": [
      "文件名为:  2024-05-21-11min-可解释指标-sv-female\n",
      "文件路径为:  np-cache/2024-05-21-11min-可解释指标-sv-female.npy\n",
      "发现缓存数据，直接载入\n"
     ]
    }
   ],
   "source": [
    "shap_distance_female = load_or_run_svgg_and_save(\n",
    "    shapley_values_female, A, date=\"2024-05-21\", title=\"11min-可解释指标-sv-female\"\n",
    ")"
   ]
  },
  {
   "cell_type": "markdown",
   "metadata": {},
   "source": [
    "## 找到【可解释疑似歧视样本】\n",
    "\n",
    "在 shap_distance_male 上和 shap_distance_female 上"
   ]
  },
  {
   "cell_type": "code",
   "execution_count": 13,
   "metadata": {},
   "outputs": [
    {
     "name": "stdout",
     "output_type": "stream",
     "text": [
      "male:  [9841 6913 1756 ... 8758 5363 7369] shape: (15310,)\n",
      "female: [3042  693  482 ... 3729 7477 6922] shape: (7482,)\n"
     ]
    }
   ],
   "source": [
    "# 处理 male\n",
    "shap_dis_male_arg_sorted = np.argsort(shap_distance_male)\n",
    "print(\"male: \", shap_dis_male_arg_sorted, \"shape:\", shap_dis_male_arg_sorted.shape)\n",
    "# 处理 female\n",
    "shap_dis_female_arg_sorted = np.argsort(shap_distance_female)\n",
    "print(\"female:\", shap_dis_female_arg_sorted, \"shape:\", shap_dis_female_arg_sorted.shape)"
   ]
  },
  {
   "cell_type": "code",
   "execution_count": 14,
   "metadata": {},
   "outputs": [],
   "source": [
    "# 可视化地看 不同的数据分布\n",
    "def plt_hist_freq(x, bins=20, xlabel=\"xlabel\", ylabel=\"ylabel\", title=\"title\"):\n",
    "    # 画分布图\n",
    "    counts, bins, _ = plt.hist(x, bins=bins, alpha=0.7, width=0.005)  # 设置直方图的柱子数量\n",
    "    plt.plot((bins[:-1] + bins[1:]) / 2, counts, \"-ro\", alpha=0.3)\n",
    "    plt.xlabel(xlabel)  # x轴标签\n",
    "    plt.ylabel(ylabel)  # y轴标签\n",
    "    plt.title(title)  # 图表标题\n",
    "\n",
    "    # 在每个柱子上显示频率数\n",
    "    for i in range(len(counts)):\n",
    "        if counts[i] > 0:\n",
    "            plt.text(bins[i], counts[i], str(counts[i]), ha=\"center\", va=\"bottom\")\n",
    "    plt.show()"
   ]
  },
  {
   "cell_type": "code",
   "execution_count": 15,
   "metadata": {},
   "outputs": [
    {
     "data": {
      "image/png": "[encoded data removed]",
      "text/plain": [
       "<Figure size 640x480 with 1 Axes>"
      ]
     },
     "metadata": {},
     "output_type": "display_data"
    },
    {
     "data": {
      "image/png": "[encoded data removed]",
      "text/plain": [
       "<Figure size 640x480 with 1 Axes>"
      ]
     },
     "metadata": {},
     "output_type": "display_data"
    }
   ],
   "source": [
    "# 可以看到 大于 0.04 的数据比较少，说明不太合理，认为这些是不合理的数据\n",
    "plt_hist_freq(shap_distance_male, 10, xlabel=\"Shapley Distance 区间\", ylabel=\"频率数\", title=\"男性 Shapley Distance 频率分布图\")\n",
    "plt_hist_freq(shap_distance_female, 10, xlabel=\"Shapley Distance 区间\", ylabel=\"频率数\", title=\"女性 Shapley Distance 频率分布图\")\n"
   ]
  },
  {
   "cell_type": "code",
   "execution_count": 16,
   "metadata": {},
   "outputs": [
    {
     "data": {
      "text/plain": [
       "(20, 341)"
      ]
     },
     "execution_count": 16,
     "metadata": {},
     "output_type": "execute_result"
    }
   ],
   "source": [
    "# 所以设定阈值为 t=0.04\n",
    "t = 0.04\n",
    "# 统计大于阈值的数量\n",
    "np.sum(shap_distance_male > t), np.sum(shap_distance_female > t)"
   ]
  },
  {
   "cell_type": "markdown",
   "metadata": {},
   "source": [
    "## 获得公平和不公平的 idx"
   ]
  },
  {
   "cell_type": "code",
   "execution_count": 17,
   "metadata": {},
   "outputs": [],
   "source": [
    "# 统计大于阈值的 index\n",
    "unfair_idx_male = np.where(shap_distance_male > t)\n",
    "fair_idx_male = np.where(shap_distance_male <= t)\n",
    "assert len(shap_distance_male) == len(unfair_idx_male[0]) + len(\n",
    "    fair_idx_male[0]\n",
    "), \"和不相等\"\n",
    "# 女性\n",
    "unfair_idx_female = np.where(shap_distance_female > t)\n",
    "fair_idx_female = np.where(shap_distance_female <= t)\n",
    "assert len(shap_distance_female) == len(unfair_idx_female[0]) + len(\n",
    "    fair_idx_female[0]\n",
    "), \"和不相等\""
   ]
  },
  {
   "cell_type": "code",
   "execution_count": 18,
   "metadata": {},
   "outputs": [
    {
     "name": "stdout",
     "output_type": "stream",
     "text": [
      "不公平的idx [ 1976  2705  3180  3800  4222  5363  6500  6926  7369  7909  8423  8631\n",
      "  8758  9350  9880 11293 11430 12371 12463 14746]\n",
      "查看计算好的值 0.0416298545897007\n",
      "使用 sdig 直接计算得到 0.0416298545897007\n"
     ]
    }
   ],
   "source": [
    "## ---------->\n",
    "## 一个很简单的测试\n",
    "print(\"不公平的idx\", unfair_idx_male[0])\n",
    "## 随机选一个\n",
    "test_unfair_idx = unfair_idx_male[0][0]\n",
    "print(\"查看计算好的值\", shap_distance_male[test_unfair_idx])\n",
    "## 计算 sdig\n",
    "print(\"使用 sdig 直接计算得到\", sdig(test_unfair_idx, shapley_values_male, A))\n",
    "########## <----------"
   ]
  },
  {
   "cell_type": "code",
   "execution_count": 19,
   "metadata": {},
   "outputs": [],
   "source": [
    "def index_mapper(a, idx1, idx2):\n",
    "    \"\"\"索引映射\n",
    "    已知 b = a[idx1] 且 c = b[idx2]\n",
    "    要定位 c 在 a 的位置，则 a[idx1[idx2]]\"\"\"\n",
    "    if isinstance(a, np.ndarray):\n",
    "        return a[idx1[idx2]]\n",
    "    elif isinstance(a, pd.DataFrame):\n",
    "        return a.iloc[idx1[idx2]]\n",
    "    elif isinstance(a, pd.Series):\n",
    "        return a.iloc[idx1[idx2]]\n",
    "    raise TypeError(\"a 的类型是 \", type(a))"
   ]
  },
  {
   "cell_type": "code",
   "execution_count": 20,
   "metadata": {},
   "outputs": [],
   "source": [
    "from sklearn.neighbors import NearestNeighbors\n",
    "def get_knn_idx(knn_k, X_train, X_target):\n",
    "    knn = NearestNeighbors(n_neighbors=knn_k)\n",
    "    knn.fit(X_train)\n",
    "    distance, idx = knn.kneighbors(X_target)\n",
    "    return idx"
   ]
  },
  {
   "cell_type": "code",
   "execution_count": 21,
   "metadata": {},
   "outputs": [],
   "source": [
    "knn_k = 9"
   ]
  },
  {
   "cell_type": "code",
   "execution_count": 22,
   "metadata": {},
   "outputs": [],
   "source": [
    "# 获得 X_train 上【男性】公平样本和不公平样本\n",
    "fair_samples_male = index_mapper(X_train, idxs_iloc_in_X_train_male, fair_idx_male)\n",
    "unfair_samples_male = index_mapper(X_train, idxs_iloc_in_X_train_male, unfair_idx_male)\n",
    "knn_idx_male = get_knn_idx(knn_k, fair_samples_male, unfair_samples_male)"
   ]
  },
  {
   "cell_type": "code",
   "execution_count": 23,
   "metadata": {},
   "outputs": [],
   "source": [
    "# 看看在 shapley value 上用 knn 能不能获得好的效果\n",
    "# 【男性】\n",
    "fair_samples_male = shapley_values_male[fair_idx_male]\n",
    "unfair_samples_male = shapley_values_male[unfair_idx_male]\n",
    "knn_idx_male = get_knn_idx(knn_k, fair_samples_male, unfair_samples_male)"
   ]
  },
  {
   "cell_type": "code",
   "execution_count": 24,
   "metadata": {},
   "outputs": [],
   "source": [
    "## 做一个小测验\n",
    "# knn = NearestNeighbors(n_neighbors=knn_k)\n",
    "# knn.fit(fair_samples_male)\n",
    "# distance, idx = knn.kneighbors(unfair_samples_male)\n",
    "# print(idx)"
   ]
  },
  {
   "cell_type": "code",
   "execution_count": 25,
   "metadata": {},
   "outputs": [
    {
     "data": {
      "text/plain": [
       "(15290, 14)"
      ]
     },
     "execution_count": 25,
     "metadata": {},
     "output_type": "execute_result"
    }
   ],
   "source": [
    "## ---------->\n",
    "# 简单小测试\n",
    "shapley_values.shape\n",
    "X_train.shape\n",
    "test_idx = idxs_iloc_in_X_train_male[0]\n",
    "X_train.iloc[idxs_iloc_in_X_train_male[test_idx]]\n",
    "fair_samples_male.shape\n",
    "## <----------"
   ]
  },
  {
   "cell_type": "code",
   "execution_count": 26,
   "metadata": {},
   "outputs": [
    {
     "data": {
      "text/plain": [
       "(15310,)"
      ]
     },
     "execution_count": 26,
     "metadata": {},
     "output_type": "execute_result"
    }
   ],
   "source": [
    "idxs_iloc_in_X_train_male.shape"
   ]
  },
  {
   "cell_type": "code",
   "execution_count": 27,
   "metadata": {},
   "outputs": [
    {
     "data": {
      "text/plain": [
       "array([[ 6.43159971e-02, -6.46124920e-03, -5.37773129e-03, ...,\n",
       "         5.71446240e-01, -7.78428931e-03,  2.33107989e-04],\n",
       "       [ 3.26353982e-02, -5.20797027e-03, -2.75321659e-02, ...,\n",
       "         4.66135800e-01,  1.38172302e-02,  1.97955733e-03],\n",
       "       [-2.25489922e-02,  9.03276820e-03,  4.33528912e-04, ...,\n",
       "         5.60545921e-01,  6.67030513e-02,  1.94592704e-03],\n",
       "       ...,\n",
       "       [ 4.49473895e-02,  1.39101455e-02,  6.09807437e-04, ...,\n",
       "        -7.98131805e-03,  4.04926017e-02,  1.67291902e-03],\n",
       "       [-3.58336456e-02,  7.92072434e-03,  8.63453187e-03, ...,\n",
       "        -4.31758910e-03, -7.84643888e-02, -4.24907394e-02],\n",
       "       [ 1.21522240e-01,  9.01829731e-03,  6.47714641e-03, ...,\n",
       "        -7.41473073e-03, -1.11431191e-02,  3.08955554e-03]], dtype=float32)"
      ]
     },
     "execution_count": 27,
     "metadata": {},
     "output_type": "execute_result"
    }
   ],
   "source": [
    "fair_samples_male"
   ]
  },
  {
   "cell_type": "code",
   "execution_count": 28,
   "metadata": {},
   "outputs": [
    {
     "data": {
      "text/plain": [
       "array([[  34,   10,   12, ...,   81,   76,  200],\n",
       "       [  36,   71,   33, ...,  166,  159, 4293],\n",
       "       [  50,  184,  110, ...,  186,  201,  149],\n",
       "       ...,\n",
       "       [6462, 5115, 1453, ..., 4153, 6231, 4044],\n",
       "       [6125, 5016, 1033, ..., 4822,  400, 6676],\n",
       "       [4875, 7033, 4989, ...,  426,  442, 5691]], dtype=int64)"
      ]
     },
     "execution_count": 28,
     "metadata": {},
     "output_type": "execute_result"
    }
   ],
   "source": [
    "# 获得 X_train 上【女性】公平样本和不公平样本\n",
    "fair_samples_female = index_mapper(X_train, idxs_iloc_in_X_train_female, fair_idx_female)\n",
    "unfair_samples_female = index_mapper(X_train, idxs_iloc_in_X_train_female, unfair_idx_female)\n",
    "knn_idx_female = get_knn_idx(knn_k, fair_samples_female, unfair_samples_female)\n",
    "knn_idx_female"
   ]
  },
  {
   "cell_type": "code",
   "execution_count": 29,
   "metadata": {},
   "outputs": [
    {
     "data": {
      "text/plain": [
       "array([[1978,  889, 5190, ..., 1033, 7052, 2717],\n",
       "       [2632, 5106, 2794, ..., 4525, 3137, 5281],\n",
       "       [5094, 4648,  411, ..., 1776, 7036, 5393],\n",
       "       ...,\n",
       "       [6652, 5475, 1171, ..., 1013, 6047, 4600],\n",
       "       [6495, 3903, 4402, ..., 6125, 4693, 5900],\n",
       "       [5893, 4525,  851, ..., 3137, 6727, 3155]], dtype=int64)"
      ]
     },
     "execution_count": 29,
     "metadata": {},
     "output_type": "execute_result"
    }
   ],
   "source": [
    "# 看看在 shapley value 上用 knn 能不能获得好的效果\n",
    "# 【女性】\n",
    "fair_samples_female = shapley_values_female[fair_idx_female]\n",
    "unfair_samples_female = shapley_values_female[unfair_idx_female]\n",
    "knn_idx_female = get_knn_idx(knn_k, fair_samples_female, unfair_samples_female)\n",
    "knn_idx_female"
   ]
  },
  {
   "cell_type": "code",
   "execution_count": 30,
   "metadata": {},
   "outputs": [
    {
     "name": "stdout",
     "output_type": "stream",
     "text": [
      "(22792, 14)\n",
      "(15290, 14) (15310,)\n",
      "(7141, 14) (7482,)\n",
      "22431\n",
      "361\n",
      "22792\n"
     ]
    }
   ],
   "source": [
    "# ---------->\n",
    "# 小测试\n",
    "print(X_train.shape)\n",
    "print(fair_samples_male.shape, idxs_iloc_in_X_train_male.shape)\n",
    "print(fair_samples_female.shape, idxs_iloc_in_X_train_female.shape)\n",
    "print(len(fair_samples_male) + len(fair_samples_female))\n",
    "print(len(unfair_samples_male) + len(unfair_samples_female))\n",
    "print(len(idxs_iloc_in_X_train_male) + len(idxs_iloc_in_X_train_female))\n",
    "# <----------"
   ]
  },
  {
   "cell_type": "code",
   "execution_count": 31,
   "metadata": {},
   "outputs": [
    {
     "name": "stdout",
     "output_type": "stream",
     "text": [
      "【可解释疑似歧视样本】: 20\n",
      "【可解释歧视样本】: 18 \n",
      "比例为  0.9000\n",
      "【可解释疑似歧视样本】: 341\n",
      "【可解释歧视样本】: 35 \n",
      "比例为  0.1026\n",
      "[1740, 1916, 3030, 3787, 6666, 7720, 8047, 9628, 10058, 11333, 11734, 13808, 15415, 15620, 16121, 17529, 17702, 20700]\n",
      "[1297, 1397, 1710, 2192, 2401, 2699, 3369, 3676, 4088, 4172, 4437, 4840, 4932, 6159, 7511, 8038, 8115, 9660, 10585, 10596, 11198, 11679, 12735, 14696, 14929, 15016, 16895, 17217, 17644, 17732, 20573, 21280, 21557, 22366, 22377]\n"
     ]
    }
   ],
   "source": [
    "from scipy import stats\n",
    "\n",
    "\n",
    "def need_modify_idx(target, y_train: pd.Series, idx1, knn_idxs):\n",
    "    \"\"\"\n",
    "    target: 是待处理的 idx\n",
    "    y_train: 标签\n",
    "    idx1: 中转 idx\n",
    "    knn_idxs: 在 shapley_values_male/female 找到的\n",
    "\n",
    "    \"\"\"\n",
    "    count = 0\n",
    "    n = len(target)\n",
    "    unfair_list = []\n",
    "    # 对于每个不公平样本进行遍历\n",
    "    for i in range(n):\n",
    "        # 不公平样本\n",
    "        unfair_sample_idx = target[i]\n",
    "        idx2 = idx1[unfair_sample_idx]  # idx2 是 unfair_sample 在 X_train 上的 idx\n",
    "        unfair_sample = index_mapper(y_train, idx1, unfair_sample_idx)\n",
    "        if unfair_sample != y_train.iloc[idx2]:\n",
    "            raise BaseException(\"不匹配错误\")\n",
    "\n",
    "        # 近邻的公平样本\n",
    "        # fair_sample_idx 是在 fair_sample 上的 idx\n",
    "        fair_samples_idx = knn_idxs[i]\n",
    "        knn_samples = index_mapper(y_train, idx1, fair_samples_idx)\n",
    "\n",
    "        # 统计计算\n",
    "        fair_mode = stats.mode(knn_samples).mode\n",
    "        if fair_mode != unfair_sample:\n",
    "            count += 1\n",
    "            unfair_list.append(idx2)\n",
    "    print(f\"【可解释疑似歧视样本】: {n}\")\n",
    "    print(f\"【可解释歧视样本】: {count} \")\n",
    "    print(f\"比例为 { count / n: .4f}\")\n",
    "    return np.array(unfair_list)\n",
    "\n",
    "\n",
    "# 获得男性需要改变的 list\n",
    "unfair_need_modify_male = need_modify_idx(\n",
    "    unfair_idx_male[0], y_train, idxs_iloc_in_X_train_male, knn_idx_male\n",
    ")\n",
    "\n",
    "# 获得女性需要改变的 list\n",
    "unfair_need_modify_female = need_modify_idx(\n",
    "    unfair_idx_female[0], y_train, idxs_iloc_in_X_train_female, knn_idx_female\n",
    ")\n",
    "print(sorted(unfair_need_modify_male))\n",
    "print(sorted(unfair_need_modify_female))"
   ]
  },
  {
   "cell_type": "code",
   "execution_count": 32,
   "metadata": {},
   "outputs": [
    {
     "name": "stdout",
     "output_type": "stream",
     "text": [
      "18 35\n",
      "18 <class 'int'>\n"
     ]
    },
    {
     "data": {
      "text/plain": [
       "(53,)"
      ]
     },
     "execution_count": 32,
     "metadata": {},
     "output_type": "execute_result"
    }
   ],
   "source": [
    "# 合并向量\n",
    "percent_m = 1\n",
    "shape_male = unfair_need_modify_male.shape[0]\n",
    "shape_female = unfair_need_modify_female.shape[0]\n",
    "print(shape_male, shape_female)\n",
    "m = int(min(shape_male, shape_female) * percent_m)\n",
    "print(m, type(m))\n",
    "random_index_male = np.random.choice(shape_male, size=m, replace=False)\n",
    "random_index_female = np.random.choice(shape_female, size=m, replace=False)\n",
    "unfair_list_np = np.concatenate((unfair_need_modify_male[random_index_male], unfair_need_modify_female[random_index_female]))\n",
    "unfair_list_np = np.concatenate((unfair_need_modify_male, unfair_need_modify_female))\n",
    "unfair_list_np.shape"
   ]
  },
  {
   "cell_type": "code",
   "execution_count": 33,
   "metadata": {},
   "outputs": [],
   "source": [
    "y_train_fair = y_train.copy()\n",
    "y_train_fair.iloc[unfair_list_np] = 1 - y_train.iloc[unfair_list_np]"
   ]
  },
  {
   "cell_type": "code",
   "execution_count": 34,
   "metadata": {},
   "outputs": [
    {
     "data": {
      "text/plain": [
       "{'准确率(1)': 0.8640597809397073,\n",
       " '精确率(0)': 0.7708880714661062,\n",
       " '召回率(1)': 0.6218736752861382,\n",
       " 'FPR(0)': 0.05883940620782726,\n",
       " 'FNR(0)': 0.3781263247138618,\n",
       " 'F1 Score(1)': 0.6884091975598311,\n",
       " '人口平等 差异(0)': 0.17862328224647064,\n",
       " '人口平等 比率(1)': 0.29934693162401343,\n",
       " '机会均等 差异(0)': 0.11104163192707461,\n",
       " '机会均等 比率(1)': 0.24885945146238764}"
      ]
     },
     "execution_count": 34,
     "metadata": {},
     "output_type": "execute_result"
    }
   ],
   "source": [
    "xgboost_fair, res_fair = train_model_and_test(\n",
    "    X_train,\n",
    "    y_train_fair,\n",
    "    X_test,\n",
    "    y_test,\n",
    "    model_cls=xgboost.XGBRegressor,\n",
    "    test_func=test_model,\n",
    "    sensitive_feature=sex,\n",
    "    desc=\"公平组\",\n",
    ")\n",
    "res_fair"
   ]
  },
  {
   "cell_type": "code",
   "execution_count": 35,
   "metadata": {},
   "outputs": [
    {
     "data": {
      "text/html": [
       "<div>\n",
       "<style scoped>\n",
       "    .dataframe tbody tr th:only-of-type {\n",
       "        vertical-align: middle;\n",
       "    }\n",
       "\n",
       "    .dataframe tbody tr th {\n",
       "        vertical-align: top;\n",
       "    }\n",
       "\n",
       "    .dataframe thead th {\n",
       "        text-align: right;\n",
       "    }\n",
       "</style>\n",
       "<table border=\"1\" class=\"dataframe\">\n",
       "  <thead>\n",
       "    <tr style=\"text-align: right;\">\n",
       "      <th></th>\n",
       "      <th>准确率(1)</th>\n",
       "      <th>精确率(0)</th>\n",
       "      <th>召回率(1)</th>\n",
       "      <th>FPR(0)</th>\n",
       "      <th>FNR(0)</th>\n",
       "      <th>F1 Score(1)</th>\n",
       "      <th>人口平等 差异(0)</th>\n",
       "      <th>人口平等 比率(1)</th>\n",
       "      <th>机会均等 差异(0)</th>\n",
       "      <th>机会均等 比率(1)</th>\n",
       "    </tr>\n",
       "  </thead>\n",
       "  <tbody>\n",
       "    <tr>\n",
       "      <th>origin</th>\n",
       "      <td>0.862422</td>\n",
       "      <td>0.768377</td>\n",
       "      <td>0.615939</td>\n",
       "      <td>0.059109</td>\n",
       "      <td>0.384061</td>\n",
       "      <td>0.683765</td>\n",
       "      <td>0.169896</td>\n",
       "      <td>0.322507</td>\n",
       "      <td>0.087648</td>\n",
       "      <td>0.295970</td>\n",
       "    </tr>\n",
       "    <tr>\n",
       "      <th>shap-fair</th>\n",
       "      <td>0.864060</td>\n",
       "      <td>0.770888</td>\n",
       "      <td>0.621874</td>\n",
       "      <td>0.058839</td>\n",
       "      <td>0.378126</td>\n",
       "      <td>0.688409</td>\n",
       "      <td>0.178623</td>\n",
       "      <td>0.299347</td>\n",
       "      <td>0.111042</td>\n",
       "      <td>0.248859</td>\n",
       "    </tr>\n",
       "  </tbody>\n",
       "</table>\n",
       "</div>"
      ],
      "text/plain": [
       "             准确率(1)    精确率(0)    召回率(1)    FPR(0)    FNR(0)  F1 Score(1)  \\\n",
       "origin     0.862422  0.768377  0.615939  0.059109  0.384061     0.683765   \n",
       "shap-fair  0.864060  0.770888  0.621874  0.058839  0.378126     0.688409   \n",
       "\n",
       "           人口平等 差异(0)  人口平等 比率(1)  机会均等 差异(0)  机会均等 比率(1)  \n",
       "origin       0.169896    0.322507    0.087648    0.295970  \n",
       "shap-fair    0.178623    0.299347    0.111042    0.248859  "
      ]
     },
     "execution_count": 35,
     "metadata": {},
     "output_type": "execute_result"
    }
   ],
   "source": [
    "df = pd.DataFrame([res_xgboost_baseline, res_fair],index=[\"origin\", \"shap-fair\"])\n",
    "df"
   ]
  },
  {
   "cell_type": "code",
   "execution_count": 36,
   "metadata": {},
   "outputs": [
    {
     "data": {
      "image/png": "[encoded data removed]",
      "text/plain": [
       "<Figure size 1000x500 with 2 Axes>"
      ]
     },
     "metadata": {},
     "output_type": "display_data"
    }
   ],
   "source": [
    "# 画在一张图上\n",
    "cmap = plt.get_cmap(\"tab10\")\n",
    "fig, (ax1, ax2) = plt.subplots(1, 2, figsize=(10, 5))\n",
    "\n",
    "\n",
    "def plot_sub(ax, title, df: pd.DataFrame, filter, linestyle):\n",
    "    # 初始化图例对象\n",
    "    scatter_legend = []\n",
    "    ax.set_title(title)\n",
    "    for i, col in enumerate(df.columns):\n",
    "        if filter(col):\n",
    "            continue\n",
    "        values = df[col].values\n",
    "        x = df.index\n",
    "        ax.plot(x, values, linestyle=linestyle, label=col, color=cmap(i))\n",
    "        scatter = ax.scatter(x, values, marker=\"s\", color=cmap(i))\n",
    "        # 在每个散点的位置添加数值标签\n",
    "        y = values\n",
    "        for i in range(len(x)):\n",
    "            ax.text(x[i], y[i], str(round(y[i], 4)), ha=\"center\", va=\"bottom\")\n",
    "        # 将散点图的图例对象添加到列表中\n",
    "        scatter_legend.append(scatter)\n",
    "    ax.legend()\n",
    "    # ax.legend(bbox_to_anchor=(1, 1), loc=\"upper left\")\n",
    "\n",
    "\n",
    "plot_sub(ax1, \"1 好\", df, lambda x: \"1\" not in x, \"-\")\n",
    "plot_sub(ax2, \"0 好\", df, lambda x: \"0\" not in x, \"--\")\n",
    "\n",
    "plt.show()"
   ]
  },
  {
   "cell_type": "code",
   "execution_count": null,
   "metadata": {},
   "outputs": [],
   "source": []
  }
 ],
 "metadata": {
  "kernelspec": {
   "display_name": "dl",
   "language": "python",
   "name": "python3"
  },
  "language_info": {
   "codemirror_mode": {
    "name": "ipython",
    "version": 3
   },
   "file_extension": ".py",
   "mimetype": "text/x-python",
   "name": "python",
   "nbconvert_exporter": "python",
   "pygments_lexer": "ipython3",
   "version": "3.10.14"
  }
 },
 "nbformat": 4,
 "nbformat_minor": 2
}
