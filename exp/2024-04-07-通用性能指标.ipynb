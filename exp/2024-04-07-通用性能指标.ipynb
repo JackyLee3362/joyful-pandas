{
 "cells": [
  {
   "cell_type": "code",
   "execution_count": 1,
   "metadata": {},
   "outputs": [],
   "source": [
    "import numpy as np\n",
    "import pandas as pd"
   ]
  },
  {
   "cell_type": "code",
   "execution_count": 20,
   "metadata": {},
   "outputs": [],
   "source": [
    "y_true = np.array([1, 1, 1, 0, 0, 1, 0, 0])\n",
    "y_pred = np.array([1, 1, 1, 0, 0, 0, 1, 1])"
   ]
  },
  {
   "cell_type": "markdown",
   "metadata": {},
   "source": [
    "## 准确率\n",
    "\n",
    "$\\text{Accuracy}$ （真阳性+真阴性 占 所有样本的比例）\n",
    "\n",
    "$$\n",
    "\\text{Accuracy} = \\frac{TP+TN}{TP+FN+FP+TN}\n",
    "$$\n"
   ]
  },
  {
   "cell_type": "code",
   "execution_count": 22,
   "metadata": {},
   "outputs": [
    {
     "data": {
      "text/plain": [
       "0.625"
      ]
     },
     "execution_count": 22,
     "metadata": {},
     "output_type": "execute_result"
    }
   ],
   "source": [
    "from sklearn.metrics import accuracy_score\n",
    "\n",
    "accuracy_score(y_true, y_pred)"
   ]
  },
  {
   "cell_type": "markdown",
   "metadata": {},
   "source": [
    "## 精确率\n",
    "\n",
    "$\\text{Precision}$ （真阳性 占 实际阳性 的比例）\n",
    "\n",
    "$$\n",
    "\\text{Precision} = \\frac{TP}{TP+FP}\n",
    "$$\n"
   ]
  },
  {
   "cell_type": "code",
   "execution_count": 24,
   "metadata": {},
   "outputs": [
    {
     "data": {
      "text/plain": [
       "0.6"
      ]
     },
     "execution_count": 24,
     "metadata": {},
     "output_type": "execute_result"
    }
   ],
   "source": [
    "from sklearn.metrics import precision_score\n",
    "\n",
    "precision_score(y_true, y_pred)"
   ]
  },
  {
   "cell_type": "markdown",
   "metadata": {},
   "source": [
    "## 混淆矩阵\n",
    "\n",
    "|          | 预测为正                 | 预测为负                 |\n",
    "| -------- | ------------------------ | ------------------------ |\n",
    "| 实际为正 | True Positive 真阳性 TP  | False Positive 假阳性 FP |\n",
    "| 实际为负 | False Negative 假阴性 FN | True Negative 真阴性 TN  |\n",
    "\n",
    "在 `sklearn.metrics` 的 `confusion_matrix` 中，表示如下\n",
    "\n",
    "|          | 预测为负 | 预测为正 |\n",
    "| -------- | -------- | -------- |\n",
    "| 实际为负 | TN       | FP       |\n",
    "| 实际为正 | FN       | TP       |\n"
   ]
  },
  {
   "cell_type": "code",
   "execution_count": 18,
   "metadata": {},
   "outputs": [
    {
     "name": "stdout",
     "output_type": "stream",
     "text": [
      "混淆矩阵是\n",
      " [[2 1]\n",
      " [1 3]]\n"
     ]
    }
   ],
   "source": [
    "from sklearn.metrics import confusion_matrix\n",
    "\n",
    "matrix = confusion_matrix(y_true=y_true, y_pred=y_pred)\n",
    "print(\"混淆矩阵是\\n\", matrix)\n",
    "tn, fp, fn, tp = matrix.ravel()"
   ]
  },
  {
   "cell_type": "markdown",
   "metadata": {},
   "source": [
    "## 均方误差\n",
    "\n",
    "$$\n",
    "\\text{MSE} = \\frac 1m \\sum_ {i=1}^m (y_i - \\hat{y}_i)^2\n",
    "$$\n"
   ]
  },
  {
   "cell_type": "code",
   "execution_count": 30,
   "metadata": {},
   "outputs": [
    {
     "data": {
      "text/plain": [
       "1.6666666666666667"
      ]
     },
     "execution_count": 30,
     "metadata": {},
     "output_type": "execute_result"
    }
   ],
   "source": [
    "from sklearn.metrics import mean_squared_error\n",
    "y_true = np.array([2, 2, 3])\n",
    "y_pred = np.array([2, 3, 5])\n",
    "mean_squared_error(y_true=y_true, y_pred=y_pred)"
   ]
  },
  {
   "cell_type": "markdown",
   "metadata": {},
   "source": [
    "## 绝对误差\n",
    "\n",
    "$$\n",
    "\\text{MAE} = \\frac 1m \\sum_ {i=1}^m |y_i - \\hat{y}_i|\n",
    "$$"
   ]
  },
  {
   "cell_type": "code",
   "execution_count": 32,
   "metadata": {},
   "outputs": [
    {
     "data": {
      "text/plain": [
       "1.0"
      ]
     },
     "execution_count": 32,
     "metadata": {},
     "output_type": "execute_result"
    }
   ],
   "source": [
    "from sklearn.metrics import mean_absolute_error\n",
    "\n",
    "y_true = np.array([2, 2, 3])\n",
    "y_pred = np.array([2, 3, 5])\n",
    "mean_absolute_error(y_true=y_true, y_pred=y_pred)"
   ]
  },
  {
   "cell_type": "markdown",
   "metadata": {},
   "source": [
    "## ROC 曲线\n",
    "\n",
    "$\\text{ROC curve} $\n",
    "\n",
    "- x轴：$\\text{FPR}$，FPR 是指 在所有实际为阴性的样本中，被错误地判断为阳性的比率\n",
    "- y轴：$\\text{TPR}$，TPR 是指 在所有实际为阳性的样本中，被正确地判断为阳性的比率\n",
    "\n",
    "AUC 被定义为 ROC 曲线的面积"
   ]
  },
  {
   "cell_type": "code",
   "execution_count": 50,
   "metadata": {},
   "outputs": [
    {
     "name": "stdout",
     "output_type": "stream",
     "text": [
      "0.75\n",
      "[ inf 0.8  0.4  0.35 0.1 ]\n",
      "[0.  0.  0.5 0.5 1. ] [0.  0.5 0.5 1.  1. ]\n"
     ]
    },
    {
     "data": {
      "image/png": "[encoded data removed]",
      "text/plain": [
       "<Figure size 640x480 with 1 Axes>"
      ]
     },
     "metadata": {},
     "output_type": "display_data"
    }
   ],
   "source": [
    "import numpy as np\n",
    "from sklearn import metrics\n",
    "import matplotlib.pyplot as plt\n",
    "\n",
    "y = np.array([1, 1, 2, 2])\n",
    "pred = np.array([0.1, 0.4, 0.35, 0.8])\n",
    "# 获得 roc_curve 的 fpr 和 tpr\n",
    "fpr, tpr, thresholds = metrics.roc_curve(y, pred, pos_label=2)\n",
    "print(metrics.auc(fpr, tpr))\n",
    "print(thresholds)\n",
    "print(fpr, tpr)\n",
    "plt.plot(fpr, tpr)\n",
    "plt.show()"
   ]
  },
  {
   "cell_type": "markdown",
   "metadata": {},
   "source": [
    "## PR 曲线\n",
    "\n",
    "Precision-Recall Curve，精确召回曲线"
   ]
  }
 ],
 "metadata": {
  "kernelspec": {
   "display_name": "dl",
   "language": "python",
   "name": "python3"
  },
  "language_info": {
   "codemirror_mode": {
    "name": "ipython",
    "version": 3
   },
   "file_extension": ".py",
   "mimetype": "text/x-python",
   "name": "python",
   "nbconvert_exporter": "python",
   "pygments_lexer": "ipython3",
   "version": "3.10.14"
  }
 },
 "nbformat": 4,
 "nbformat_minor": 2
}
