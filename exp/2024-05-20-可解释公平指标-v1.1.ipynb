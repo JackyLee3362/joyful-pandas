{
 "cells": [
  {
   "cell_type": "markdown",
   "metadata": {},
   "source": [
    "# 可解释公平指标"
   ]
  },
  {
   "cell_type": "markdown",
   "metadata": {},
   "source": [
    "## 实验基本环境设置"
   ]
  },
  {
   "cell_type": "code",
   "execution_count": 1,
   "metadata": {},
   "outputs": [],
   "source": [
    "# 导入依赖\n",
    "import numpy as np\n",
    "import pandas as pd\n",
    "from rich import print\n",
    "import matplotlib.pyplot as plt\n",
    "import os"
   ]
  },
  {
   "cell_type": "code",
   "execution_count": 2,
   "metadata": {},
   "outputs": [],
   "source": [
    "# 字体设置\n",
    "from pylab import mpl\n",
    "# 设置显示中文字体\n",
    "mpl.rcParams[\"font.sans-serif\"] = [\"Microsoft YaHei\"]"
   ]
  },
  {
   "cell_type": "markdown",
   "metadata": {},
   "source": [
    "## 自定义函数"
   ]
  },
  {
   "cell_type": "code",
   "execution_count": 3,
   "metadata": {},
   "outputs": [
    {
     "name": "stderr",
     "output_type": "stream",
     "text": [
      "IProgress not found. Please update jupyter and ipywidgets. See https://ipywidgets.readthedocs.io/en/stable/user_install.html\n"
     ]
    }
   ],
   "source": [
    "# 导入自定义函数\n",
    "%load_ext autoreload\n",
    "%autoreload 2\n",
    "from utils.helper import fairness_metrics, test_model  # 测试各种指标并输出图像\n",
    "from utils.shap_helper import get_ext_train_comp_by_k\n",
    "from model.models import train_model_and_test\n",
    "from mydata.adult_0518 import (\n",
    "    X_train,\n",
    "    y_train,\n",
    "    X_test,\n",
    "    y_test,\n",
    "    sex,\n",
    "    feature_index,\n",
    "    idxs_loc_male,\n",
    "    idxs_loc_female,\n",
    "    X_train_male,\n",
    "    y_train_male,\n",
    "    X_train_female,\n",
    "    y_train_female\n",
    ")  # 获得 数据集 测试集 和 测试集上的敏感属性"
   ]
  },
  {
   "cell_type": "code",
   "execution_count": 4,
   "metadata": {},
   "outputs": [
    {
     "data": {
      "text/plain": [
       "{'准确率[1.]': 0.8624219469751254,\n",
       " '精确率[1.]': 0.7683765203595981,\n",
       " '召回率[1.]': 0.6159389571852479,\n",
       " 'FPR[0.]': 0.05910931174089069,\n",
       " 'FNR[0.]': 0.384061042814752,\n",
       " 'F1 Score[1.]': 0.6837647058823529,\n",
       " '人口平等 差异[0.]': 0.16989595884523423,\n",
       " '人口平等 比率[1.]': 0.32250719180485066,\n",
       " '机会均等 差异[0.]': 0.08764799066199769,\n",
       " '机会均等 比率[1.]': 0.29597011190360795}"
      ]
     },
     "execution_count": 4,
     "metadata": {},
     "output_type": "execute_result"
    }
   ],
   "source": [
    "import xgboost\n",
    "\n",
    "xgboost_origin, res_origin = train_model_and_test(\n",
    "    X_train,\n",
    "    y_train,\n",
    "    X_test,\n",
    "    y_test,\n",
    "    model_cls=xgboost.XGBRegressor,\n",
    "    test_func=test_model,\n",
    "    sensitive_feature=sex,\n",
    "    desc=\"原始组\",\n",
    ")\n",
    "res_origin"
   ]
  },
  {
   "cell_type": "code",
   "execution_count": null,
   "metadata": {},
   "outputs": [],
   "source": []
  },
  {
   "cell_type": "code",
   "execution_count": 5,
   "metadata": {},
   "outputs": [],
   "source": [
    "# 计算得到 shapley values\n",
    "import shap\n",
    "\n",
    "\n",
    "def get_shapley_value(model, X_train):\n",
    "    explainer = shap.Explainer(model)\n",
    "    shap_values = explainer(X_train)\n",
    "    return shap_values\n",
    "\n",
    "\n",
    "shap_values = get_shapley_value(xgboost_origin, X_train)"
   ]
  },
  {
   "cell_type": "code",
   "execution_count": 6,
   "metadata": {},
   "outputs": [
    {
     "data": {
      "text/plain": [
       "(22792, 14)"
      ]
     },
     "execution_count": 6,
     "metadata": {},
     "output_type": "execute_result"
    }
   ],
   "source": [
    "# 获得 shapley values\n",
    "shapley_values = shap_values.values\n",
    "shapley_values.shape"
   ]
  },
  {
   "cell_type": "code",
   "execution_count": 7,
   "metadata": {},
   "outputs": [],
   "source": [
    "# 在 X_train 训练集上，已知 loc 获得 iloc\n",
    "idxs_iloc_in_X_train_male = X_train.index.get_indexer(idxs_loc_male)\n",
    "idxs_iloc_in_X_train_female = X_train.index.get_indexer(idxs_loc_female)"
   ]
  },
  {
   "cell_type": "code",
   "execution_count": 8,
   "metadata": {},
   "outputs": [],
   "source": [
    "# 导入新指标，定义敏感属性\n",
    "from utils.new_index_0518 import (\n",
    "    shapley_distance_between_individual_and_individual as sdii,\n",
    ")\n",
    "from utils.new_index_0518 import shapley_distance_between_individual_and_group as sdig\n",
    "from utils.new_index_0518 import shapley_distance_between_group_and_group as sdgg\n",
    "\n",
    "# 因为 X_train 和 shapley values 是一一对应的，所以可以找到对应的 shapley value\n",
    "shapley_values_male = shapley_values[idxs_iloc_in_X_train_male]\n",
    "shapley_values_female = shapley_values[idxs_iloc_in_X_train_female]\n",
    "A = np.array([feature_index])"
   ]
  },
  {
   "cell_type": "code",
   "execution_count": 9,
   "metadata": {},
   "outputs": [],
   "source": [
    "# 如果有缓存则载入\n",
    "# 没有就运行函数\n",
    "def load_or_run_svgg_and_save(\n",
    "    X,\n",
    "    A,\n",
    "    date,\n",
    "    title,\n",
    "    dir=\"np-cache\",\n",
    "):\n",
    "    filename = f\"{date}-{title}\"\n",
    "    filepath = f\"{dir}/{filename}.npy\"\n",
    "    print(\"文件名为: \", filename)\n",
    "    print(\"文件路径为: \", filepath)\n",
    "\n",
    "    if os.path.exists(filepath):\n",
    "        print(\"发现缓存数据，直接载入\")\n",
    "        return np.load(filepath)\n",
    "    print(\"未发现相关缓存\")\n",
    "    res = sdgg(X, A)\n",
    "    np.save(filepath, res)\n",
    "    print(\"缓存成功\")\n",
    "    return res"
   ]
  },
  {
   "cell_type": "code",
   "execution_count": 10,
   "metadata": {},
   "outputs": [
    {
     "data": {
      "text/html": [
       "<pre style=\"white-space:pre;overflow-x:auto;line-height:normal;font-family:Menlo,'DejaVu Sans Mono',consolas,'Courier New',monospace\">文件名为:  <span style=\"color: #008080; text-decoration-color: #008080; font-weight: bold\">2024</span>-<span style=\"color: #008080; text-decoration-color: #008080; font-weight: bold\">05</span>-<span style=\"color: #008080; text-decoration-color: #008080; font-weight: bold\">19</span>-50min-可解释指标-sv-male\n",
       "</pre>\n"
      ],
      "text/plain": [
       "文件名为:  \u001b[1;36m2024\u001b[0m-\u001b[1;36m05\u001b[0m-\u001b[1;36m19\u001b[0m-50min-可解释指标-sv-male\n"
      ]
     },
     "metadata": {},
     "output_type": "display_data"
    },
    {
     "data": {
      "text/html": [
       "<pre style=\"white-space:pre;overflow-x:auto;line-height:normal;font-family:Menlo,'DejaVu Sans Mono',consolas,'Courier New',monospace\">文件路径为:  np-cache/<span style=\"color: #008080; text-decoration-color: #008080; font-weight: bold\">2024</span>-<span style=\"color: #008080; text-decoration-color: #008080; font-weight: bold\">05</span>-<span style=\"color: #008080; text-decoration-color: #008080; font-weight: bold\">19</span>-50min-可解释指标-sv-male.npy\n",
       "</pre>\n"
      ],
      "text/plain": [
       "文件路径为:  np-cache/\u001b[1;36m2024\u001b[0m-\u001b[1;36m05\u001b[0m-\u001b[1;36m19\u001b[0m-50min-可解释指标-sv-male.npy\n"
      ]
     },
     "metadata": {},
     "output_type": "display_data"
    },
    {
     "data": {
      "text/html": [
       "<pre style=\"white-space:pre;overflow-x:auto;line-height:normal;font-family:Menlo,'DejaVu Sans Mono',consolas,'Courier New',monospace\">发现缓存数据，直接载入\n",
       "</pre>\n"
      ],
      "text/plain": [
       "发现缓存数据，直接载入\n"
      ]
     },
     "metadata": {},
     "output_type": "display_data"
    }
   ],
   "source": [
    "shap_distance_male = load_or_run_svgg_and_save(shapley_values_male, A, date=\"2024-05-19\", title=\"50min-可解释指标-sv-male\")"
   ]
  },
  {
   "cell_type": "code",
   "execution_count": 11,
   "metadata": {},
   "outputs": [
    {
     "data": {
      "text/html": [
       "<pre style=\"white-space:pre;overflow-x:auto;line-height:normal;font-family:Menlo,'DejaVu Sans Mono',consolas,'Courier New',monospace\">文件名为:  <span style=\"color: #008080; text-decoration-color: #008080; font-weight: bold\">2024</span>-<span style=\"color: #008080; text-decoration-color: #008080; font-weight: bold\">05</span>-<span style=\"color: #008080; text-decoration-color: #008080; font-weight: bold\">19</span>-11min-可解释指标-sv-female\n",
       "</pre>\n"
      ],
      "text/plain": [
       "文件名为:  \u001b[1;36m2024\u001b[0m-\u001b[1;36m05\u001b[0m-\u001b[1;36m19\u001b[0m-11min-可解释指标-sv-female\n"
      ]
     },
     "metadata": {},
     "output_type": "display_data"
    },
    {
     "data": {
      "text/html": [
       "<pre style=\"white-space:pre;overflow-x:auto;line-height:normal;font-family:Menlo,'DejaVu Sans Mono',consolas,'Courier New',monospace\">文件路径为:  np-cache/<span style=\"color: #008080; text-decoration-color: #008080; font-weight: bold\">2024</span>-<span style=\"color: #008080; text-decoration-color: #008080; font-weight: bold\">05</span>-<span style=\"color: #008080; text-decoration-color: #008080; font-weight: bold\">19</span>-11min-可解释指标-sv-female.npy\n",
       "</pre>\n"
      ],
      "text/plain": [
       "文件路径为:  np-cache/\u001b[1;36m2024\u001b[0m-\u001b[1;36m05\u001b[0m-\u001b[1;36m19\u001b[0m-11min-可解释指标-sv-female.npy\n"
      ]
     },
     "metadata": {},
     "output_type": "display_data"
    },
    {
     "data": {
      "text/html": [
       "<pre style=\"white-space:pre;overflow-x:auto;line-height:normal;font-family:Menlo,'DejaVu Sans Mono',consolas,'Courier New',monospace\">发现缓存数据，直接载入\n",
       "</pre>\n"
      ],
      "text/plain": [
       "发现缓存数据，直接载入\n"
      ]
     },
     "metadata": {},
     "output_type": "display_data"
    }
   ],
   "source": [
    "shap_distance_female = load_or_run_svgg_and_save(shapley_values_female, A, date=\"2024-05-19\", title=\"11min-可解释指标-sv-female\")"
   ]
  },
  {
   "cell_type": "code",
   "execution_count": 12,
   "metadata": {},
   "outputs": [
    {
     "data": {
      "text/plain": [
       "(array([4404, 6260,  399, ..., 1119, 2458, 4916], dtype=int64), (7482,))"
      ]
     },
     "execution_count": 12,
     "metadata": {},
     "output_type": "execute_result"
    }
   ],
   "source": [
    "# 处理 male\n",
    "# 第一步，排序 idx\n",
    "shap_dis_male_arg_sorted = np.argsort(shap_distance_male)\n",
    "shap_dis_male_arg_sorted, shap_dis_male_arg_sorted.shape\n",
    "# 处理 female\n",
    "shap_dis_female_arg_sorted = np.argsort(shap_distance_female)\n",
    "shap_dis_female_arg_sorted, shap_dis_female_arg_sorted.shape"
   ]
  },
  {
   "cell_type": "code",
   "execution_count": 13,
   "metadata": {},
   "outputs": [],
   "source": [
    "# 找到影响最大的 k 个不公平样本的 idx\n",
    "# k = 10"
   ]
  },
  {
   "cell_type": "code",
   "execution_count": 14,
   "metadata": {},
   "outputs": [],
   "source": [
    "# 可视化地看 不同的数据分布\n",
    "def plt_hist_freq(x, bins=20, xlabel=\"xlabel\", ylabel=\"ylabel\", title=\"title\"):\n",
    "    # 画分布图\n",
    "    counts, bins, _ = plt.hist(x, bins=bins, alpha=0.7, width=0.005)  # 设置直方图的柱子数量\n",
    "    plt.plot((bins[:-1] + bins[1:]) / 2, counts, \"-ro\", alpha=0.3)\n",
    "    plt.xlabel(xlabel)  # x轴标签\n",
    "    plt.ylabel(ylabel)  # y轴标签\n",
    "    plt.title(title)  # 图表标题\n",
    "\n",
    "    # 在每个柱子上显示频率数\n",
    "    for i in range(len(counts)):\n",
    "        if counts[i] > 0:\n",
    "            plt.text(bins[i], counts[i], str(counts[i]), ha=\"center\", va=\"bottom\")\n",
    "    plt.show()"
   ]
  },
  {
   "cell_type": "code",
   "execution_count": 15,
   "metadata": {},
   "outputs": [
    {
     "data": {
      "image/png": "[encoded data removed]",
      "text/plain": [
       "<Figure size 640x480 with 1 Axes>"
      ]
     },
     "metadata": {},
     "output_type": "display_data"
    },
    {
     "data": {
      "image/png": "[encoded data removed]",
      "text/plain": [
       "<Figure size 640x480 with 1 Axes>"
      ]
     },
     "metadata": {},
     "output_type": "display_data"
    }
   ],
   "source": [
    "# 可以看到 大于 0.04 的数据比较少，说明不太合理，认为这些是不合理的数据\n",
    "plt_hist_freq(shap_distance_male, 10, xlabel=\"Shapley Value区间\", ylabel=\"频率数\", title=\"男性 Shapley Value 频率分布图\")\n",
    "plt_hist_freq(shap_distance_female, 10, xlabel=\"Shapley Value区间\", ylabel=\"频率数\", title=\"女性 Shapley Value 频率分布图\")\n"
   ]
  },
  {
   "cell_type": "code",
   "execution_count": 16,
   "metadata": {},
   "outputs": [
    {
     "data": {
      "text/plain": [
       "(58, 603)"
      ]
     },
     "execution_count": 16,
     "metadata": {},
     "output_type": "execute_result"
    }
   ],
   "source": [
    "# 所以设定阈值为 t=0.04\n",
    "t = 0.035\n",
    "# 统计大于阈值的数量\n",
    "np.sum(shap_distance_male > t), np.sum(shap_distance_female > t)"
   ]
  },
  {
   "cell_type": "code",
   "execution_count": 17,
   "metadata": {},
   "outputs": [],
   "source": [
    "# 统计大于阈值的 index\n",
    "unfair_threshold_np_idx_shapley_value_male = np.where(shap_distance_male > t)\n",
    "fair_threshold_np_idx_shapley_value_male = np.where(shap_distance_male <= t)\n",
    "assert len(shap_distance_male) == len(\n",
    "    unfair_threshold_np_idx_shapley_value_male[0]\n",
    ") + len(fair_threshold_np_idx_shapley_value_male[0]), \"和不相等\"\n",
    "# female\n",
    "unfair_threshold_np_idx_shapley_value_female = np.where(shap_distance_female > t)\n",
    "fair_threshold_np_idx_shapley_value_female = np.where(shap_distance_female <= t)\n",
    "assert len(shap_distance_female) == len(\n",
    "    unfair_threshold_np_idx_shapley_value_female[0]\n",
    ") + len(fair_threshold_np_idx_shapley_value_female[0]), \"和不相等\""
   ]
  },
  {
   "cell_type": "code",
   "execution_count": 18,
   "metadata": {},
   "outputs": [],
   "source": [
    "knn_k = 7"
   ]
  },
  {
   "cell_type": "code",
   "execution_count": 19,
   "metadata": {},
   "outputs": [
    {
     "data": {
      "text/html": [
       "<pre style=\"white-space:pre;overflow-x:auto;line-height:normal;font-family:Menlo,'DejaVu Sans Mono',consolas,'Courier New',monospace\">公平样本的大小\n",
       "<span style=\"font-weight: bold\">(</span><span style=\"color: #008080; text-decoration-color: #008080; font-weight: bold\">15252</span>, <span style=\"color: #008080; text-decoration-color: #008080; font-weight: bold\">14</span><span style=\"font-weight: bold\">)</span>\n",
       "</pre>\n"
      ],
      "text/plain": [
       "公平样本的大小\n",
       "\u001b[1m(\u001b[0m\u001b[1;36m15252\u001b[0m, \u001b[1;36m14\u001b[0m\u001b[1m)\u001b[0m\n"
      ]
     },
     "metadata": {},
     "output_type": "display_data"
    },
    {
     "data": {
      "text/html": [
       "<pre style=\"white-space:pre;overflow-x:auto;line-height:normal;font-family:Menlo,'DejaVu Sans Mono',consolas,'Courier New',monospace\">不公平样本的大小\n",
       "<span style=\"font-weight: bold\">(</span><span style=\"color: #008080; text-decoration-color: #008080; font-weight: bold\">58</span>, <span style=\"color: #008080; text-decoration-color: #008080; font-weight: bold\">14</span><span style=\"font-weight: bold\">)</span>\n",
       "</pre>\n"
      ],
      "text/plain": [
       "不公平样本的大小\n",
       "\u001b[1m(\u001b[0m\u001b[1;36m58\u001b[0m, \u001b[1;36m14\u001b[0m\u001b[1m)\u001b[0m\n"
      ]
     },
     "metadata": {},
     "output_type": "display_data"
    },
    {
     "data": {
      "text/plain": [
       "(58, 7)"
      ]
     },
     "execution_count": 19,
     "metadata": {},
     "output_type": "execute_result"
    }
   ],
   "source": [
    "# knn-male\n",
    "# 使用 Knn 算法找到最近邻的 k 个样本 male\n",
    "from sklearn.neighbors import NearestNeighbors\n",
    "\n",
    "# 定义公平样本\n",
    "fair_sample_iloc_in_X_train_male = idxs_iloc_in_X_train_male[\n",
    "    fair_threshold_np_idx_shapley_value_male\n",
    "]\n",
    "fair_samples_male = X_train.iloc[fair_sample_iloc_in_X_train_male]\n",
    "print(\"公平样本的大小\", fair_samples_male.shape)\n",
    "\n",
    "# 定义不公平样本样本\n",
    "unfair_sample_iloc_in_X_train_male = idxs_iloc_in_X_train_male[\n",
    "    unfair_threshold_np_idx_shapley_value_male\n",
    "]\n",
    "unfair_samples_male = X_train.iloc[unfair_sample_iloc_in_X_train_male]\n",
    "print(\"不公平样本的大小\", unfair_samples_male.shape)\n",
    "\n",
    "# 定义 + 训练模型\n",
    "knn = NearestNeighbors(n_neighbors=knn_k)\n",
    "knn.fit(fair_samples_male)\n",
    "# 寻找最近邻的样本\n",
    "distances, idx_of_knn_found_in_fair_samples = knn.kneighbors(unfair_samples_male)\n",
    "# 最近邻的样本\n",
    "idx_of_knn_found_in_fair_samples.shape\n",
    "# 如何找到 X train 上的 knn 个样本"
   ]
  },
  {
   "cell_type": "code",
   "execution_count": 20,
   "metadata": {},
   "outputs": [
    {
     "data": {
      "text/html": [
       "<pre style=\"white-space:pre;overflow-x:auto;line-height:normal;font-family:Menlo,'DejaVu Sans Mono',consolas,'Courier New',monospace\">公平样本的大小\n",
       "<span style=\"font-weight: bold\">(</span><span style=\"color: #008080; text-decoration-color: #008080; font-weight: bold\">6879</span>, <span style=\"color: #008080; text-decoration-color: #008080; font-weight: bold\">14</span><span style=\"font-weight: bold\">)</span>\n",
       "</pre>\n"
      ],
      "text/plain": [
       "公平样本的大小\n",
       "\u001b[1m(\u001b[0m\u001b[1;36m6879\u001b[0m, \u001b[1;36m14\u001b[0m\u001b[1m)\u001b[0m\n"
      ]
     },
     "metadata": {},
     "output_type": "display_data"
    },
    {
     "data": {
      "text/html": [
       "<pre style=\"white-space:pre;overflow-x:auto;line-height:normal;font-family:Menlo,'DejaVu Sans Mono',consolas,'Courier New',monospace\">不公平样本的大小\n",
       "<span style=\"font-weight: bold\">(</span><span style=\"color: #008080; text-decoration-color: #008080; font-weight: bold\">603</span>, <span style=\"color: #008080; text-decoration-color: #008080; font-weight: bold\">14</span><span style=\"font-weight: bold\">)</span>\n",
       "</pre>\n"
      ],
      "text/plain": [
       "不公平样本的大小\n",
       "\u001b[1m(\u001b[0m\u001b[1;36m603\u001b[0m, \u001b[1;36m14\u001b[0m\u001b[1m)\u001b[0m\n"
      ]
     },
     "metadata": {},
     "output_type": "display_data"
    },
    {
     "data": {
      "text/plain": [
       "(603, 7)"
      ]
     },
     "execution_count": 20,
     "metadata": {},
     "output_type": "execute_result"
    }
   ],
   "source": [
    "# knn-female\n",
    "# 使用 Knn 算法找到最近邻的 k 个样本 female\n",
    "from sklearn.neighbors import NearestNeighbors\n",
    "\n",
    "# 定义公平样本\n",
    "fair_sample_iloc_in_X_train_female = idxs_iloc_in_X_train_female[\n",
    "    fair_threshold_np_idx_shapley_value_female\n",
    "]\n",
    "fair_samples_female = X_train.iloc[fair_sample_iloc_in_X_train_female]\n",
    "print(\"公平样本的大小\", fair_samples_female.shape)\n",
    "\n",
    "# 定义不公平样本样本\n",
    "unfair_sample_iloc_in_X_train_female = idxs_iloc_in_X_train_female[\n",
    "    unfair_threshold_np_idx_shapley_value_female\n",
    "]\n",
    "unfair_samples_female = X_train.iloc[unfair_sample_iloc_in_X_train_female]\n",
    "print(\"不公平样本的大小\", unfair_samples_female.shape)\n",
    "\n",
    "# 定义 + 训练模型\n",
    "knn = NearestNeighbors(n_neighbors=knn_k)\n",
    "knn.fit(fair_samples_female)\n",
    "# 寻找最近邻的样本\n",
    "distances, idx_of_knn_found_in_fair_samples = knn.kneighbors(unfair_samples_female)\n",
    "# 最近邻的样本\n",
    "idx_of_knn_found_in_fair_samples.shape\n",
    "# 如何找到 X train 上的 knn 个样本"
   ]
  },
  {
   "cell_type": "code",
   "execution_count": 21,
   "metadata": {},
   "outputs": [
    {
     "data": {
      "text/html": [
       "<pre style=\"white-space:pre;overflow-x:auto;line-height:normal;font-family:Menlo,'DejaVu Sans Mono',consolas,'Courier New',monospace\">不同的数为 <span style=\"color: #008080; text-decoration-color: #008080; font-weight: bold\">35</span> <span style=\"color: #008080; text-decoration-color: #008080; font-weight: bold\">58</span>\n",
       "</pre>\n"
      ],
      "text/plain": [
       "不同的数为 \u001b[1;36m35\u001b[0m \u001b[1;36m58\u001b[0m\n"
      ]
     },
     "metadata": {},
     "output_type": "display_data"
    },
    {
     "data": {
      "text/plain": [
       "(array([ 8357, 20620,  4822,  7389, 10662,  8160,  3787, 17671, 15407,\n",
       "        19011, 16637,  5454,  3030, 20104,  2874,  1436, 18068, 10995,\n",
       "          102,  3799, 13808,  9628,   773,  1161, 20511, 19465,  7720,\n",
       "        22516,  3738, 15914, 15415, 14702, 13755,  6964,  4240],\n",
       "       dtype=int64),\n",
       " 35)"
      ]
     },
     "execution_count": 21,
     "metadata": {},
     "output_type": "execute_result"
    }
   ],
   "source": [
    "from scipy import stats\n",
    "\n",
    "count = 0\n",
    "total = len(unfair_threshold_np_idx_shapley_value_male[0])\n",
    "unfair_male_list = []\n",
    "# 对于每个不公平样本进行遍历\n",
    "for i in range(total):\n",
    "    # 不公平样本\n",
    "    unfair_sample = unfair_threshold_np_idx_shapley_value_male[0][i]\n",
    "    # 映射 index\n",
    "    X_train_idxs_unfair_sample = idxs_iloc_in_X_train_male[unfair_sample]\n",
    "    tmp_unfair_y = y_train.iloc[X_train_idxs_unfair_sample]\n",
    "\n",
    "    # 近邻的公平样本\n",
    "    fair_samples_from_knn = idx_of_knn_found_in_fair_samples[i]\n",
    "    # print(unfair_sample, fair_samples_from_knn)\n",
    "    # 映射 index\n",
    "    X_train_idxs_samples_from_knn = idxs_iloc_in_X_train_male[fair_samples_from_knn]\n",
    "    tmp_y = y_train.iloc[X_train_idxs_samples_from_knn]\n",
    "\n",
    "    # 统计计算\n",
    "    fair_mode = stats.mode(tmp_y.values).mode\n",
    "    if fair_mode != tmp_unfair_y:\n",
    "        count += 1\n",
    "        unfair_male_list.append(X_train_idxs_unfair_sample)\n",
    "print(\"不同的数为\", count, total)\n",
    "unfair_male_list_np = np.array(unfair_male_list)\n",
    "unfair_male_list_np, len(unfair_male_list_np)"
   ]
  },
  {
   "cell_type": "code",
   "execution_count": 22,
   "metadata": {},
   "outputs": [
    {
     "data": {
      "text/html": [
       "<pre style=\"white-space:pre;overflow-x:auto;line-height:normal;font-family:Menlo,'DejaVu Sans Mono',consolas,'Courier New',monospace\">不同的数为 <span style=\"color: #008080; text-decoration-color: #008080; font-weight: bold\">62</span> <span style=\"color: #008080; text-decoration-color: #008080; font-weight: bold\">603</span>\n",
       "</pre>\n"
      ],
      "text/plain": [
       "不同的数为 \u001b[1;36m62\u001b[0m \u001b[1;36m603\u001b[0m\n"
      ]
     },
     "metadata": {},
     "output_type": "display_data"
    },
    {
     "data": {
      "text/plain": [
       "(array([12160, 13622,  2741, 19326, 13881, 10234,  6067,  6958,  3868,\n",
       "         9836,  5089,  4307,  4840,  1872,  2699,  9615,  8115,  6159,\n",
       "        11287,  7511,  1710, 21327, 16895, 17043, 17217,  2401,  1502,\n",
       "        14929,  7417, 12663,  1297,  3369,  4088, 14533, 22377, 19590,\n",
       "        21557,  9506, 15136, 19735, 21280,  9721, 20094, 12735, 15313,\n",
       "         1422,  9777,  9750, 22366, 11425, 17340, 21385, 15975,  8038,\n",
       "         1397, 19855, 11198,  8541,  9875,  7288,  7007, 17732],\n",
       "       dtype=int64),\n",
       " 62)"
      ]
     },
     "execution_count": 22,
     "metadata": {},
     "output_type": "execute_result"
    }
   ],
   "source": [
    "from scipy import stats\n",
    "\n",
    "count = 0\n",
    "total = len(unfair_threshold_np_idx_shapley_value_female[0])\n",
    "unfair_female_list = []\n",
    "# 对于每个不公平样本进行遍历\n",
    "for i in range(total):\n",
    "    # 不公平样本\n",
    "    unfair_sample = unfair_threshold_np_idx_shapley_value_female[0][i]\n",
    "    # 映射 index\n",
    "    X_train_idxs_unfair_sample = idxs_iloc_in_X_train_female[unfair_sample]\n",
    "    tmp_unfair_y = y_train.iloc[X_train_idxs_unfair_sample]\n",
    "\n",
    "    # 近邻的公平样本\n",
    "    fair_samples_from_knn = idx_of_knn_found_in_fair_samples[i]\n",
    "    # print(unfair_sample, fair_samples_from_knn)\n",
    "    # 映射 index\n",
    "    X_train_idxs_samples_from_knn = idxs_iloc_in_X_train_female[fair_samples_from_knn]\n",
    "    tmp_y = y_train.iloc[X_train_idxs_samples_from_knn]\n",
    "\n",
    "    # 统计计算\n",
    "    fair_mode = stats.mode(tmp_y.values).mode\n",
    "    if fair_mode != tmp_unfair_y:\n",
    "        count += 1\n",
    "        unfair_female_list.append(X_train_idxs_unfair_sample)\n",
    "print(\"不同的数为\", count, total)\n",
    "unfair_female_list_np = np.array(unfair_female_list)\n",
    "unfair_female_list_np, len(unfair_female_list_np)"
   ]
  },
  {
   "cell_type": "code",
   "execution_count": 23,
   "metadata": {},
   "outputs": [
    {
     "data": {
      "text/plain": [
       "(97,)"
      ]
     },
     "execution_count": 23,
     "metadata": {},
     "output_type": "execute_result"
    }
   ],
   "source": [
    "# 合并向量\n",
    "unfair_list_np = np.concatenate((unfair_male_list_np, unfair_female_list_np))\n",
    "unfair_list_np.shape"
   ]
  },
  {
   "cell_type": "code",
   "execution_count": 24,
   "metadata": {},
   "outputs": [],
   "source": [
    "y_train_fair = y_train.copy()\n",
    "y_train_fair.iloc[unfair_list_np] = 1 - y_train.iloc[unfair_list_np]"
   ]
  },
  {
   "cell_type": "code",
   "execution_count": 25,
   "metadata": {},
   "outputs": [
    {
     "data": {
      "text/html": [
       "<div>\n",
       "<style scoped>\n",
       "    .dataframe tbody tr th:only-of-type {\n",
       "        vertical-align: middle;\n",
       "    }\n",
       "\n",
       "    .dataframe tbody tr th {\n",
       "        vertical-align: top;\n",
       "    }\n",
       "\n",
       "    .dataframe thead th {\n",
       "        text-align: right;\n",
       "    }\n",
       "</style>\n",
       "<table border=\"1\" class=\"dataframe\">\n",
       "  <thead>\n",
       "    <tr style=\"text-align: right;\">\n",
       "      <th></th>\n",
       "      <th>age</th>\n",
       "      <th>workclass</th>\n",
       "      <th>fnlwgt</th>\n",
       "      <th>education</th>\n",
       "      <th>education.num</th>\n",
       "      <th>marital.status</th>\n",
       "      <th>occupation</th>\n",
       "      <th>relationship</th>\n",
       "      <th>race</th>\n",
       "      <th>sex</th>\n",
       "      <th>capital.gain</th>\n",
       "      <th>capital.loss</th>\n",
       "      <th>hours.per.week</th>\n",
       "      <th>native.country</th>\n",
       "    </tr>\n",
       "  </thead>\n",
       "  <tbody>\n",
       "    <tr>\n",
       "      <th>0</th>\n",
       "      <td>0.078044</td>\n",
       "      <td>0.004163</td>\n",
       "      <td>0.030289</td>\n",
       "      <td>-0.009009</td>\n",
       "      <td>0.077796</td>\n",
       "      <td>0.005915</td>\n",
       "      <td>0.012026</td>\n",
       "      <td>0.135015</td>\n",
       "      <td>0.002613</td>\n",
       "      <td>0.01049</td>\n",
       "      <td>-0.026883</td>\n",
       "      <td>-0.009516</td>\n",
       "      <td>-0.070223</td>\n",
       "      <td>0.00128</td>\n",
       "    </tr>\n",
       "  </tbody>\n",
       "</table>\n",
       "</div>"
      ],
      "text/plain": [
       "        age  workclass    fnlwgt  education  education.num  marital.status  \\\n",
       "0  0.078044   0.004163  0.030289  -0.009009       0.077796        0.005915   \n",
       "\n",
       "   occupation  relationship      race      sex  capital.gain  capital.loss  \\\n",
       "0    0.012026      0.135015  0.002613  0.01049     -0.026883     -0.009516   \n",
       "\n",
       "   hours.per.week  native.country  \n",
       "0       -0.070223         0.00128  "
      ]
     },
     "execution_count": 25,
     "metadata": {},
     "output_type": "execute_result"
    }
   ],
   "source": [
    "# 查看不公平样本的 shapley value 值\n",
    "pd.DataFrame(shapley_values_male[unfair_sample].reshape(1, -1), columns=X_train.columns)"
   ]
  },
  {
   "cell_type": "code",
   "execution_count": 26,
   "metadata": {},
   "outputs": [
    {
     "data": {
      "text/plain": [
       "{'准确率[1.]': 0.8629337700890573,\n",
       " '精确率[1.]': 0.7670157068062827,\n",
       " '召回率[1.]': 0.6210258584145825,\n",
       " 'FPR[0.]': 0.06005398110661268,\n",
       " 'FNR[0.]': 0.37897414158541753,\n",
       " 'F1 Score[1.]': 0.6863434059498713,\n",
       " '人口平等 差异[0.]': 0.17511988146046117,\n",
       " '人口平等 比率[1.]': 0.31183939850588943,\n",
       " '机会均等 差异[0.]': 0.08709493635706733,\n",
       " '机会均等 比率[1.]': 0.25698665440804197}"
      ]
     },
     "execution_count": 26,
     "metadata": {},
     "output_type": "execute_result"
    }
   ],
   "source": [
    "xgboost_fair, res_fair = train_model_and_test(\n",
    "    X_train,\n",
    "    y_train_fair,\n",
    "    X_test,\n",
    "    y_test,\n",
    "    model_cls=xgboost.XGBRegressor,\n",
    "    test_func=test_model,\n",
    "    sensitive_feature=sex,\n",
    "    desc=\"公平组\",\n",
    ")\n",
    "res_fair"
   ]
  },
  {
   "cell_type": "code",
   "execution_count": 27,
   "metadata": {},
   "outputs": [
    {
     "data": {
      "text/plain": [
       "{'准确率[1.]': 0.8624219469751254,\n",
       " '精确率[1.]': 0.7683765203595981,\n",
       " '召回率[1.]': 0.6159389571852479,\n",
       " 'FPR[0.]': 0.05910931174089069,\n",
       " 'FNR[0.]': 0.384061042814752,\n",
       " 'F1 Score[1.]': 0.6837647058823529,\n",
       " '人口平等 差异[0.]': 0.16989595884523423,\n",
       " '人口平等 比率[1.]': 0.32250719180485066,\n",
       " '机会均等 差异[0.]': 0.08764799066199769,\n",
       " '机会均等 比率[1.]': 0.29597011190360795}"
      ]
     },
     "execution_count": 27,
     "metadata": {},
     "output_type": "execute_result"
    }
   ],
   "source": [
    "xgboost_origin, res_origin = train_model_and_test(\n",
    "    X_train,\n",
    "    y_train,\n",
    "    X_test,\n",
    "    y_test,\n",
    "    model_cls=xgboost.XGBRegressor,\n",
    "    test_func=test_model,\n",
    "    sensitive_feature=sex,\n",
    "    desc=\"原始组\",\n",
    ")\n",
    "res_origin"
   ]
  },
  {
   "cell_type": "markdown",
   "metadata": {},
   "source": [
    "## 向 poe 提问\n",
    "\n",
    "样本 `X` 根据 `sex` 分为了 `X_male` 和 `X_female`，定义 `sorted_index = np.argsort(np.sum(X_male, axis=1))` 得到 sorted_index，此时可以 `X[sorted_index]` 是 `X_male` 的子集吗"
   ]
  },
  {
   "cell_type": "code",
   "execution_count": 28,
   "metadata": {},
   "outputs": [
    {
     "data": {
      "text/html": [
       "<pre style=\"white-space:pre;overflow-x:auto;line-height:normal;font-family:Menlo,'DejaVu Sans Mono',consolas,'Courier New',monospace\">两个数组中不同元素的个数为: <span style=\"color: #008080; text-decoration-color: #008080; font-weight: bold\">97</span>\n",
       "</pre>\n"
      ],
      "text/plain": [
       "两个数组中不同元素的个数为: \u001b[1;36m97\u001b[0m\n"
      ]
     },
     "metadata": {},
     "output_type": "display_data"
    }
   ],
   "source": [
    "# 计算不同元素的个数\n",
    "different_count = np.count_nonzero(y_train != y_train_fair)\n",
    "\n",
    "print(\"两个数组中不同元素的个数为:\", different_count)"
   ]
  },
  {
   "cell_type": "code",
   "execution_count": null,
   "metadata": {},
   "outputs": [],
   "source": []
  }
 ],
 "metadata": {
  "kernelspec": {
   "display_name": "dl",
   "language": "python",
   "name": "python3"
  },
  "language_info": {
   "codemirror_mode": {
    "name": "ipython",
    "version": 3
   },
   "file_extension": ".py",
   "mimetype": "text/x-python",
   "name": "python",
   "nbconvert_exporter": "python",
   "pygments_lexer": "ipython3",
   "version": "3.10.14"
  }
 },
 "nbformat": 4,
 "nbformat_minor": 2
}
