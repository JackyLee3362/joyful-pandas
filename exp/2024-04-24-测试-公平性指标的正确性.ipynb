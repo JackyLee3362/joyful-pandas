{
 "cells": [
  {
   "cell_type": "code",
   "execution_count": 10,
   "metadata": {},
   "outputs": [],
   "source": [
    "import numpy as np\n",
    "import pandas as pd\n",
    "from fairlearn.metrics import (\n",
    "    demographic_parity_difference,\n",
    "    demographic_parity_ratio,\n",
    "    equalized_odds_difference,\n",
    "    equalized_odds_ratio,\n",
    "    mean_prediction,\n",
    ")"
   ]
  },
  {
   "cell_type": "markdown",
   "metadata": {},
   "source": [
    "## 群体公平\n",
    "\n",
    "### Demographic Parity（人口学平等性）\n",
    "\n",
    "#### Difference\n",
    "\n",
    "y_true 无影响\n",
    "\n",
    "该值越接近 0 越好\n",
    "\n",
    "$$\n",
    "\\text{Demographic Parity Difference}=||p(\\hat{y}=1 | a) - p(\\hat{y}=1|\\bar{a})||\n",
    "$$\n",
    "\n",
    "#### Ratio\n",
    "\n",
    "该值越接近 1 越好\n",
    "\n",
    "$$\n",
    "\\text{Demographic Parity Ratio}=\n",
    "\\min(\n",
    "    \\frac{p(\\hat{y}=1 | a)}{p(\\hat{y}=1|\\bar{a})}, \n",
    "    \\frac{p(\\hat{y}=1 | \\bar{a})}{p(\\hat{y}=1|a)}\n",
    "    )\n",
    "$$"
   ]
  },
  {
   "cell_type": "code",
   "execution_count": 11,
   "metadata": {},
   "outputs": [
    {
     "data": {
      "text/plain": [
       "('difference', 0.19999999999999996, 'ratio', 0.6666666666666667)"
      ]
     },
     "execution_count": 11,
     "metadata": {},
     "output_type": "execute_result"
    }
   ],
   "source": [
    "y_true = np.array([1, 1, 1, 1, 1, 0, 0, 0, 0, 0])\n",
    "y_pred = np.array([0, 1, 1, 1, 0, 1, 1, 0, 0, 0])\n",
    "feat_sensitve = np.array([1, 0, 1, 0, 1, 0, 1, 0, 1, 0])\n",
    "feat_sensitve = np.where(feat_sensitve > 0, 0, 1)\n",
    "dpd = demographic_parity_difference(y_true, y_pred, sensitive_features=feat_sensitve)\n",
    "dpr = demographic_parity_ratio(y_true, y_pred, sensitive_features=feat_sensitve)\n",
    "\"difference\", dpd, \"ratio\", dpr"
   ]
  },
  {
   "cell_type": "markdown",
   "metadata": {},
   "source": [
    "## 个体公平\n",
    "\n",
    "### 计算 EO Difference 的函数\n",
    "\n",
    "下面两个指标更大的值\n",
    "\n",
    "#### tpr 差距\n",
    "\n",
    "$$\n",
    "\\text{true positive rate difference} = |P[h(X)=1 | A=1, Y=1] - P[h(X)=1 | A=0, Y=1]|\n",
    "$$\n",
    "\n",
    "#### fpr 差距\n",
    "\n",
    "$$\n",
    "\\text{false positive rate difference} = |P[h(X)=1 | A=1, Y=0] - P[h(X)=1 | A=0, Y=0]|\n",
    "$$\n",
    "\n",
    "#### 期望值\n",
    "\n",
    "EO Difference 为 0 表示所有群体拥有相同的 tpr, tnr, fpr, fnr\n",
    "\n",
    "更多参考 `User Guide <disparity_metrics>`.\n",
    "\n",
    "#### 参数\n",
    "\n",
    "- y_true : 真实标签\n",
    "- y_pred : 预测标签，`h(X)` 表示分类器的返回值 \n",
    "- sensitive_features : 敏感属性\n",
    "- method : (str) 如何计算差距，细节详见 `fairlearn.metrics.MetricFrame.difference`\n",
    "- sample_weight : 样本权重\n",
    "\n",
    "#### 返回值\n",
    "\n",
    "浮点型 EO Difference"
   ]
  },
  {
   "cell_type": "code",
   "execution_count": 12,
   "metadata": {},
   "outputs": [
    {
     "name": "stdout",
     "output_type": "stream",
     "text": [
      "[0 1 0 1 0 1 0 1 0 1]\n"
     ]
    },
    {
     "data": {
      "text/plain": [
       "('difference', 0.6666666666666667, 'ratio', 0.3333333333333333)"
      ]
     },
     "execution_count": 12,
     "metadata": {},
     "output_type": "execute_result"
    }
   ],
   "source": [
    "y_true = np.array([1, 1, 1, 1, 1, 0, 0, 0, 0, 0])\n",
    "y_pred = np.array([0, 1, 1, 1, 0, 1, 1, 0, 0, 0])\n",
    "feat_sensitve = np.array([1, 0, 1, 0, 1, 0, 1, 0, 1, 0])\n",
    "feat_sensitve = np.where(feat_sensitve > 0, 0, 1)\n",
    "print(feat_sensitve)\n",
    "eod = equalized_odds_difference(y_true, y_pred, sensitive_features=feat_sensitve)\n",
    "eor = equalized_odds_ratio(y_true, y_pred, sensitive_features=feat_sensitve)\n",
    "\"difference\", eod, \"ratio\", eor"
   ]
  },
  {
   "cell_type": "code",
   "execution_count": 21,
   "metadata": {},
   "outputs": [
    {
     "data": {
      "text/html": [
       "<div>\n",
       "<style scoped>\n",
       "    .dataframe tbody tr th:only-of-type {\n",
       "        vertical-align: middle;\n",
       "    }\n",
       "\n",
       "    .dataframe tbody tr th {\n",
       "        vertical-align: top;\n",
       "    }\n",
       "\n",
       "    .dataframe thead th {\n",
       "        text-align: right;\n",
       "    }\n",
       "</style>\n",
       "<table border=\"1\" class=\"dataframe\">\n",
       "  <thead>\n",
       "    <tr style=\"text-align: right;\">\n",
       "      <th></th>\n",
       "      <th>0</th>\n",
       "      <th>1</th>\n",
       "      <th>2</th>\n",
       "      <th>3</th>\n",
       "      <th>4</th>\n",
       "      <th>5</th>\n",
       "      <th>6</th>\n",
       "      <th>7</th>\n",
       "      <th>8</th>\n",
       "      <th>9</th>\n",
       "    </tr>\n",
       "  </thead>\n",
       "  <tbody>\n",
       "    <tr>\n",
       "      <th>y_true</th>\n",
       "      <td>1</td>\n",
       "      <td>1</td>\n",
       "      <td>1</td>\n",
       "      <td>1</td>\n",
       "      <td>1</td>\n",
       "      <td>0</td>\n",
       "      <td>0</td>\n",
       "      <td>0</td>\n",
       "      <td>0</td>\n",
       "      <td>0</td>\n",
       "    </tr>\n",
       "    <tr>\n",
       "      <th>y_pred</th>\n",
       "      <td>0</td>\n",
       "      <td>1</td>\n",
       "      <td>1</td>\n",
       "      <td>1</td>\n",
       "      <td>0</td>\n",
       "      <td>1</td>\n",
       "      <td>1</td>\n",
       "      <td>0</td>\n",
       "      <td>0</td>\n",
       "      <td>0</td>\n",
       "    </tr>\n",
       "    <tr>\n",
       "      <th>feature_sensitve</th>\n",
       "      <td>1</td>\n",
       "      <td>0</td>\n",
       "      <td>1</td>\n",
       "      <td>0</td>\n",
       "      <td>1</td>\n",
       "      <td>0</td>\n",
       "      <td>1</td>\n",
       "      <td>0</td>\n",
       "      <td>1</td>\n",
       "      <td>0</td>\n",
       "    </tr>\n",
       "  </tbody>\n",
       "</table>\n",
       "</div>"
      ],
      "text/plain": [
       "                  0  1  2  3  4  5  6  7  8  9\n",
       "y_true            1  1  1  1  1  0  0  0  0  0\n",
       "y_pred            0  1  1  1  0  1  1  0  0  0\n",
       "feature_sensitve  1  0  1  0  1  0  1  0  1  0"
      ]
     },
     "execution_count": 21,
     "metadata": {},
     "output_type": "execute_result"
    }
   ],
   "source": [
    "y_true = np.array([1, 1, 1, 1, 1, 0, 0, 0, 0, 0])\n",
    "y_pred = np.array([0, 1, 1, 1, 0, 1, 1, 0, 0, 0])\n",
    "feat_sensitve = np.array([1, 0, 1, 0, 1, 0, 1, 0, 1, 0])\n",
    "\n",
    "# df = pd.DataFrame({\"y_true\": y_true, \"y_pred\": y_pred, \"feat_sensitve\": feat_sensitve})\n",
    "df = pd.DataFrame(\n",
    "    [y_true, y_pred, feat_sensitve], index=[\"y_true\", \"y_pred\", \"feature_sensitve\"]\n",
    ")\n",
    "df"
   ]
  },
  {
   "cell_type": "markdown",
   "metadata": {},
   "source": [
    "[机器学习Fairness-公平性评价指标 - 知乎](https://zhuanlan.zhihu.com/p/600395360)"
   ]
  }
 ],
 "metadata": {
  "kernelspec": {
   "display_name": "dl",
   "language": "python",
   "name": "python3"
  },
  "language_info": {
   "codemirror_mode": {
    "name": "ipython",
    "version": 3
   },
   "file_extension": ".py",
   "mimetype": "text/x-python",
   "name": "python",
   "nbconvert_exporter": "python",
   "pygments_lexer": "ipython3",
   "version": "3.10.14"
  }
 },
 "nbformat": 4,
 "nbformat_minor": 2
}
