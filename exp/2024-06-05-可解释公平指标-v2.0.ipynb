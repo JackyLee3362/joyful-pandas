{
 "cells": [
  {
   "cell_type": "code",
   "execution_count": 1,
   "metadata": {},
   "outputs": [
    {
     "name": "stdout",
     "output_type": "stream",
     "text": [
      "{(0.703665851855809,): ('Male',), (-1.4211290733558493,): ('Female',)}\n"
     ]
    },
    {
     "data": {
      "text/html": [
       "<pre style=\"white-space:pre;overflow-x:auto;line-height:normal;font-family:Menlo,'DejaVu Sans Mono',consolas,'Courier New',monospace\"><span style=\"color: #7fbfbf; text-decoration-color: #7fbfbf\">[22:24:50] </span><span style=\"color: #000080; text-decoration-color: #000080\">INFO    </span> 数据集处理完毕， 遍历 xxx.grouped                                   <a href=\"file://d:\\Dropbox\\Projects\\joyful-pandas\\exp\\utils\\DataPreProcessor_0604.py\" target=\"_blank\"><span style=\"color: #7f7f7f; text-decoration-color: #7f7f7f\">DataPreProcessor_0604.py</span></a><span style=\"color: #7f7f7f; text-decoration-color: #7f7f7f\">:</span><a href=\"file://d:\\Dropbox\\Projects\\joyful-pandas\\exp\\utils\\DataPreProcessor_0604.py#44\" target=\"_blank\"><span style=\"color: #7f7f7f; text-decoration-color: #7f7f7f\">44</span></a>\n",
       "<span style=\"color: #7fbfbf; text-decoration-color: #7fbfbf\">           </span>         查看数据，<span style=\"color: #800080; text-decoration-color: #800080; font-weight: bold\">每个单元是Group</span><span style=\"font-weight: bold\">(</span>scale_name, origin_name , X, y<span style=\"font-weight: bold\">)</span>           <span style=\"color: #7f7f7f; text-decoration-color: #7f7f7f\">                           </span>\n",
       "</pre>\n"
      ],
      "text/plain": [
       "\u001b[2;36m[22:24:50]\u001b[0m\u001b[2;36m \u001b[0m\u001b[34mINFO    \u001b[0m 数据集处理完毕， 遍历 xxx.grouped                                   \u001b]8;id=781036;file://d:\\Dropbox\\Projects\\joyful-pandas\\exp\\utils\\DataPreProcessor_0604.py\u001b\\\u001b[2mDataPreProcessor_0604.py\u001b[0m\u001b]8;;\u001b\\\u001b[2m:\u001b[0m\u001b]8;id=274920;file://d:\\Dropbox\\Projects\\joyful-pandas\\exp\\utils\\DataPreProcessor_0604.py#44\u001b\\\u001b[2m44\u001b[0m\u001b]8;;\u001b\\\n",
       "\u001b[2;36m           \u001b[0m         查看数据，\u001b[1;35m每个单元是Group\u001b[0m\u001b[1m(\u001b[0mscale_name, origin_name , X, y\u001b[1m)\u001b[0m           \u001b[2m                           \u001b[0m\n"
      ]
     },
     "metadata": {},
     "output_type": "display_data"
    }
   ],
   "source": [
    "# 重新加载模块\n",
    "%load_ext autoreload\n",
    "%autoreload 2\n",
    "from utils.DataPreProcessor_0605 import DataPreProcessor \n",
    "\n",
    "sensi_names = [\"sex\"]\n",
    "processor = DataPreProcessor(\n",
    "    data_path=\"../input/adult.csv\", \n",
    "    sensitive_names=sensi_names,\n",
    "    label=\"income\",\n",
    "    label_mapper={\"<=50K\":0, \">50K\":1}\n",
    ")\n"
   ]
  },
  {
   "cell_type": "code",
   "execution_count": 70,
   "metadata": {},
   "outputs": [],
   "source": [
    "group = processor.grouped[0]"
   ]
  },
  {
   "cell_type": "code",
   "execution_count": 126,
   "metadata": {},
   "outputs": [
    {
     "data": {
      "text/plain": [
       "((22792, 14), (22792,), (9769, 14), (9769,))"
      ]
     },
     "execution_count": 126,
     "metadata": {},
     "output_type": "execute_result"
    }
   ],
   "source": [
    "\n",
    "X_train = processor.X_train_label_scale\n",
    "y_train = processor.y_train\n",
    "X_test = processor.X_test_label_scale\n",
    "y_test = processor.y_test\n",
    "sensitive_features = processor.X_test[sensi_names]\n",
    "\n",
    "X_train.shape, y_train.shape, X_test.shape, y_test.shape, "
   ]
  },
  {
   "cell_type": "markdown",
   "metadata": {},
   "source": [
    "## 模型与预测"
   ]
  },
  {
   "cell_type": "code",
   "execution_count": 5,
   "metadata": {},
   "outputs": [],
   "source": [
    "import xgboost\n",
    "model = xgboost.XGBClassifier()\n",
    "model.fit(X_train, y_train)\n",
    "y_pred = model.predict(X_test)\n",
    "# 敏感属性"
   ]
  },
  {
   "cell_type": "code",
   "execution_count": 135,
   "metadata": {},
   "outputs": [],
   "source": [
    "import pandas as pd\n",
    "from sklearn.metrics import (\n",
    "    accuracy_score,\n",
    "    precision_score,\n",
    "    recall_score,\n",
    "    f1_score,\n",
    "    roc_auc_score,\n",
    "    # r2_score, # 决定系数，通常和回归问题相关\n",
    "    # roc_curve, # 返回的数组，暂时不考虑\n",
    "    # classification_report, # 一个报告，用处不大\n",
    ")\n",
    "\n",
    "from fairlearn.metrics import (\n",
    "    demographic_parity_difference,\n",
    "    demographic_parity_ratio,\n",
    "    equalized_odds_difference,\n",
    "    equalized_odds_ratio,\n",
    ")\n",
    "\n",
    "\n",
    "class FairMetric:\n",
    "\n",
    "    def __init__(self, name, y_true, y_pred, sensitive_features: pd.Series = None):\n",
    "        self.y_true = y_true\n",
    "        self.name = name\n",
    "        self.y_pred = y_pred\n",
    "        self.sensitive_features = sensitive_features\n",
    "        self.performance_metrics = pd.Series(name=\"Performance\" + name)\n",
    "        self.fairness_metrics = pd.Series(name=\"Fair\" + name)\n",
    "        self.handle_metrics()\n",
    "\n",
    "    def eval_performance_metrics(self):\n",
    "        \"\"\"评估性能指标\"\"\"\n",
    "        metrics = self.performance_metrics\n",
    "        y_true, y_pred = self.y_true, self.y_pred\n",
    "        metrics[\"准确度(1)\"] = accuracy_score(y_true, y_pred)\n",
    "        metrics[\"精确度(1)\"] = precision_score(y_true, y_pred)\n",
    "        metrics[\"召回率(1)\"] = recall_score(y_true, y_pred)\n",
    "        metrics[\"f1分数(1)\"] = f1_score(y_true, y_pred)\n",
    "        # s['回归系数(1)'] = r2_score(y_true, y_pred)\n",
    "        metrics[\"AUC分数(1)\"] = roc_auc_score(y_true, y_pred)\n",
    "\n",
    "    def eval_fairness_metrics(self):\n",
    "        \"\"\"评估公平性指标\"\"\"\n",
    "        if self.sensitive_features is None:\n",
    "            raise ValueError(\"敏感属性未赋值\")\n",
    "        sf = self.sensitive_features\n",
    "        metrics = self.fairness_metrics\n",
    "        y_true, y_pred = self.y_true, self.y_pred\n",
    "        metrics[\"DP差异(0)\"] = demographic_parity_difference(\n",
    "            y_true, y_pred, sensitive_features=sf\n",
    "        )\n",
    "        metrics[\"DP比率(1)\"] = demographic_parity_ratio(\n",
    "            y_true, y_pred, sensitive_features=sf\n",
    "        )\n",
    "        metrics[\"EO差异(0)\"] = equalized_odds_difference(\n",
    "            y_true, y_pred, sensitive_features=sf\n",
    "        )\n",
    "        metrics[\"EO比率(1)\"] = equalized_odds_ratio(\n",
    "            y_true, y_pred, sensitive_features=sf\n",
    "        )\n",
    "\n",
    "    def handle_metrics(self):\n",
    "        \"\"\"评估性能和公平性指标\"\"\"\n",
    "        self.eval_performance_metrics()\n",
    "        self.eval_fairness_metrics()\n",
    "        self.metrics = pd.concat([self.performance_metrics, self.fairness_metrics])\n",
    "        self.metrics.name = self.name"
   ]
  },
  {
   "cell_type": "code",
   "execution_count": 137,
   "metadata": {},
   "outputs": [
    {
     "data": {
      "text/plain": [
       "准确度(1)      0.871635\n",
       "精确度(1)      0.772044\n",
       "召回率(1)      0.658547\n",
       "f1分数(1)     0.710793\n",
       "AUC分数(1)    0.798650\n",
       "DP差异(0)     0.186382\n",
       "DP比率(1)     0.298818\n",
       "EO差异(0)     0.069172\n",
       "EO比率(1)     0.215589\n",
       "Name: XGBClassifier-baseline, dtype: float64"
      ]
     },
     "execution_count": 137,
     "metadata": {},
     "output_type": "execute_result"
    }
   ],
   "source": [
    "fm = FairMetric(\"XGBClassifier-baseline\", y_test, y_pred, sensitive_features=sensitive_features)\n",
    "fm.metrics"
   ]
  },
  {
   "cell_type": "code",
   "execution_count": null,
   "metadata": {},
   "outputs": [],
   "source": []
  }
 ],
 "metadata": {
  "kernelspec": {
   "display_name": "dl",
   "language": "python",
   "name": "python3"
  },
  "language_info": {
   "codemirror_mode": {
    "name": "ipython",
    "version": 3
   },
   "file_extension": ".py",
   "mimetype": "text/x-python",
   "name": "python",
   "nbconvert_exporter": "python",
   "pygments_lexer": "ipython3",
   "version": "3.10.14"
  }
 },
 "nbformat": 4,
 "nbformat_minor": 2
}
