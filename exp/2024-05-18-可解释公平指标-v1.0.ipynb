{
 "cells": [
  {
   "cell_type": "markdown",
   "metadata": {},
   "source": [
    "# 可解释公平指标"
   ]
  },
  {
   "cell_type": "markdown",
   "metadata": {},
   "source": [
    "## 实验基本环境设置"
   ]
  },
  {
   "cell_type": "code",
   "execution_count": 1,
   "metadata": {},
   "outputs": [],
   "source": [
    "%matplotlib inline\n",
    "# 导入依赖\n",
    "import numpy as np\n",
    "import pandas as pd\n",
    "from rich import print\n",
    "import matplotlib.pyplot as plt"
   ]
  },
  {
   "cell_type": "code",
   "execution_count": 2,
   "metadata": {},
   "outputs": [],
   "source": [
    "# 字体设置\n",
    "from pylab import mpl\n",
    "# 设置显示中文字体\n",
    "mpl.rcParams[\"font.sans-serif\"] = [\"Microsoft YaHei\"]"
   ]
  },
  {
   "cell_type": "markdown",
   "metadata": {},
   "source": [
    "## 自定义函数"
   ]
  },
  {
   "cell_type": "code",
   "execution_count": 3,
   "metadata": {},
   "outputs": [
    {
     "name": "stderr",
     "output_type": "stream",
     "text": [
      "IProgress not found. Please update jupyter and ipywidgets. See https://ipywidgets.readthedocs.io/en/stable/user_install.html\n"
     ]
    }
   ],
   "source": [
    "# 导入自定义函数\n",
    "%load_ext autoreload\n",
    "%autoreload 2\n",
    "from utils.helper import fairness_metrics, test_model  # 测试各种指标并输出图像\n",
    "from utils.shap_helper import get_ext_train_comp_by_k\n",
    "from model.models import train_model_and_test\n",
    "from mydata.adult_0518 import (\n",
    "    X_train,\n",
    "    y_train,\n",
    "    X_test,\n",
    "    y_test,\n",
    "    sex,\n",
    "    feature_index,\n",
    "    idxs_loc_male,\n",
    "    idxs_loc_female,\n",
    "    X_train_male,\n",
    "    y_train_male,\n",
    "    X_train_female,\n",
    "    y_train_female\n",
    ")  # 获得 数据集 测试集 和 测试集上的敏感属性"
   ]
  },
  {
   "cell_type": "code",
   "execution_count": 4,
   "metadata": {},
   "outputs": [],
   "source": [
    "import xgboost\n",
    "\n",
    "xgboost_origin, res_origin = train_model_and_test(\n",
    "    X_train,\n",
    "    y_train,\n",
    "    X_test,\n",
    "    y_test,\n",
    "    model_cls=xgboost.XGBRegressor,\n",
    "    test_func=test_model,\n",
    "    sensitive_feature=sex,\n",
    "    desc=\"原始组\",\n",
    ")"
   ]
  },
  {
   "cell_type": "code",
   "execution_count": 5,
   "metadata": {},
   "outputs": [
    {
     "data": {
      "text/plain": [
       "{'准确率[1.]': 0.8624219469751254,\n",
       " '精确率[1.]': 0.7683765203595981,\n",
       " '召回率[1.]': 0.6159389571852479,\n",
       " 'FPR[0.]': 0.05910931174089069,\n",
       " 'FNR[0.]': 0.384061042814752,\n",
       " 'F1 Score[1.]': 0.6837647058823529,\n",
       " '人口平等 差异[0.]': 0.16989595884523423,\n",
       " '人口平等 比率[1.]': 0.32250719180485066,\n",
       " '机会均等 差异[0.]': 0.08764799066199769,\n",
       " '机会均等 比率[1.]': 0.29597011190360795}"
      ]
     },
     "execution_count": 5,
     "metadata": {},
     "output_type": "execute_result"
    }
   ],
   "source": [
    "res_origin"
   ]
  },
  {
   "cell_type": "code",
   "execution_count": 6,
   "metadata": {},
   "outputs": [],
   "source": [
    "import shap\n",
    "def get_shapley_value(model, X_train):\n",
    "    explainer = shap.Explainer(model)\n",
    "    shap_values = explainer(X_train)\n",
    "    return shap_values\n",
    "shap_values = get_shapley_value(xgboost_origin, X_train)"
   ]
  },
  {
   "cell_type": "code",
   "execution_count": 7,
   "metadata": {},
   "outputs": [
    {
     "data": {
      "text/plain": [
       "(22792, 14)"
      ]
     },
     "execution_count": 7,
     "metadata": {},
     "output_type": "execute_result"
    }
   ],
   "source": [
    "values = shap_values.values\n",
    "values.shape"
   ]
  },
  {
   "cell_type": "code",
   "execution_count": 8,
   "metadata": {},
   "outputs": [
    {
     "data": {
      "text/plain": [
       "array([ 3444, 15723, 16458, ..., 12882, 13343, 10463], dtype=int64)"
      ]
     },
     "execution_count": 8,
     "metadata": {},
     "output_type": "execute_result"
    }
   ],
   "source": [
    "# 首先从 X_train 获得\n",
    "idxs_iloc_male = X_train.index.get_indexer(idxs_loc_male)\n",
    "idxs_iloc_female = X_train.index.get_indexer(idxs_loc_female)\n",
    "idxs_iloc_male\n",
    "# todo 使用 SGII 和 SDIG\n",
    "# 使用 idxs_male 找到 idxs （能对应上 shapley value 中）"
   ]
  },
  {
   "cell_type": "code",
   "execution_count": 9,
   "metadata": {},
   "outputs": [
    {
     "data": {
      "text/plain": [
       "False"
      ]
     },
     "execution_count": 9,
     "metadata": {},
     "output_type": "execute_result"
    }
   ],
   "source": [
    "0 in idxs_iloc_male"
   ]
  },
  {
   "cell_type": "code",
   "execution_count": 10,
   "metadata": {},
   "outputs": [],
   "source": [
    "from utils.new_index_0518 import shapley_distance_between_individual_and_individual as sdii\n",
    "from utils.new_index_0518 import shapley_distance_between_individual_and_group as sdig\n",
    "from utils.new_index_0518 import shapley_distance_between_group_and_group as sdgg\n",
    "sv_male = values[idxs_iloc_male] # 找到了 male 的 shapley_value\n",
    "sv_female = values[idxs_iloc_female]\n",
    "A = np.array([feature_index])"
   ]
  },
  {
   "cell_type": "code",
   "execution_count": 11,
   "metadata": {},
   "outputs": [],
   "source": [
    "import os\n",
    "\n",
    "\n",
    "def load_or_run_svgg_and_save(\n",
    "    X,\n",
    "    A,\n",
    "    date,\n",
    "    title,\n",
    "    dir=\"np-cache\",\n",
    "):\n",
    "    filename = f\"{date}-{title}\"\n",
    "    filepath = f\"{dir}/{filename}.npy\"\n",
    "    print(\"文件名为: \", filename)\n",
    "    print(\"文件路径为: \", filepath)\n",
    "\n",
    "\n",
    "    if os.path.exists(filepath):\n",
    "        print(\"发现缓存数据，直接载入\")\n",
    "        return np.load(filepath)\n",
    "    print(\"未发现相关缓存\")\n",
    "    res = sdgg(X, A)\n",
    "    np.save(filepath, res)\n",
    "    print(\"缓存成功\")\n",
    "    return res"
   ]
  },
  {
   "cell_type": "code",
   "execution_count": 13,
   "metadata": {},
   "outputs": [
    {
     "data": {
      "text/html": [
       "<pre style=\"white-space:pre;overflow-x:auto;line-height:normal;font-family:Menlo,'DejaVu Sans Mono',consolas,'Courier New',monospace\">文件名为:  <span style=\"color: #008080; text-decoration-color: #008080; font-weight: bold\">2024</span>-<span style=\"color: #008080; text-decoration-color: #008080; font-weight: bold\">05</span>-<span style=\"color: #008080; text-decoration-color: #008080; font-weight: bold\">19</span>-11min-可解释指标-sv-female\n",
       "</pre>\n"
      ],
      "text/plain": [
       "文件名为:  \u001b[1;36m2024\u001b[0m-\u001b[1;36m05\u001b[0m-\u001b[1;36m19\u001b[0m-11min-可解释指标-sv-female\n"
      ]
     },
     "metadata": {},
     "output_type": "display_data"
    },
    {
     "data": {
      "text/html": [
       "<pre style=\"white-space:pre;overflow-x:auto;line-height:normal;font-family:Menlo,'DejaVu Sans Mono',consolas,'Courier New',monospace\">文件路径为:  np-cache/<span style=\"color: #008080; text-decoration-color: #008080; font-weight: bold\">2024</span>-<span style=\"color: #008080; text-decoration-color: #008080; font-weight: bold\">05</span>-<span style=\"color: #008080; text-decoration-color: #008080; font-weight: bold\">19</span>-11min-可解释指标-sv-female.npy\n",
       "</pre>\n"
      ],
      "text/plain": [
       "文件路径为:  np-cache/\u001b[1;36m2024\u001b[0m-\u001b[1;36m05\u001b[0m-\u001b[1;36m19\u001b[0m-11min-可解释指标-sv-female.npy\n"
      ]
     },
     "metadata": {},
     "output_type": "display_data"
    },
    {
     "data": {
      "text/html": [
       "<pre style=\"white-space:pre;overflow-x:auto;line-height:normal;font-family:Menlo,'DejaVu Sans Mono',consolas,'Courier New',monospace\">发现缓存数据，直接载入\n",
       "</pre>\n"
      ],
      "text/plain": [
       "发现缓存数据，直接载入\n"
      ]
     },
     "metadata": {},
     "output_type": "display_data"
    }
   ],
   "source": [
    "res_female = load_or_run_svgg_and_save(sv_female, A, date=\"2024-05-19\", title=\"11min-可解释指标-sv-female\")"
   ]
  },
  {
   "cell_type": "code",
   "execution_count": 14,
   "metadata": {},
   "outputs": [
    {
     "data": {
      "text/html": [
       "<pre style=\"white-space:pre;overflow-x:auto;line-height:normal;font-family:Menlo,'DejaVu Sans Mono',consolas,'Courier New',monospace\">文件名为:  <span style=\"color: #008080; text-decoration-color: #008080; font-weight: bold\">2024</span>-<span style=\"color: #008080; text-decoration-color: #008080; font-weight: bold\">05</span>-<span style=\"color: #008080; text-decoration-color: #008080; font-weight: bold\">19</span>-50min-可解释指标-sv-male\n",
       "</pre>\n"
      ],
      "text/plain": [
       "文件名为:  \u001b[1;36m2024\u001b[0m-\u001b[1;36m05\u001b[0m-\u001b[1;36m19\u001b[0m-50min-可解释指标-sv-male\n"
      ]
     },
     "metadata": {},
     "output_type": "display_data"
    },
    {
     "data": {
      "text/html": [
       "<pre style=\"white-space:pre;overflow-x:auto;line-height:normal;font-family:Menlo,'DejaVu Sans Mono',consolas,'Courier New',monospace\">文件路径为:  np-cache/<span style=\"color: #008080; text-decoration-color: #008080; font-weight: bold\">2024</span>-<span style=\"color: #008080; text-decoration-color: #008080; font-weight: bold\">05</span>-<span style=\"color: #008080; text-decoration-color: #008080; font-weight: bold\">19</span>-50min-可解释指标-sv-male.npy\n",
       "</pre>\n"
      ],
      "text/plain": [
       "文件路径为:  np-cache/\u001b[1;36m2024\u001b[0m-\u001b[1;36m05\u001b[0m-\u001b[1;36m19\u001b[0m-50min-可解释指标-sv-male.npy\n"
      ]
     },
     "metadata": {},
     "output_type": "display_data"
    },
    {
     "data": {
      "text/html": [
       "<pre style=\"white-space:pre;overflow-x:auto;line-height:normal;font-family:Menlo,'DejaVu Sans Mono',consolas,'Courier New',monospace\">发现缓存数据，直接载入\n",
       "</pre>\n"
      ],
      "text/plain": [
       "发现缓存数据，直接载入\n"
      ]
     },
     "metadata": {},
     "output_type": "display_data"
    }
   ],
   "source": [
    "res_male = load_or_run_svgg_and_save(sv_female, A, date=\"2024-05-19\", title=\"50min-可解释指标-sv-male\")"
   ]
  },
  {
   "cell_type": "code",
   "execution_count": 15,
   "metadata": {},
   "outputs": [
    {
     "data": {
      "text/plain": [
       "(array([ 3766,  1169,  1806, ..., 12995,   589,   119], dtype=int64), (15310,))"
      ]
     },
     "execution_count": 15,
     "metadata": {},
     "output_type": "execute_result"
    }
   ],
   "source": [
    "res_male_arg_sorted = np.argsort(res_male)\n",
    "res_male_arg_sorted, res_male_arg_sorted.shape"
   ]
  },
  {
   "cell_type": "code",
   "execution_count": 16,
   "metadata": {},
   "outputs": [],
   "source": [
    "k = 10"
   ]
  },
  {
   "cell_type": "code",
   "execution_count": 17,
   "metadata": {},
   "outputs": [
    {
     "data": {
      "text/plain": [
       "array([0.04789126, 0.04857429, 0.04890539, 0.04927978, 0.04949509,\n",
       "       0.05132355, 0.05461958, 0.05793066, 0.06561241, 0.07874709])"
      ]
     },
     "execution_count": 17,
     "metadata": {},
     "output_type": "execute_result"
    }
   ],
   "source": [
    "res_male[res_male_arg_sorted[-k:]]"
   ]
  },
  {
   "cell_type": "code",
   "execution_count": 18,
   "metadata": {},
   "outputs": [],
   "source": [
    "def plt_hist_freq(x, bins=20, xlabel=\"xlabel\", ylabel=\"ylabel\", title=\"title\"):\n",
    "    # 画分布图\n",
    "    counts, bins, _ = plt.hist(x, bins=bins, alpha=0.7, width=0.005)  # 设置直方图的柱子数量\n",
    "    plt.plot((bins[:-1] + bins[1:]) / 2, counts, \"-ro\", alpha=0.3)\n",
    "    plt.xlabel(xlabel)  # x轴标签\n",
    "    plt.ylabel(ylabel)  # y轴标签\n",
    "    plt.title(title)  # 图表标题\n",
    "\n",
    "    # 在每个柱子上显示频率数\n",
    "    for i in range(len(counts)):\n",
    "        if counts[i] > 0:\n",
    "            plt.text(bins[i], counts[i], str(counts[i]), ha=\"center\", va=\"bottom\")\n",
    "    plt.show()"
   ]
  },
  {
   "cell_type": "code",
   "execution_count": 19,
   "metadata": {},
   "outputs": [
    {
     "data": {
      "image/png": "[encoded data removed]",
      "text/plain": [
       "<Figure size 640x480 with 1 Axes>"
      ]
     },
     "metadata": {},
     "output_type": "display_data"
    }
   ],
   "source": [
    "plt_hist_freq(res_male, 10, xlabel=\"Shapley Value区间\", ylabel=\"频率数\", title=\"男性 Shapley Value 频率分布图\")"
   ]
  },
  {
   "cell_type": "code",
   "execution_count": null,
   "metadata": {},
   "outputs": [
    {
     "data": {
      "text/plain": [
       "24"
      ]
     },
     "execution_count": 19,
     "metadata": {},
     "output_type": "execute_result"
    }
   ],
   "source": [
    "# 统计大于阈值的个数\n",
    "t = 0.04\n",
    "count = np.sum(res_male > t)\n",
    "count"
   ]
  },
  {
   "cell_type": "code",
   "execution_count": null,
   "metadata": {},
   "outputs": [
    {
     "data": {
      "text/plain": [
       "(array([    4,   119,   177,   589,  2320,  2531,  2705,  5950,  6167,\n",
       "         6553,  6769,  6926,  7748,  7851,  7909,  9350,  9880, 10855,\n",
       "        11019, 11507, 11731, 12090, 12371, 12995], dtype=int64),)"
      ]
     },
     "execution_count": 20,
     "metadata": {},
     "output_type": "execute_result"
    }
   ],
   "source": [
    "# 统计大于阈值的 index\n",
    "res_male_t_indices = np.where(res_male > t)\n",
    "res_male_t_indices"
   ]
  },
  {
   "cell_type": "code",
   "execution_count": null,
   "metadata": {},
   "outputs": [
    {
     "data": {
      "text/plain": [
       "((15286, 14), (15310, 14), 24)"
      ]
     },
     "execution_count": 21,
     "metadata": {},
     "output_type": "execute_result"
    }
   ],
   "source": [
    "# 从 res_male 中剔除这些 indices\n",
    "# ==> params\n",
    "X = sv_male\n",
    "idx = res_male_t_indices\n",
    "# ==> def\n",
    "# 给定 X 和 idx，选择不在 idx 中的 X 子集\n",
    "selected_X = X[np.isin(np.arange(len(X)), idx, invert=True)]\n",
    "# <== end\n",
    "fair_sv_male = selected_X\n",
    "fair_sv_male.shape, sv_male.shape, len(res_male_t_indices[0])"
   ]
  },
  {
   "cell_type": "code",
   "execution_count": null,
   "metadata": {},
   "outputs": [
    {
     "data": {
      "text/plain": [
       "array([[   21,     1,     3,    17,     6,    16,    28],\n",
       "       [11911,  7469, 11847,  9619,  3604,  2793,  3173],\n",
       "       [  716,   186,   667, 10801,   587,  6678,   791],\n",
       "       [ 4711,  6295, 11194, 13915, 14656,  7077,  3135],\n",
       "       [14146,  6446,  4845,  4711, 14656, 10276,  5918],\n",
       "       [10293,  4644,  9855,  3177, 13915, 13223,  2617],\n",
       "       [ 4845,  6446, 10276,  4711, 11307,  5409,  9664],\n",
       "       [ 8767,  3673,  9320, 10642,  7567,  9664, 10046],\n",
       "       [10705,  2930,  6597,  8044,  9825,  9827,  3382],\n",
       "       [10733, 11596,  9664,  4774,  3798, 12092, 14063],\n",
       "       [11145,  6744,  7198,  2614,  5002, 10015, 14680],\n",
       "       [14063,  9886, 11596, 10733,  7357,  9664,  4774],\n",
       "       [14064,  7132, 11586,  3360, 13795, 12372, 10420],\n",
       "       [ 4087, 13544, 14965,  3911, 10855,  7896,  5834],\n",
       "       [14146,  4845,  6446, 12089,  7357,  5536, 11274],\n",
       "       [ 4845,  6446, 14146,  7357,  5536, 11596,  4711],\n",
       "       [11274,  4215,  4781, 10800, 11438, 12502, 11189],\n",
       "       [ 5638, 15095,  5183, 10734,  9736, 12395,  5082],\n",
       "       [ 8956, 12496,  2386,  8497, 14161, 11847, 13460],\n",
       "       [13663, 10390,  4185, 14954,  6929, 13929,  5504],\n",
       "       [ 4711, 13915,  6446,  4845, 13655,  7798,  9855],\n",
       "       [ 2893, 14656, 10276,  2977,  5409,  6446, 14146],\n",
       "       [12718, 10334, 10420,  6224,  8559, 12372,  7132],\n",
       "       [ 9862,  4510, 14954, 11189,  8956, 12502, 11274]], dtype=int64)"
      ]
     },
     "execution_count": 22,
     "metadata": {},
     "output_type": "execute_result"
    }
   ],
   "source": [
    "# 使用 Knn 算法找到最近邻的 k 个样本（但是是使用 shapley value 找近邻的），可能会有点问题\n",
    "from sklearn.neighbors import NearestNeighbors \n",
    "# ==> params\n",
    "X = fair_sv_male\n",
    "target = sv_male[res_male_t_indices]\n",
    "# ==> def\n",
    "knn = NearestNeighbors(n_neighbors=7)\n",
    "knn.fit(X)\n",
    "distances, indices = knn.kneighbors(target)\n",
    "# <== end\n",
    "indices"
   ]
  },
  {
   "cell_type": "code",
   "execution_count": null,
   "metadata": {},
   "outputs": [
    {
     "data": {
      "text/html": [
       "<pre style=\"white-space:pre;overflow-x:auto;line-height:normal;font-family:Menlo,'DejaVu Sans Mono',consolas,'Courier New',monospace\"><span style=\"color: #008080; text-decoration-color: #008080; font-weight: bold\">4</span> <span style=\"font-weight: bold\">[</span><span style=\"color: #008080; text-decoration-color: #008080; font-weight: bold\">21</span>  <span style=\"color: #008080; text-decoration-color: #008080; font-weight: bold\">1</span>  <span style=\"color: #008080; text-decoration-color: #008080; font-weight: bold\">3</span> <span style=\"color: #008080; text-decoration-color: #008080; font-weight: bold\">17</span>  <span style=\"color: #008080; text-decoration-color: #008080; font-weight: bold\">6</span> <span style=\"color: #008080; text-decoration-color: #008080; font-weight: bold\">16</span> <span style=\"color: #008080; text-decoration-color: #008080; font-weight: bold\">28</span><span style=\"font-weight: bold\">]</span>\n",
       "</pre>\n"
      ],
      "text/plain": [
       "\u001b[1;36m4\u001b[0m \u001b[1m[\u001b[0m\u001b[1;36m21\u001b[0m  \u001b[1;36m1\u001b[0m  \u001b[1;36m3\u001b[0m \u001b[1;36m17\u001b[0m  \u001b[1;36m6\u001b[0m \u001b[1;36m16\u001b[0m \u001b[1;36m28\u001b[0m\u001b[1m]\u001b[0m\n"
      ]
     },
     "metadata": {},
     "output_type": "display_data"
    }
   ],
   "source": [
    "for i in range(len(res_male_t_indices)):\n",
    "    tmp_unfair_i = res_male_t_indices[0][i]\n",
    "    tmp_knn_i = indices[i]\n",
    "    print(tmp_unfair_i, tmp_knn_i)\n",
    "    break"
   ]
  },
  {
   "cell_type": "code",
   "execution_count": null,
   "metadata": {},
   "outputs": [
    {
     "data": {
      "text/html": [
       "<div>\n",
       "<style scoped>\n",
       "    .dataframe tbody tr th:only-of-type {\n",
       "        vertical-align: middle;\n",
       "    }\n",
       "\n",
       "    .dataframe tbody tr th {\n",
       "        vertical-align: top;\n",
       "    }\n",
       "\n",
       "    .dataframe thead th {\n",
       "        text-align: right;\n",
       "    }\n",
       "</style>\n",
       "<table border=\"1\" class=\"dataframe\">\n",
       "  <thead>\n",
       "    <tr style=\"text-align: right;\">\n",
       "      <th></th>\n",
       "      <th>age</th>\n",
       "      <th>workclass</th>\n",
       "      <th>fnlwgt</th>\n",
       "      <th>education</th>\n",
       "      <th>education.num</th>\n",
       "      <th>marital.status</th>\n",
       "      <th>occupation</th>\n",
       "      <th>relationship</th>\n",
       "      <th>race</th>\n",
       "      <th>sex</th>\n",
       "      <th>capital.gain</th>\n",
       "      <th>capital.loss</th>\n",
       "      <th>hours.per.week</th>\n",
       "      <th>native.country</th>\n",
       "    </tr>\n",
       "  </thead>\n",
       "  <tbody>\n",
       "    <tr>\n",
       "      <th>0</th>\n",
       "      <td>0.015843</td>\n",
       "      <td>-0.003809</td>\n",
       "      <td>-0.009413</td>\n",
       "      <td>0.029998</td>\n",
       "      <td>0.197637</td>\n",
       "      <td>-0.012235</td>\n",
       "      <td>0.025448</td>\n",
       "      <td>-0.001932</td>\n",
       "      <td>0.002582</td>\n",
       "      <td>0.022703</td>\n",
       "      <td>-0.008845</td>\n",
       "      <td>0.502981</td>\n",
       "      <td>-0.009742</td>\n",
       "      <td>-0.000773</td>\n",
       "    </tr>\n",
       "  </tbody>\n",
       "</table>\n",
       "</div>"
      ],
      "text/plain": [
       "        age  workclass    fnlwgt  education  education.num  marital.status  \\\n",
       "0  0.015843  -0.003809 -0.009413   0.029998       0.197637       -0.012235   \n",
       "\n",
       "   occupation  relationship      race       sex  capital.gain  capital.loss  \\\n",
       "0    0.025448     -0.001932  0.002582  0.022703     -0.008845      0.502981   \n",
       "\n",
       "   hours.per.week  native.country  \n",
       "0       -0.009742       -0.000773  "
      ]
     },
     "execution_count": 24,
     "metadata": {},
     "output_type": "execute_result"
    }
   ],
   "source": [
    "# 查看不公平样本的 shapley value 值\n",
    "pd.DataFrame(sv_male[tmp_unfair_i].reshape(1, -1), columns=X_train.columns)"
   ]
  },
  {
   "cell_type": "code",
   "execution_count": null,
   "metadata": {},
   "outputs": [
    {
     "data": {
      "text/html": [
       "<div>\n",
       "<style scoped>\n",
       "    .dataframe tbody tr th:only-of-type {\n",
       "        vertical-align: middle;\n",
       "    }\n",
       "\n",
       "    .dataframe tbody tr th {\n",
       "        vertical-align: top;\n",
       "    }\n",
       "\n",
       "    .dataframe thead th {\n",
       "        text-align: right;\n",
       "    }\n",
       "</style>\n",
       "<table border=\"1\" class=\"dataframe\">\n",
       "  <thead>\n",
       "    <tr style=\"text-align: right;\">\n",
       "      <th></th>\n",
       "      <th>age</th>\n",
       "      <th>workclass</th>\n",
       "      <th>fnlwgt</th>\n",
       "      <th>education</th>\n",
       "      <th>education.num</th>\n",
       "      <th>marital.status</th>\n",
       "      <th>occupation</th>\n",
       "      <th>relationship</th>\n",
       "      <th>race</th>\n",
       "      <th>sex</th>\n",
       "      <th>capital.gain</th>\n",
       "      <th>capital.loss</th>\n",
       "      <th>hours.per.week</th>\n",
       "      <th>native.country</th>\n",
       "    </tr>\n",
       "  </thead>\n",
       "  <tbody>\n",
       "    <tr>\n",
       "      <th>32098</th>\n",
       "      <td>0.101484</td>\n",
       "      <td>2.600478</td>\n",
       "      <td>-1.494279</td>\n",
       "      <td>-0.332263</td>\n",
       "      <td>1.133894</td>\n",
       "      <td>-0.402341</td>\n",
       "      <td>-0.782234</td>\n",
       "      <td>2.214196</td>\n",
       "      <td>0.392980</td>\n",
       "      <td>-1.430470</td>\n",
       "      <td>-0.145189</td>\n",
       "      <td>-0.217407</td>\n",
       "      <td>-1.662414</td>\n",
       "      <td>0.262317</td>\n",
       "    </tr>\n",
       "    <tr>\n",
       "      <th>25206</th>\n",
       "      <td>0.028248</td>\n",
       "      <td>-1.884720</td>\n",
       "      <td>0.438778</td>\n",
       "      <td>0.184396</td>\n",
       "      <td>-0.423425</td>\n",
       "      <td>-0.402341</td>\n",
       "      <td>-0.026696</td>\n",
       "      <td>-0.899410</td>\n",
       "      <td>0.392980</td>\n",
       "      <td>0.699071</td>\n",
       "      <td>-0.145189</td>\n",
       "      <td>-0.217407</td>\n",
       "      <td>-0.200753</td>\n",
       "      <td>0.262317</td>\n",
       "    </tr>\n",
       "    <tr>\n",
       "      <th>23491</th>\n",
       "      <td>0.247956</td>\n",
       "      <td>-0.090641</td>\n",
       "      <td>0.045292</td>\n",
       "      <td>1.217715</td>\n",
       "      <td>-0.034095</td>\n",
       "      <td>0.926666</td>\n",
       "      <td>-0.782234</td>\n",
       "      <td>-0.276689</td>\n",
       "      <td>0.392980</td>\n",
       "      <td>-1.430470</td>\n",
       "      <td>-0.145189</td>\n",
       "      <td>-0.217407</td>\n",
       "      <td>-0.038346</td>\n",
       "      <td>0.262317</td>\n",
       "    </tr>\n",
       "    <tr>\n",
       "      <th>12367</th>\n",
       "      <td>-0.850587</td>\n",
       "      <td>-1.884720</td>\n",
       "      <td>0.793152</td>\n",
       "      <td>0.184396</td>\n",
       "      <td>-0.423425</td>\n",
       "      <td>0.926666</td>\n",
       "      <td>-0.530388</td>\n",
       "      <td>0.968753</td>\n",
       "      <td>0.392980</td>\n",
       "      <td>0.699071</td>\n",
       "      <td>-0.145189</td>\n",
       "      <td>-0.217407</td>\n",
       "      <td>-0.038346</td>\n",
       "      <td>0.262317</td>\n",
       "    </tr>\n",
       "    <tr>\n",
       "      <th>7054</th>\n",
       "      <td>-0.044989</td>\n",
       "      <td>-2.781760</td>\n",
       "      <td>-0.853275</td>\n",
       "      <td>0.442726</td>\n",
       "      <td>1.523223</td>\n",
       "      <td>-0.402341</td>\n",
       "      <td>-0.782234</td>\n",
       "      <td>-0.899410</td>\n",
       "      <td>0.392980</td>\n",
       "      <td>0.699071</td>\n",
       "      <td>-0.145189</td>\n",
       "      <td>-0.217407</td>\n",
       "      <td>-0.038346</td>\n",
       "      <td>0.262317</td>\n",
       "    </tr>\n",
       "    <tr>\n",
       "      <th>...</th>\n",
       "      <td>...</td>\n",
       "      <td>...</td>\n",
       "      <td>...</td>\n",
       "      <td>...</td>\n",
       "      <td>...</td>\n",
       "      <td>...</td>\n",
       "      <td>...</td>\n",
       "      <td>...</td>\n",
       "      <td>...</td>\n",
       "      <td>...</td>\n",
       "      <td>...</td>\n",
       "      <td>...</td>\n",
       "      <td>...</td>\n",
       "      <td>...</td>\n",
       "    </tr>\n",
       "    <tr>\n",
       "      <th>13123</th>\n",
       "      <td>3.763293</td>\n",
       "      <td>1.703439</td>\n",
       "      <td>0.870243</td>\n",
       "      <td>1.217715</td>\n",
       "      <td>-0.034095</td>\n",
       "      <td>-0.402341</td>\n",
       "      <td>-0.530388</td>\n",
       "      <td>-0.899410</td>\n",
       "      <td>0.392980</td>\n",
       "      <td>0.699071</td>\n",
       "      <td>-0.145189</td>\n",
       "      <td>-0.217407</td>\n",
       "      <td>-0.038346</td>\n",
       "      <td>0.262317</td>\n",
       "    </tr>\n",
       "    <tr>\n",
       "      <th>19648</th>\n",
       "      <td>-0.191461</td>\n",
       "      <td>-0.090641</td>\n",
       "      <td>0.847831</td>\n",
       "      <td>0.184396</td>\n",
       "      <td>-0.423425</td>\n",
       "      <td>-0.402341</td>\n",
       "      <td>1.736225</td>\n",
       "      <td>-0.899410</td>\n",
       "      <td>0.392980</td>\n",
       "      <td>0.699071</td>\n",
       "      <td>-0.145189</td>\n",
       "      <td>-0.217407</td>\n",
       "      <td>-0.038346</td>\n",
       "      <td>0.262317</td>\n",
       "    </tr>\n",
       "    <tr>\n",
       "      <th>9845</th>\n",
       "      <td>-0.923823</td>\n",
       "      <td>-0.090641</td>\n",
       "      <td>-1.302317</td>\n",
       "      <td>-2.140570</td>\n",
       "      <td>-0.812755</td>\n",
       "      <td>0.926666</td>\n",
       "      <td>1.232533</td>\n",
       "      <td>0.346032</td>\n",
       "      <td>-1.963453</td>\n",
       "      <td>0.699071</td>\n",
       "      <td>-0.145189</td>\n",
       "      <td>-0.217407</td>\n",
       "      <td>0.854891</td>\n",
       "      <td>0.262317</td>\n",
       "    </tr>\n",
       "    <tr>\n",
       "      <th>10799</th>\n",
       "      <td>0.394429</td>\n",
       "      <td>-0.090641</td>\n",
       "      <td>-0.704154</td>\n",
       "      <td>0.442726</td>\n",
       "      <td>1.523223</td>\n",
       "      <td>-0.402341</td>\n",
       "      <td>-0.782234</td>\n",
       "      <td>-0.899410</td>\n",
       "      <td>0.392980</td>\n",
       "      <td>0.699071</td>\n",
       "      <td>-0.145189</td>\n",
       "      <td>-0.217407</td>\n",
       "      <td>-0.038346</td>\n",
       "      <td>0.262317</td>\n",
       "    </tr>\n",
       "    <tr>\n",
       "      <th>2732</th>\n",
       "      <td>0.028248</td>\n",
       "      <td>-0.090641</td>\n",
       "      <td>0.326815</td>\n",
       "      <td>0.184396</td>\n",
       "      <td>-0.423425</td>\n",
       "      <td>-0.402341</td>\n",
       "      <td>-1.034080</td>\n",
       "      <td>-0.899410</td>\n",
       "      <td>0.392980</td>\n",
       "      <td>0.699071</td>\n",
       "      <td>0.850271</td>\n",
       "      <td>-0.217407</td>\n",
       "      <td>-0.038346</td>\n",
       "      <td>0.262317</td>\n",
       "    </tr>\n",
       "  </tbody>\n",
       "</table>\n",
       "<p>22792 rows × 14 columns</p>\n",
       "</div>"
      ],
      "text/plain": [
       "            age  workclass    fnlwgt  education  education.num  \\\n",
       "32098  0.101484   2.600478 -1.494279  -0.332263       1.133894   \n",
       "25206  0.028248  -1.884720  0.438778   0.184396      -0.423425   \n",
       "23491  0.247956  -0.090641  0.045292   1.217715      -0.034095   \n",
       "12367 -0.850587  -1.884720  0.793152   0.184396      -0.423425   \n",
       "7054  -0.044989  -2.781760 -0.853275   0.442726       1.523223   \n",
       "...         ...        ...       ...        ...            ...   \n",
       "13123  3.763293   1.703439  0.870243   1.217715      -0.034095   \n",
       "19648 -0.191461  -0.090641  0.847831   0.184396      -0.423425   \n",
       "9845  -0.923823  -0.090641 -1.302317  -2.140570      -0.812755   \n",
       "10799  0.394429  -0.090641 -0.704154   0.442726       1.523223   \n",
       "2732   0.028248  -0.090641  0.326815   0.184396      -0.423425   \n",
       "\n",
       "       marital.status  occupation  relationship      race       sex  \\\n",
       "32098       -0.402341   -0.782234      2.214196  0.392980 -1.430470   \n",
       "25206       -0.402341   -0.026696     -0.899410  0.392980  0.699071   \n",
       "23491        0.926666   -0.782234     -0.276689  0.392980 -1.430470   \n",
       "12367        0.926666   -0.530388      0.968753  0.392980  0.699071   \n",
       "7054        -0.402341   -0.782234     -0.899410  0.392980  0.699071   \n",
       "...               ...         ...           ...       ...       ...   \n",
       "13123       -0.402341   -0.530388     -0.899410  0.392980  0.699071   \n",
       "19648       -0.402341    1.736225     -0.899410  0.392980  0.699071   \n",
       "9845         0.926666    1.232533      0.346032 -1.963453  0.699071   \n",
       "10799       -0.402341   -0.782234     -0.899410  0.392980  0.699071   \n",
       "2732        -0.402341   -1.034080     -0.899410  0.392980  0.699071   \n",
       "\n",
       "       capital.gain  capital.loss  hours.per.week  native.country  \n",
       "32098     -0.145189     -0.217407       -1.662414        0.262317  \n",
       "25206     -0.145189     -0.217407       -0.200753        0.262317  \n",
       "23491     -0.145189     -0.217407       -0.038346        0.262317  \n",
       "12367     -0.145189     -0.217407       -0.038346        0.262317  \n",
       "7054      -0.145189     -0.217407       -0.038346        0.262317  \n",
       "...             ...           ...             ...             ...  \n",
       "13123     -0.145189     -0.217407       -0.038346        0.262317  \n",
       "19648     -0.145189     -0.217407       -0.038346        0.262317  \n",
       "9845      -0.145189     -0.217407        0.854891        0.262317  \n",
       "10799     -0.145189     -0.217407       -0.038346        0.262317  \n",
       "2732       0.850271     -0.217407       -0.038346        0.262317  \n",
       "\n",
       "[22792 rows x 14 columns]"
      ]
     },
     "execution_count": 25,
     "metadata": {},
     "output_type": "execute_result"
    }
   ],
   "source": [
    "X_train"
   ]
  }
 ],
 "metadata": {
  "kernelspec": {
   "display_name": "dl",
   "language": "python",
   "name": "python3"
  },
  "language_info": {
   "codemirror_mode": {
    "name": "ipython",
    "version": 3
   },
   "file_extension": ".py",
   "mimetype": "text/x-python",
   "name": "python",
   "nbconvert_exporter": "python",
   "pygments_lexer": "ipython3",
   "version": "3.10.14"
  }
 },
 "nbformat": 4,
 "nbformat_minor": 2
}
