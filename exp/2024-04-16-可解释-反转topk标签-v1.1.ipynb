{
 "cells": [
  {
   "cell_type": "markdown",
   "metadata": {},
   "source": [
    "# 实验 v1.1（单文件）\n",
    "\n",
    "## 思路\n",
    "\n",
    "使用【可解释方法】对实验数据【预处理】消除歧视样本，并【重新训练】，目的是提升【模型的公平性】\n",
    "\n",
    "\n",
    "## 实验简介\n",
    "\n",
    "1. 选择数据集 --> Adult\n",
    "2. 选择训练模型 --> XGboost\n",
    "3. 选择可解释模型 --> Shap\n",
    "4. 选择不公平的数据样本 --> 选择敏感属性的 |shap_values| 的较大值\n",
    "5. 选择 k1 个最不公平的数据样本 --> k1=1000 约占训练集的 5%\n",
    "6. 构造 k2 个预处理样本呢 --> 令 k2=k1\n",
    "7. 选择预处理策略 --> 更改敏感属性标签并加入训练集中\n",
    "8. 选择公平性指标 --> dp 和 eo\n",
    "\n",
    "## 如何优化\n",
    "\n",
    "1. 如何使用可解释的输出来选择不公平的数据样本\n",
    "2. 选择多少个样本（百分比）\n",
    "3. 构造样本时，是保持不变（`k1=k2`）还是膨胀（`k1<k2`）\n",
    "4. 如何选择预处理策略，直接加入后，X_train 是否要重新缩放\n",
    "5. 如何选择公平性指标\n",
    "\n",
    "## 存在的问题\n",
    "\n",
    "1. 感觉指标不充分\n",
    "2. \n"
   ]
  },
  {
   "cell_type": "markdown",
   "metadata": {},
   "source": [
    "## 实验基本环境设置"
   ]
  },
  {
   "cell_type": "code",
   "execution_count": 79,
   "metadata": {},
   "outputs": [],
   "source": [
    "# 导入依赖\n",
    "import shap\n",
    "import numpy as np\n",
    "import pandas as pd\n"
   ]
  },
  {
   "cell_type": "code",
   "execution_count": 80,
   "metadata": {},
   "outputs": [],
   "source": [
    "# 字体设置\n",
    "from pylab import mpl\n",
    "# 设置显示中文字体\n",
    "mpl.rcParams[\"font.sans-serif\"] = [\"SimHei\"]"
   ]
  },
  {
   "cell_type": "markdown",
   "metadata": {},
   "source": [
    "## 加载原始数据"
   ]
  },
  {
   "cell_type": "code",
   "execution_count": 81,
   "metadata": {},
   "outputs": [],
   "source": [
    "# 加载数据\n",
    "file = ('../input/adult.csv')\n",
    "df = pd.read_csv(file, encoding='latin-1')"
   ]
  },
  {
   "cell_type": "markdown",
   "metadata": {},
   "source": [
    "## 数据预处理部分"
   ]
  },
  {
   "cell_type": "code",
   "execution_count": 82,
   "metadata": {},
   "outputs": [],
   "source": [
    "# 数据预处理\n",
    "df[df == '?'] = np.nan\n",
    "for col in ['workclass', 'occupation', 'native.country']:\n",
    "    df[col].fillna(df[col].mode()[0], inplace=True)\n",
    "X = df.drop(['income'], axis=1)\n",
    "y = df['income']\n",
    "y = y.map({\"<=50K\":0, \">50K\":1})\n",
    "# y"
   ]
  },
  {
   "cell_type": "code",
   "execution_count": 83,
   "metadata": {},
   "outputs": [],
   "source": [
    "# 函数：数据拆分\n",
    "from sklearn import preprocessing\n",
    "from sklearn.model_selection import train_test_split\n",
    "from sklearn.preprocessing import StandardScaler\n",
    "\n",
    "\n",
    "def split_df(X, y):\n",
    "    # 分割数据集\n",
    "    X_train, X_test, y_train, y_test = train_test_split(\n",
    "        X, y, test_size=0.3, random_state=0\n",
    "    )\n",
    "\n",
    "    # 将标签数字化\n",
    "    categorical = [\n",
    "        \"workclass\",\n",
    "        \"education\",\n",
    "        \"marital.status\",\n",
    "        \"occupation\",\n",
    "        \"relationship\",\n",
    "        \"race\",\n",
    "        \"sex\",\n",
    "        \"native.country\",\n",
    "    ]\n",
    "    for feature in categorical:\n",
    "        le = preprocessing.LabelEncoder()\n",
    "        X_train[feature] = le.fit_transform(X_train[feature])\n",
    "        X_test[feature] = le.transform(X_test[feature])\n",
    "\n",
    "    # 数据缩放\n",
    "    scaler = StandardScaler()\n",
    "    X_train = pd.DataFrame(scaler.fit_transform(X_train), columns=X.columns)\n",
    "    X_test = pd.DataFrame(scaler.transform(X_test), columns=X.columns)\n",
    "    return X_train, X_test, y_train, y_test"
   ]
  },
  {
   "cell_type": "code",
   "execution_count": 84,
   "metadata": {},
   "outputs": [],
   "source": [
    "# 数据拆分\n",
    "X_train, X_test, y_train, y_test = split_df(X, y)"
   ]
  },
  {
   "cell_type": "code",
   "execution_count": 85,
   "metadata": {},
   "outputs": [],
   "source": [
    "# 设置敏感属性\n",
    "X_test[\"sex\"].value_counts()\n",
    "sex = X_test['sex']\n",
    "sex = sex.map(lambda x : \"男\" if x > 0 else \"女\")"
   ]
  },
  {
   "cell_type": "code",
   "execution_count": 86,
   "metadata": {},
   "outputs": [
    {
     "data": {
      "text/plain": [
       "9"
      ]
     },
     "execution_count": 86,
     "metadata": {},
     "output_type": "execute_result"
    }
   ],
   "source": [
    "# 获得敏感属性的索引\n",
    "feature_index = X.columns.get_loc(\"sex\")\n",
    "feature_index"
   ]
  },
  {
   "cell_type": "markdown",
   "metadata": {},
   "source": [
    "## 指标预设"
   ]
  },
  {
   "cell_type": "code",
   "execution_count": 129,
   "metadata": {},
   "outputs": [],
   "source": [
    "# 普通指标和公平性指标\n",
    "from sklearn.metrics import (\n",
    "    accuracy_score, \n",
    "    precision_score, \n",
    "    recall_score,\n",
    "    f1_score,\n",
    "    r2_score,\n",
    "    roc_curve,\n",
    "    roc_auc_score,\n",
    ")\n",
    "\n",
    "\n",
    "from fairlearn.metrics import (\n",
    "    demographic_parity_difference,\n",
    "    demographic_parity_ratio,\n",
    "    equalized_odds_difference,\n",
    "    equalized_odds_ratio,\n",
    "    mean_prediction,\n",
    ")\n",
    "\n",
    "\n",
    "from fairlearn.metrics import (\n",
    "    false_positive_rate,\n",
    "    false_negative_rate,\n",
    "    count,\n",
    "    selection_rate,\n",
    "    MetricFrame,\n",
    ")\n",
    "\n",
    "\n",
    "def test_metrics(y_true, y_pred, sensitive_features):\n",
    "    normal_metrics = {\n",
    "        \"样本数      \": count,\n",
    "        \"准确率      \": accuracy_score,  # 越大越好\n",
    "        \"精确率      \": precision_score,  # 越大越好\n",
    "        \"召回率      \": recall_score,\n",
    "        \"FPR        \": false_positive_rate,  # 越小越好\n",
    "        \"FNR        \": false_negative_rate,  # 越小越好\n",
    "        \"F1 Score   \": f1_score,  # f1 分数，越接近 1 越好\n",
    "        \"ROCAUC的面积\": roc_auc_score # 1 表示最佳性能 0.5 表示随机分类器\n",
    "        # \"选择率      \": selection_rate,\n",
    "        # \"公平性平均预测\": mean_prediction,  # 衡量不同群体之间的平均预测值是否相等\n",
    "    }\n",
    "\n",
    "    fairness_metrics = {\n",
    "        \"人口平等 差异\": demographic_parity_difference,  # 越小越好\n",
    "        \"人口平等 比率\": demographic_parity_ratio,  # 越接近 1 越好\n",
    "        \"机会均等 差异\": equalized_odds_difference,  # 越小越好\n",
    "        \"机会均等 比率\": equalized_odds_ratio,  # 越接近 1 越好\n",
    "    }\n",
    "\n",
    "    metric_frame = MetricFrame(\n",
    "        metrics=normal_metrics,\n",
    "        y_true=y_true,\n",
    "        y_pred=y_pred,\n",
    "        sensitive_features=sensitive_features,\n",
    "    )\n",
    "\n",
    "    # 画图\n",
    "    metric_frame.by_group.plot.bar(\n",
    "        subplots=True,\n",
    "        layout=[3, 3],\n",
    "        legend=False,\n",
    "        figsize=[12, 8],\n",
    "\n",
    "        title=\"普通指标\",\n",
    "    )\n",
    "\n",
    "    print(metric_frame.overall)\n",
    "\n",
    "    params = {\n",
    "        \"y_true\": y_true,\n",
    "        \"y_pred\": y_pred,\n",
    "        \"sensitive_features\": sensitive_features,\n",
    "    }\n",
    "\n",
    "    for k, v in fairness_metrics.items():\n",
    "        print(k, v(**params))"
   ]
  },
  {
   "cell_type": "code",
   "execution_count": 134,
   "metadata": {},
   "outputs": [],
   "source": [
    "def map_prob_2_label(y):\n",
    "    return np.where(y > 0.5, 1, 0)"
   ]
  },
  {
   "cell_type": "code",
   "execution_count": 136,
   "metadata": {},
   "outputs": [],
   "source": [
    "def test_model(model, X_test, y_test, sensitive, f=None, desc=\"默认测试\"):\n",
    "    y_pred = model(X_test)\n",
    "    print(desc)\n",
    "    if f is not None:\n",
    "        y_pred = f(y_pred)\n",
    "    test_metrics(y_test, y_pred, sensitive)"
   ]
  },
  {
   "cell_type": "markdown",
   "metadata": {},
   "source": [
    "## 模型：逻辑回归"
   ]
  },
  {
   "cell_type": "code",
   "execution_count": 88,
   "metadata": {},
   "outputs": [
    {
     "data": {
      "text/html": [
       "<style>#sk-container-id-3 {color: black;}#sk-container-id-3 pre{padding: 0;}#sk-container-id-3 div.sk-toggleable {background-color: white;}#sk-container-id-3 label.sk-toggleable__label {cursor: pointer;display: block;width: 100%;margin-bottom: 0;padding: 0.3em;box-sizing: border-box;text-align: center;}#sk-container-id-3 label.sk-toggleable__label-arrow:before {content: \"▸\";float: left;margin-right: 0.25em;color: #696969;}#sk-container-id-3 label.sk-toggleable__label-arrow:hover:before {color: black;}#sk-container-id-3 div.sk-estimator:hover label.sk-toggleable__label-arrow:before {color: black;}#sk-container-id-3 div.sk-toggleable__content {max-height: 0;max-width: 0;overflow: hidden;text-align: left;background-color: #f0f8ff;}#sk-container-id-3 div.sk-toggleable__content pre {margin: 0.2em;color: black;border-radius: 0.25em;background-color: #f0f8ff;}#sk-container-id-3 input.sk-toggleable__control:checked~div.sk-toggleable__content {max-height: 200px;max-width: 100%;overflow: auto;}#sk-container-id-3 input.sk-toggleable__control:checked~label.sk-toggleable__label-arrow:before {content: \"▾\";}#sk-container-id-3 div.sk-estimator input.sk-toggleable__control:checked~label.sk-toggleable__label {background-color: #d4ebff;}#sk-container-id-3 div.sk-label input.sk-toggleable__control:checked~label.sk-toggleable__label {background-color: #d4ebff;}#sk-container-id-3 input.sk-hidden--visually {border: 0;clip: rect(1px 1px 1px 1px);clip: rect(1px, 1px, 1px, 1px);height: 1px;margin: -1px;overflow: hidden;padding: 0;position: absolute;width: 1px;}#sk-container-id-3 div.sk-estimator {font-family: monospace;background-color: #f0f8ff;border: 1px dotted black;border-radius: 0.25em;box-sizing: border-box;margin-bottom: 0.5em;}#sk-container-id-3 div.sk-estimator:hover {background-color: #d4ebff;}#sk-container-id-3 div.sk-parallel-item::after {content: \"\";width: 100%;border-bottom: 1px solid gray;flex-grow: 1;}#sk-container-id-3 div.sk-label:hover label.sk-toggleable__label {background-color: #d4ebff;}#sk-container-id-3 div.sk-serial::before {content: \"\";position: absolute;border-left: 1px solid gray;box-sizing: border-box;top: 0;bottom: 0;left: 50%;z-index: 0;}#sk-container-id-3 div.sk-serial {display: flex;flex-direction: column;align-items: center;background-color: white;padding-right: 0.2em;padding-left: 0.2em;position: relative;}#sk-container-id-3 div.sk-item {position: relative;z-index: 1;}#sk-container-id-3 div.sk-parallel {display: flex;align-items: stretch;justify-content: center;background-color: white;position: relative;}#sk-container-id-3 div.sk-item::before, #sk-container-id-3 div.sk-parallel-item::before {content: \"\";position: absolute;border-left: 1px solid gray;box-sizing: border-box;top: 0;bottom: 0;left: 50%;z-index: -1;}#sk-container-id-3 div.sk-parallel-item {display: flex;flex-direction: column;z-index: 1;position: relative;background-color: white;}#sk-container-id-3 div.sk-parallel-item:first-child::after {align-self: flex-end;width: 50%;}#sk-container-id-3 div.sk-parallel-item:last-child::after {align-self: flex-start;width: 50%;}#sk-container-id-3 div.sk-parallel-item:only-child::after {width: 0;}#sk-container-id-3 div.sk-dashed-wrapped {border: 1px dashed gray;margin: 0 0.4em 0.5em 0.4em;box-sizing: border-box;padding-bottom: 0.4em;background-color: white;}#sk-container-id-3 div.sk-label label {font-family: monospace;font-weight: bold;display: inline-block;line-height: 1.2em;}#sk-container-id-3 div.sk-label-container {text-align: center;}#sk-container-id-3 div.sk-container {/* jupyter's `normalize.less` sets `[hidden] { display: none; }` but bootstrap.min.css set `[hidden] { display: none !important; }` so we also need the `!important` here to be able to override the default hidden behavior on the sphinx rendered scikit-learn.org. See: https://github.com/scikit-learn/scikit-learn/issues/21755 */display: inline-block !important;position: relative;}#sk-container-id-3 div.sk-text-repr-fallback {display: none;}</style><div id=\"sk-container-id-3\" class=\"sk-top-container\"><div class=\"sk-text-repr-fallback\"><pre>LogisticRegression()</pre><b>In a Jupyter environment, please rerun this cell to show the HTML representation or trust the notebook. <br />On GitHub, the HTML representation is unable to render, please try loading this page with nbviewer.org.</b></div><div class=\"sk-container\" hidden><div class=\"sk-item\"><div class=\"sk-estimator sk-toggleable\"><input class=\"sk-toggleable__control sk-hidden--visually\" id=\"sk-estimator-id-3\" type=\"checkbox\" checked><label for=\"sk-estimator-id-3\" class=\"sk-toggleable__label sk-toggleable__label-arrow\">LogisticRegression</label><div class=\"sk-toggleable__content\"><pre>LogisticRegression()</pre></div></div></div></div></div>"
      ],
      "text/plain": [
       "LogisticRegression()"
      ]
     },
     "execution_count": 88,
     "metadata": {},
     "output_type": "execute_result"
    }
   ],
   "source": [
    "# 逻辑回归 - 训练\n",
    "from sklearn.linear_model import LogisticRegression\n",
    "logreg = LogisticRegression()\n",
    "logreg.fit(X_train, y_train)"
   ]
  },
  {
   "cell_type": "code",
   "execution_count": 89,
   "metadata": {},
   "outputs": [],
   "source": [
    "# 逻辑回归 - 预测\n",
    "y_pred = logreg.predict(X_test)"
   ]
  },
  {
   "cell_type": "code",
   "execution_count": 90,
   "metadata": {},
   "outputs": [
    {
     "name": "stdout",
     "output_type": "stream",
     "text": [
      "样本数            9769.000000\n",
      "准确率               0.821681\n",
      "精确率               0.710868\n",
      "召回率               0.440865\n",
      "FPR               0.057085\n",
      "FNR               0.559135\n",
      "F1 Score          0.544218\n",
      "ROCAUC的面积         0.691890\n",
      "dtype: float64\n",
      "人口平等 差异 0.17305965639298973\n",
      "人口平等 比率 0.16808117698325414\n",
      "机会均等 差异 0.2678519815463287\n",
      "机会均等 比率 0.15100051877108894\n"
     ]
    }
   ],
   "source": [
    "# 逻辑回归 - 指标\n",
    "test_metrics(y_test, y_pred, sex)"
   ]
  },
  {
   "cell_type": "markdown",
   "metadata": {},
   "source": [
    "## 模型：XGBoost"
   ]
  },
  {
   "cell_type": "code",
   "execution_count": 106,
   "metadata": {},
   "outputs": [],
   "source": [
    "# XGboost - 训练\n",
    "import xgboost\n",
    "xgboost_model = xgboost.XGBRegressor().fit(X_train, y_train)"
   ]
  },
  {
   "cell_type": "code",
   "execution_count": 107,
   "metadata": {},
   "outputs": [],
   "source": [
    "# XGboost - 预测\n",
    "y_pred_xgboost_1 = xgboost_model.predict(X_test)\n",
    "y_pred_xgboost_1 = np.where(y_pred_xgboost_1 > 0.5, 1, 0)"
   ]
  },
  {
   "cell_type": "code",
   "execution_count": 108,
   "metadata": {},
   "outputs": [
    {
     "name": "stdout",
     "output_type": "stream",
     "text": [
      "样本数            9769.000000\n",
      "准确率               0.862422\n",
      "精确率               0.768377\n",
      "召回率               0.615939\n",
      "FPR               0.059109\n",
      "FNR               0.384061\n",
      "F1 Score          0.683765\n",
      "ROCAUC的面积         0.778415\n",
      "dtype: float64\n",
      "人口平等 差异 0.16989595884523423\n",
      "人口平等 比率 0.32250719180485066\n",
      "机会均等 差异 0.08764799066199769\n",
      "机会均等 比率 0.29597011190360795\n"
     ]
    }
   ],
   "source": [
    "# XGboost - 指标\n",
    "test_metrics(y_test, y_pred_xgboost_1, sex)"
   ]
  },
  {
   "cell_type": "markdown",
   "metadata": {},
   "source": [
    "## 使用可解释工具进行分析"
   ]
  },
  {
   "cell_type": "code",
   "execution_count": 94,
   "metadata": {},
   "outputs": [],
   "source": [
    "# 计算 shap_values\n",
    "explainer = shap.Explainer(xgboost_model)\n",
    "shap_values = explainer(X_train)"
   ]
  },
  {
   "cell_type": "code",
   "execution_count": 95,
   "metadata": {},
   "outputs": [],
   "source": [
    "# 获得 k 个最大的索引\n",
    "arr = shap_values[:, feature_index].values # numpy.ndarray\n",
    "sorted_indices = np.argsort(np.abs(arr))\n",
    "k = 1000\n",
    "top_k_indices = sorted_indices[-k:]\n",
    "# top_k_indices"
   ]
  },
  {
   "cell_type": "code",
   "execution_count": 96,
   "metadata": {},
   "outputs": [],
   "source": [
    "# 获得 X_ext 拓展\n",
    "X_ext = X_train.iloc[top_k_indices, :]\n",
    "y_ext = y_train.iloc[top_k_indices]"
   ]
  },
  {
   "cell_type": "code",
   "execution_count": 97,
   "metadata": {},
   "outputs": [
    {
     "data": {
      "text/plain": [
       "sex\n",
       " 0.699071    15310\n",
       "-1.430470     7482\n",
       "Name: count, dtype: int64"
      ]
     },
     "execution_count": 97,
     "metadata": {},
     "output_type": "execute_result"
    }
   ],
   "source": [
    "# 统计缩放后的个数\n",
    "tmp = X_train[\"sex\"].unique()\n",
    "tmp\n",
    "X_train[\"sex\"].value_counts()"
   ]
  },
  {
   "cell_type": "code",
   "execution_count": 98,
   "metadata": {},
   "outputs": [],
   "source": [
    "# 敏感属性 反转\n",
    "X_ext.loc[:, \"sex\"] = np.where(X_ext.loc[:, \"sex\"] < 0, tmp[1], tmp[0])\n",
    "# X_ext.head()"
   ]
  },
  {
   "cell_type": "code",
   "execution_count": 99,
   "metadata": {},
   "outputs": [],
   "source": [
    "# 索引连接\n",
    "# print(X_train.shape, X_test.shape)\n",
    "X_train_2 = pd.concat([X_train, X_ext])\n",
    "y_train_2 = pd.concat([y_train, y_ext])"
   ]
  },
  {
   "cell_type": "markdown",
   "metadata": {},
   "source": [
    "## 模型：XGBoost + 处理过的训练集"
   ]
  },
  {
   "cell_type": "code",
   "execution_count": 100,
   "metadata": {},
   "outputs": [],
   "source": [
    "# XGboost_2 - 训练\n",
    "import xgboost\n",
    "xgboost_model_2 = xgboost.XGBRegressor().fit(X_train_2, y_train_2)"
   ]
  },
  {
   "cell_type": "code",
   "execution_count": 101,
   "metadata": {},
   "outputs": [],
   "source": [
    "# XGboost_2 - 预测\n",
    "y_pred_xgboost_2 = xgboost_model_2.predict(X_test)\n",
    "y_pred_xgboost_2 = np.where(y_pred_xgboost_2 > 0.5, 1, 0)"
   ]
  },
  {
   "cell_type": "code",
   "execution_count": 102,
   "metadata": {},
   "outputs": [
    {
     "name": "stdout",
     "output_type": "stream",
     "text": [
      "样本数            9769.000000\n",
      "准确率               0.864162\n",
      "精确率               0.770724\n",
      "召回率               0.622721\n",
      "FPR               0.058974\n",
      "FNR               0.377279\n",
      "F1 Score          0.688863\n",
      "ROCAUC的面积         0.781874\n",
      "dtype: float64\n",
      "人口平等 差异 0.17175240889009005\n",
      "人口平等 比率 0.3209544785797538\n",
      "机会均等 差异 0.08581790895447716\n",
      "机会均等 比率 0.286851314441789\n"
     ]
    }
   ],
   "source": [
    "# # XGboost_2 - 指标\n",
    "test_metrics(y_test, y_pred_xgboost_2, sex)"
   ]
  },
  {
   "cell_type": "markdown",
   "metadata": {},
   "source": [
    "## 模型：XGBoost 对照组"
   ]
  },
  {
   "cell_type": "code",
   "execution_count": 122,
   "metadata": {},
   "outputs": [
    {
     "name": "stdout",
     "output_type": "stream",
     "text": [
      "1000\n"
     ]
    }
   ],
   "source": [
    "print(k)\n",
    "random_k_index = np.random.randint(0, len(X_train), k)\n",
    "X_ext_random = X_train.iloc[random_k_index, :]\n",
    "y_ext_random = y_train.iloc[random_k_index]\n"
   ]
  },
  {
   "cell_type": "code",
   "execution_count": 123,
   "metadata": {},
   "outputs": [],
   "source": [
    "# 索引连接\n",
    "X_train_3 = pd.concat([X_train, X_ext_random])\n",
    "y_train_3 = pd.concat([y_train, y_ext_random])"
   ]
  },
  {
   "cell_type": "code",
   "execution_count": 124,
   "metadata": {},
   "outputs": [],
   "source": [
    "# XGboost_3 - 训练\n",
    "xgboost_model_3 = xgboost.XGBRegressor().fit(X_train_3, y_train_3)"
   ]
  },
  {
   "cell_type": "code",
   "execution_count": 125,
   "metadata": {},
   "outputs": [],
   "source": [
    "# XGboost_3 - 预测\n",
    "y_pred_xgboost_3 = xgboost_model_3.predict(X_test)\n",
    "y_pred_xgboost_3 = np.where(y_pred_xgboost_3 > 0.5, 1, 0)"
   ]
  },
  {
   "cell_type": "code",
   "execution_count": 126,
   "metadata": {},
   "outputs": [
    {
     "name": "stdout",
     "output_type": "stream",
     "text": [
      "样本数            9769.000000\n",
      "准确率               0.863855\n",
      "精确率               0.772078\n",
      "召回率               0.618906\n",
      "FPR               0.058165\n",
      "FNR               0.381094\n",
      "F1 Score          0.687059\n",
      "ROCAUC的面积         0.780371\n",
      "dtype: float64\n",
      "人口平等 差异 0.173104512234947\n",
      "人口平等 比率 0.31267326024359277\n",
      "机会均等 差异 0.09770579734311602\n",
      "机会均等 比率 0.2766346922835883\n"
     ]
    }
   ],
   "source": [
    "# # XGboost_3 - 指标\n",
    "test_metrics(y_test, y_pred_xgboost_3, sex)"
   ]
  },
  {
   "cell_type": "code",
   "execution_count": 138,
   "metadata": {},
   "outputs": [
    {
     "name": "stdout",
     "output_type": "stream",
     "text": [
      "第一次测试\n",
      "样本数            9769.000000\n",
      "准确率               0.862422\n",
      "精确率               0.768377\n",
      "召回率               0.615939\n",
      "FPR               0.059109\n",
      "FNR               0.384061\n",
      "F1 Score          0.683765\n",
      "ROCAUC的面积         0.778415\n",
      "dtype: float64\n",
      "人口平等 差异 0.16989595884523423\n",
      "人口平等 比率 0.32250719180485066\n",
      "机会均等 差异 0.08764799066199769\n",
      "机会均等 比率 0.29597011190360795\n"
     ]
    },
    {
     "data": {
      "image/png": "[encoded data removed]",
      "text/plain": [
       "<Figure size 1200x800 with 9 Axes>"
      ]
     },
     "metadata": {},
     "output_type": "display_data"
    }
   ],
   "source": [
    "test_model(xgboost_model.predict, X_test, y_test, sex, map_prob_2_label, desc=\"第一次测试\")"
   ]
  },
  {
   "cell_type": "code",
   "execution_count": null,
   "metadata": {},
   "outputs": [],
   "source": [
    "test_model(xgboost_model_2, X_test, y_test, sex, map_prob_2_label, \"SHAP 优化过的\")"
   ]
  },
  {
   "cell_type": "markdown",
   "metadata": {},
   "source": [
    "## 附录\n",
    "\n",
    "### 选择率 和 公平性平均预测的含义"
   ]
  },
  {
   "cell_type": "code",
   "execution_count": 104,
   "metadata": {},
   "outputs": [
    {
     "name": "stdout",
     "output_type": "stream",
     "text": [
      "1.0\n"
     ]
    }
   ],
   "source": [
    "from fairlearn.metrics import selection_rate\n",
    "\n",
    "# 选择率就是 【预测正例】 在 【预测总数】 中的比例\n",
    "y_true = np.array([1, 0, 1])\n",
    "y_pred = np.array([1, 1, 1])\n",
    "print(selection_rate(y_true, y_pred))"
   ]
  },
  {
   "cell_type": "code",
   "execution_count": 105,
   "metadata": {},
   "outputs": [
    {
     "name": "stdout",
     "output_type": "stream",
     "text": [
      "0.0\n"
     ]
    }
   ],
   "source": [
    "from fairlearn.metrics import mean_prediction\n",
    "# 和选择率一样\n",
    "y_true = np.array([1, 0, 1])\n",
    "y_pred = np.array([0, 0, 0])\n",
    "print(mean_prediction(y_true, y_pred))"
   ]
  }
 ],
 "metadata": {
  "kernelspec": {
   "display_name": "dl",
   "language": "python",
   "name": "python3"
  },
  "language_info": {
   "codemirror_mode": {
    "name": "ipython",
    "version": 3
   },
   "file_extension": ".py",
   "mimetype": "text/x-python",
   "name": "python",
   "nbconvert_exporter": "python",
   "pygments_lexer": "ipython3",
   "version": "3.10.14"
  }
 },
 "nbformat": 4,
 "nbformat_minor": 2
}
