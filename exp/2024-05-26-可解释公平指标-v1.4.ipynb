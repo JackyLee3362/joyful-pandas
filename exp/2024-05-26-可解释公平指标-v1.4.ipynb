{
 "cells": [
  {
   "cell_type": "markdown",
   "metadata": {},
   "source": [
    "# 可解释公平指标\n",
    "\n",
    "@version 1.4"
   ]
  },
  {
   "cell_type": "markdown",
   "metadata": {},
   "source": [
    "![图片](./assets/2024-05-27-流程图.drawio.svg)"
   ]
  },
  {
   "cell_type": "markdown",
   "metadata": {},
   "source": [
    "## SHAP-Fairness 指标\n",
    "\n",
    "### 两个样本之间的 SHAP 可解释距离（在敏感属性上）\n",
    "\n",
    "Shapley Distance between Individual and Individual\n",
    "\n",
    "SDII\n",
    "\n",
    "其中 $A$ 是敏感属性集合\n",
    "\n",
    "$$\n",
    "D(x_i, x_j, A) =\n",
    "\\sum_{f\\in A}^f\n",
    "|\\phi_i^f-\\phi_j^f|\n",
    "$$"
   ]
  },
  {
   "cell_type": "markdown",
   "metadata": {},
   "source": [
    "### 样本在群体之间的可解释距离\n",
    "\n",
    "已知\n",
    "\n",
    "$$\n",
    "a = x_i^A \\\\\n",
    "X^a  = \\{x | x \\in X \\cap x^A \\equiv a \\} \\\\\n",
    "m = {\\rm count}(X^a) \\\\\n",
    "$$\n",
    "\n",
    "Shapley Distance between Individual and Group\n",
    "\n",
    "SDIG\n",
    "\n",
    "$$\n",
    "D(x_i, X^a, A) = \\frac 1{m-1} \\sum_{x_j \\in X^a \\backslash x_i}^{x_j} D(x_i, x_j, A)\n",
    "$$"
   ]
  },
  {
   "cell_type": "markdown",
   "metadata": {},
   "source": [
    "## 实验基本环境设置"
   ]
  },
  {
   "cell_type": "code",
   "execution_count": 1,
   "metadata": {},
   "outputs": [],
   "source": [
    "# 导入依赖\n",
    "import numpy as np\n",
    "import pandas as pd\n",
    "# from rich import print\n",
    "import matplotlib.pyplot as plt\n",
    "import os\n",
    "np.random.seed(42)"
   ]
  },
  {
   "cell_type": "code",
   "execution_count": 2,
   "metadata": {},
   "outputs": [],
   "source": [
    "# 字体设置\n",
    "from pylab import mpl\n",
    "# 设置显示中文字体\n",
    "mpl.rcParams[\"font.sans-serif\"] = [\"Microsoft YaHei\"]"
   ]
  },
  {
   "cell_type": "markdown",
   "metadata": {},
   "source": [
    "## 自定义函数"
   ]
  },
  {
   "cell_type": "code",
   "execution_count": 3,
   "metadata": {},
   "outputs": [
    {
     "name": "stderr",
     "output_type": "stream",
     "text": [
      "IProgress not found. Please update jupyter and ipywidgets. See https://ipywidgets.readthedocs.io/en/stable/user_install.html\n"
     ]
    }
   ],
   "source": [
    "# 导入自定义函数\n",
    "%load_ext autoreload\n",
    "%autoreload 2\n",
    "from utils.helper import fairness_metrics, test_model  # 测试各种指标并输出图像\n",
    "from utils.shap_helper import get_ext_train_comp_by_k\n",
    "from model.models import train_model_and_test\n",
    "from mydata.adult_0518 import (\n",
    "    X_train,\n",
    "    y_train,\n",
    "    X_test,\n",
    "    y_test,\n",
    "    sex,\n",
    "    feature_index,\n",
    "    idxs_loc_male,\n",
    "    idxs_loc_female,\n",
    ")  # 获得 数据集 测试集 和 测试集上的敏感属性"
   ]
  },
  {
   "cell_type": "markdown",
   "metadata": {},
   "source": [
    "## Xgboost-Baseline"
   ]
  },
  {
   "cell_type": "code",
   "execution_count": 4,
   "metadata": {},
   "outputs": [
    {
     "data": {
      "text/plain": [
       "{'准确率(1)': 0.8624219469751254,\n",
       " '精确率(0)': 0.7683765203595981,\n",
       " '召回率(1)': 0.6159389571852479,\n",
       " 'FPR(0)': 0.05910931174089069,\n",
       " 'FNR(0)': 0.384061042814752,\n",
       " 'F1 Score(1)': 0.6837647058823529,\n",
       " '人口平等 差异(0)': 0.16989595884523423,\n",
       " '人口平等 比率(1)': 0.32250719180485066,\n",
       " '机会均等 差异(0)': 0.08764799066199769,\n",
       " '机会均等 比率(1)': 0.29597011190360795}"
      ]
     },
     "execution_count": 4,
     "metadata": {},
     "output_type": "execute_result"
    }
   ],
   "source": [
    "import xgboost\n",
    "\n",
    "model_xgboost_baseline, res_xgboost_baseline = train_model_and_test(\n",
    "    X_train,\n",
    "    y_train,\n",
    "    X_test,\n",
    "    y_test,\n",
    "    model_cls=xgboost.XGBRegressor,\n",
    "    test_func=test_model,\n",
    "    sensitive_feature=sex,\n",
    "    desc=\"xgboost-baseline-组\",\n",
    ")\n",
    "res_xgboost_baseline"
   ]
  },
  {
   "cell_type": "markdown",
   "metadata": {},
   "source": [
    "## 计算得到 Shapley Value"
   ]
  },
  {
   "cell_type": "code",
   "execution_count": 5,
   "metadata": {},
   "outputs": [],
   "source": [
    "# 计算得到 shapley values\n",
    "import shap\n",
    "\n",
    "def get_shapley_value(model, X_train):\n",
    "    explainer = shap.Explainer(model)\n",
    "    shap_values = explainer(X_train)\n",
    "    return shap_values\n",
    "\n",
    "shap_values = get_shapley_value(model_xgboost_baseline, X_train)"
   ]
  },
  {
   "cell_type": "code",
   "execution_count": 6,
   "metadata": {},
   "outputs": [
    {
     "data": {
      "text/plain": [
       "(22792, 14)"
      ]
     },
     "execution_count": 6,
     "metadata": {},
     "output_type": "execute_result"
    }
   ],
   "source": [
    "# 获得 shapley values\n",
    "shapley_values = shap_values.values\n",
    "shapley_values.shape"
   ]
  },
  {
   "cell_type": "markdown",
   "metadata": {},
   "source": [
    "## 将 X_train 拆分为 male 和 female"
   ]
  },
  {
   "cell_type": "code",
   "execution_count": 7,
   "metadata": {},
   "outputs": [],
   "source": [
    "# 在 X_train 训练集上，已知 loc 获得 iloc\n",
    "idxs_iloc_in_X_train_male = X_train.index.get_indexer(idxs_loc_male)\n",
    "idxs_iloc_in_X_train_female = X_train.index.get_indexer(idxs_loc_female)"
   ]
  },
  {
   "cell_type": "code",
   "execution_count": 8,
   "metadata": {},
   "outputs": [
    {
     "data": {
      "text/html": [
       "<div>\n",
       "<style scoped>\n",
       "    .dataframe tbody tr th:only-of-type {\n",
       "        vertical-align: middle;\n",
       "    }\n",
       "\n",
       "    .dataframe tbody tr th {\n",
       "        vertical-align: top;\n",
       "    }\n",
       "\n",
       "    .dataframe thead th {\n",
       "        text-align: right;\n",
       "    }\n",
       "</style>\n",
       "<table border=\"1\" class=\"dataframe\">\n",
       "  <thead>\n",
       "    <tr style=\"text-align: right;\">\n",
       "      <th></th>\n",
       "      <th>age</th>\n",
       "      <th>workclass</th>\n",
       "      <th>fnlwgt</th>\n",
       "      <th>education</th>\n",
       "      <th>education.num</th>\n",
       "      <th>marital.status</th>\n",
       "      <th>occupation</th>\n",
       "      <th>relationship</th>\n",
       "      <th>race</th>\n",
       "      <th>sex</th>\n",
       "      <th>capital.gain</th>\n",
       "      <th>capital.loss</th>\n",
       "      <th>hours.per.week</th>\n",
       "      <th>native.country</th>\n",
       "    </tr>\n",
       "  </thead>\n",
       "  <tbody>\n",
       "    <tr>\n",
       "      <th>9</th>\n",
       "      <td>0.174720</td>\n",
       "      <td>-0.090641</td>\n",
       "      <td>-1.131673</td>\n",
       "      <td>1.217715</td>\n",
       "      <td>-0.034095</td>\n",
       "      <td>0.926666</td>\n",
       "      <td>-1.034080</td>\n",
       "      <td>1.591474</td>\n",
       "      <td>0.392980</td>\n",
       "      <td>0.699071</td>\n",
       "      <td>-0.145189</td>\n",
       "      <td>7.224655</td>\n",
       "      <td>1.585721</td>\n",
       "      <td>0.262317</td>\n",
       "    </tr>\n",
       "    <tr>\n",
       "      <th>11</th>\n",
       "      <td>-0.044989</td>\n",
       "      <td>1.703439</td>\n",
       "      <td>-0.239657</td>\n",
       "      <td>0.959385</td>\n",
       "      <td>1.912553</td>\n",
       "      <td>0.926666</td>\n",
       "      <td>0.728841</td>\n",
       "      <td>-0.276689</td>\n",
       "      <td>0.392980</td>\n",
       "      <td>0.699071</td>\n",
       "      <td>-0.145189</td>\n",
       "      <td>6.778726</td>\n",
       "      <td>0.367671</td>\n",
       "      <td>0.262317</td>\n",
       "    </tr>\n",
       "    <tr>\n",
       "      <th>13</th>\n",
       "      <td>-0.484406</td>\n",
       "      <td>-0.090641</td>\n",
       "      <td>-0.507029</td>\n",
       "      <td>0.442726</td>\n",
       "      <td>1.523223</td>\n",
       "      <td>1.591170</td>\n",
       "      <td>-0.782234</td>\n",
       "      <td>-0.276689</td>\n",
       "      <td>0.392980</td>\n",
       "      <td>0.699071</td>\n",
       "      <td>-0.145189</td>\n",
       "      <td>6.778726</td>\n",
       "      <td>1.179704</td>\n",
       "      <td>0.262317</td>\n",
       "    </tr>\n",
       "    <tr>\n",
       "      <th>14</th>\n",
       "      <td>0.907082</td>\n",
       "      <td>-0.090641</td>\n",
       "      <td>-0.167448</td>\n",
       "      <td>-0.073933</td>\n",
       "      <td>2.301883</td>\n",
       "      <td>0.926666</td>\n",
       "      <td>0.728841</td>\n",
       "      <td>-0.276689</td>\n",
       "      <td>0.392980</td>\n",
       "      <td>0.699071</td>\n",
       "      <td>-0.145189</td>\n",
       "      <td>6.778726</td>\n",
       "      <td>-0.038346</td>\n",
       "      <td>0.262317</td>\n",
       "    </tr>\n",
       "    <tr>\n",
       "      <th>15</th>\n",
       "      <td>0.540901</td>\n",
       "      <td>-0.090641</td>\n",
       "      <td>-1.364605</td>\n",
       "      <td>0.959385</td>\n",
       "      <td>1.912553</td>\n",
       "      <td>-1.731347</td>\n",
       "      <td>0.728841</td>\n",
       "      <td>-0.276689</td>\n",
       "      <td>0.392980</td>\n",
       "      <td>0.699071</td>\n",
       "      <td>-0.145189</td>\n",
       "      <td>6.778726</td>\n",
       "      <td>-0.038346</td>\n",
       "      <td>0.262317</td>\n",
       "    </tr>\n",
       "    <tr>\n",
       "      <th>...</th>\n",
       "      <td>...</td>\n",
       "      <td>...</td>\n",
       "      <td>...</td>\n",
       "      <td>...</td>\n",
       "      <td>...</td>\n",
       "      <td>...</td>\n",
       "      <td>...</td>\n",
       "      <td>...</td>\n",
       "      <td>...</td>\n",
       "      <td>...</td>\n",
       "      <td>...</td>\n",
       "      <td>...</td>\n",
       "      <td>...</td>\n",
       "      <td>...</td>\n",
       "    </tr>\n",
       "    <tr>\n",
       "      <th>32551</th>\n",
       "      <td>0.321192</td>\n",
       "      <td>1.703439</td>\n",
       "      <td>-1.535675</td>\n",
       "      <td>1.217715</td>\n",
       "      <td>-0.034095</td>\n",
       "      <td>-0.402341</td>\n",
       "      <td>-1.034080</td>\n",
       "      <td>-0.899410</td>\n",
       "      <td>0.392980</td>\n",
       "      <td>0.699071</td>\n",
       "      <td>-0.145189</td>\n",
       "      <td>-0.217407</td>\n",
       "      <td>0.773687</td>\n",
       "      <td>0.262317</td>\n",
       "    </tr>\n",
       "    <tr>\n",
       "      <th>32552</th>\n",
       "      <td>-0.484406</td>\n",
       "      <td>-0.090641</td>\n",
       "      <td>-1.471254</td>\n",
       "      <td>-2.657229</td>\n",
       "      <td>-1.591414</td>\n",
       "      <td>-0.402341</td>\n",
       "      <td>-0.278542</td>\n",
       "      <td>-0.899410</td>\n",
       "      <td>-4.319887</td>\n",
       "      <td>0.699071</td>\n",
       "      <td>-0.145189</td>\n",
       "      <td>-0.217407</td>\n",
       "      <td>-0.038346</td>\n",
       "      <td>0.262317</td>\n",
       "    </tr>\n",
       "    <tr>\n",
       "      <th>32553</th>\n",
       "      <td>0.321192</td>\n",
       "      <td>-0.090641</td>\n",
       "      <td>-0.993616</td>\n",
       "      <td>-0.590592</td>\n",
       "      <td>0.355234</td>\n",
       "      <td>-0.402341</td>\n",
       "      <td>1.232533</td>\n",
       "      <td>-0.899410</td>\n",
       "      <td>0.392980</td>\n",
       "      <td>0.699071</td>\n",
       "      <td>-0.145189</td>\n",
       "      <td>-0.217407</td>\n",
       "      <td>0.367671</td>\n",
       "      <td>0.262317</td>\n",
       "    </tr>\n",
       "    <tr>\n",
       "      <th>32554</th>\n",
       "      <td>-0.484406</td>\n",
       "      <td>-0.090641</td>\n",
       "      <td>-0.696460</td>\n",
       "      <td>0.442726</td>\n",
       "      <td>1.523223</td>\n",
       "      <td>0.926666</td>\n",
       "      <td>1.484379</td>\n",
       "      <td>-0.276689</td>\n",
       "      <td>-3.141670</td>\n",
       "      <td>0.699071</td>\n",
       "      <td>-0.145189</td>\n",
       "      <td>-0.217407</td>\n",
       "      <td>-2.393245</td>\n",
       "      <td>-0.233007</td>\n",
       "    </tr>\n",
       "    <tr>\n",
       "      <th>32555</th>\n",
       "      <td>1.053554</td>\n",
       "      <td>-0.090641</td>\n",
       "      <td>1.245688</td>\n",
       "      <td>0.442726</td>\n",
       "      <td>1.523223</td>\n",
       "      <td>-0.402341</td>\n",
       "      <td>-0.782234</td>\n",
       "      <td>-0.899410</td>\n",
       "      <td>0.392980</td>\n",
       "      <td>0.699071</td>\n",
       "      <td>-0.145189</td>\n",
       "      <td>-0.217407</td>\n",
       "      <td>-0.038346</td>\n",
       "      <td>0.262317</td>\n",
       "    </tr>\n",
       "  </tbody>\n",
       "</table>\n",
       "<p>15310 rows × 14 columns</p>\n",
       "</div>"
      ],
      "text/plain": [
       "            age  workclass    fnlwgt  education  education.num  \\\n",
       "9      0.174720  -0.090641 -1.131673   1.217715      -0.034095   \n",
       "11    -0.044989   1.703439 -0.239657   0.959385       1.912553   \n",
       "13    -0.484406  -0.090641 -0.507029   0.442726       1.523223   \n",
       "14     0.907082  -0.090641 -0.167448  -0.073933       2.301883   \n",
       "15     0.540901  -0.090641 -1.364605   0.959385       1.912553   \n",
       "...         ...        ...       ...        ...            ...   \n",
       "32551  0.321192   1.703439 -1.535675   1.217715      -0.034095   \n",
       "32552 -0.484406  -0.090641 -1.471254  -2.657229      -1.591414   \n",
       "32553  0.321192  -0.090641 -0.993616  -0.590592       0.355234   \n",
       "32554 -0.484406  -0.090641 -0.696460   0.442726       1.523223   \n",
       "32555  1.053554  -0.090641  1.245688   0.442726       1.523223   \n",
       "\n",
       "       marital.status  occupation  relationship      race       sex  \\\n",
       "9            0.926666   -1.034080      1.591474  0.392980  0.699071   \n",
       "11           0.926666    0.728841     -0.276689  0.392980  0.699071   \n",
       "13           1.591170   -0.782234     -0.276689  0.392980  0.699071   \n",
       "14           0.926666    0.728841     -0.276689  0.392980  0.699071   \n",
       "15          -1.731347    0.728841     -0.276689  0.392980  0.699071   \n",
       "...               ...         ...           ...       ...       ...   \n",
       "32551       -0.402341   -1.034080     -0.899410  0.392980  0.699071   \n",
       "32552       -0.402341   -0.278542     -0.899410 -4.319887  0.699071   \n",
       "32553       -0.402341    1.232533     -0.899410  0.392980  0.699071   \n",
       "32554        0.926666    1.484379     -0.276689 -3.141670  0.699071   \n",
       "32555       -0.402341   -0.782234     -0.899410  0.392980  0.699071   \n",
       "\n",
       "       capital.gain  capital.loss  hours.per.week  native.country  \n",
       "9         -0.145189      7.224655        1.585721        0.262317  \n",
       "11        -0.145189      6.778726        0.367671        0.262317  \n",
       "13        -0.145189      6.778726        1.179704        0.262317  \n",
       "14        -0.145189      6.778726       -0.038346        0.262317  \n",
       "15        -0.145189      6.778726       -0.038346        0.262317  \n",
       "...             ...           ...             ...             ...  \n",
       "32551     -0.145189     -0.217407        0.773687        0.262317  \n",
       "32552     -0.145189     -0.217407       -0.038346        0.262317  \n",
       "32553     -0.145189     -0.217407        0.367671        0.262317  \n",
       "32554     -0.145189     -0.217407       -2.393245       -0.233007  \n",
       "32555     -0.145189     -0.217407       -0.038346        0.262317  \n",
       "\n",
       "[15310 rows x 14 columns]"
      ]
     },
     "execution_count": 8,
     "metadata": {},
     "output_type": "execute_result"
    }
   ],
   "source": [
    "X_train.iloc[idxs_iloc_in_X_train_male]"
   ]
  },
  {
   "cell_type": "markdown",
   "metadata": {},
   "source": [
    "## 计算 Shapley Distance"
   ]
  },
  {
   "cell_type": "code",
   "execution_count": 9,
   "metadata": {},
   "outputs": [],
   "source": [
    "# 导入新指标，定义敏感属性\n",
    "from utils.new_index_0518 import shapley_distance_between_individual_and_individual as sdii\n",
    "from utils.new_index_0518 import shapley_distance_between_individual_and_group as sdig\n",
    "from utils.new_index_0518 import shapley_distance_between_group_and_group as sdgg\n",
    "\n",
    "# 因为 X_train 和 Shapley Values 是一一对应的，所以可以找到对应的 Shapley Value\n",
    "shapley_values_male = shapley_values[idxs_iloc_in_X_train_male]\n",
    "shapley_values_female = shapley_values[idxs_iloc_in_X_train_female]\n",
    "A = np.array([feature_index])"
   ]
  },
  {
   "cell_type": "code",
   "execution_count": 10,
   "metadata": {},
   "outputs": [],
   "source": [
    "# 如果有缓存则载入\n",
    "# 没有就运行函数\n",
    "def load_or_run_svgg_and_save(\n",
    "    X,  # 训练集\n",
    "    A,  # 敏感属性\n",
    "    date,  # 日期\n",
    "    title,  # 标题\n",
    "    dir=\"np-cache\",  # npy 缓存数据文件夹名\n",
    "):\n",
    "    filename = f\"{date}-{title}\"\n",
    "    filepath = f\"{dir}/{filename}.npy\"\n",
    "    print(\"文件名为: \", filename)\n",
    "    print(\"文件路径为: \", filepath)\n",
    "\n",
    "    if os.path.exists(filepath):\n",
    "        print(\"发现缓存数据，直接载入\")\n",
    "        return np.load(filepath)\n",
    "    print(\"未发现相关缓存\")\n",
    "    res = sdgg(X, A)\n",
    "    np.save(filepath, res)\n",
    "    print(\"缓存成功\")\n",
    "    return res"
   ]
  },
  {
   "cell_type": "markdown",
   "metadata": {},
   "source": [
    "## 获得 男性的 Shapley Distance 向量"
   ]
  },
  {
   "cell_type": "code",
   "execution_count": 11,
   "metadata": {},
   "outputs": [
    {
     "name": "stdout",
     "output_type": "stream",
     "text": [
      "文件名为:  2024-05-21-50min-可解释指标-sv-male\n",
      "文件路径为:  np-cache/2024-05-21-50min-可解释指标-sv-male.npy\n",
      "发现缓存数据，直接载入\n"
     ]
    }
   ],
   "source": [
    "shap_distance_male = load_or_run_svgg_and_save(\n",
    "    shapley_values_male, A, date=\"2024-05-21\", title=\"50min-可解释指标-sv-male\"\n",
    ")"
   ]
  },
  {
   "cell_type": "markdown",
   "metadata": {},
   "source": [
    "## 获得女性的 Shapley Distance 向量"
   ]
  },
  {
   "cell_type": "code",
   "execution_count": 12,
   "metadata": {},
   "outputs": [
    {
     "name": "stdout",
     "output_type": "stream",
     "text": [
      "文件名为:  2024-05-21-11min-可解释指标-sv-female\n",
      "文件路径为:  np-cache/2024-05-21-11min-可解释指标-sv-female.npy\n",
      "发现缓存数据，直接载入\n"
     ]
    }
   ],
   "source": [
    "shap_distance_female = load_or_run_svgg_and_save(\n",
    "    shapley_values_female, A, date=\"2024-05-21\", title=\"11min-可解释指标-sv-female\"\n",
    ")"
   ]
  },
  {
   "cell_type": "markdown",
   "metadata": {},
   "source": [
    "## 找到【可解释疑似歧视样本】\n",
    "\n",
    "在 shap_distance_male 上和 shap_distance_female 上"
   ]
  },
  {
   "cell_type": "code",
   "execution_count": 13,
   "metadata": {},
   "outputs": [
    {
     "name": "stdout",
     "output_type": "stream",
     "text": [
      "male:  [9841 6913 1756 ... 8758 5363 7369] shape: (15310,)\n",
      "female: [3042  693  482 ... 3729 7477 6922] shape: (7482,)\n"
     ]
    }
   ],
   "source": [
    "# 处理 male\n",
    "shap_dis_male_arg_sorted = np.argsort(shap_distance_male)\n",
    "print(\"male: \", shap_dis_male_arg_sorted, \"shape:\", shap_dis_male_arg_sorted.shape)\n",
    "# 处理 female\n",
    "shap_dis_female_arg_sorted = np.argsort(shap_distance_female)\n",
    "print(\"female:\", shap_dis_female_arg_sorted, \"shape:\", shap_dis_female_arg_sorted.shape)"
   ]
  },
  {
   "cell_type": "code",
   "execution_count": 14,
   "metadata": {},
   "outputs": [],
   "source": [
    "# 可视化地看 不同的数据分布\n",
    "def plt_hist_freq(x, bins=20, xlabel=\"xlabel\", ylabel=\"ylabel\", title=\"title\"):\n",
    "    # 画分布图\n",
    "    counts, bins, _ = plt.hist(x, bins=bins, alpha=0.7, width=0.005)  # 设置直方图的柱子数量\n",
    "    plt.plot((bins[:-1] + bins[1:]) / 2, counts, \"-ro\", alpha=0.3)\n",
    "    plt.xlabel(xlabel)  # x轴标签\n",
    "    plt.ylabel(ylabel)  # y轴标签\n",
    "    plt.title(title)  # 图表标题\n",
    "\n",
    "    # 在每个柱子上显示频率数\n",
    "    for i in range(len(counts)):\n",
    "        if counts[i] > 0:\n",
    "            plt.text(bins[i], counts[i], str(counts[i]), ha=\"center\", va=\"bottom\")\n",
    "    plt.show()"
   ]
  },
  {
   "cell_type": "code",
   "execution_count": 15,
   "metadata": {},
   "outputs": [
    {
     "data": {
      "image/png": "[encoded data removed]",
      "text/plain": [
       "<Figure size 640x480 with 1 Axes>"
      ]
     },
     "metadata": {},
     "output_type": "display_data"
    },
    {
     "data": {
      "image/png": "[encoded data removed]",
      "text/plain": [
       "<Figure size 640x480 with 1 Axes>"
      ]
     },
     "metadata": {},
     "output_type": "display_data"
    }
   ],
   "source": [
    "# 可以看到 大于 0.04 的数据比较少，说明不太合理，认为这些是不合理的数据\n",
    "plt_hist_freq(shap_distance_male, 10, xlabel=\"Shapley Distance 区间\", ylabel=\"频率数\", title=\"男性 Shapley Distance 频率分布图\")\n",
    "plt_hist_freq(shap_distance_female, 10, xlabel=\"Shapley Distance 区间\", ylabel=\"频率数\", title=\"女性 Shapley Distance 频率分布图\")\n"
   ]
  },
  {
   "cell_type": "code",
   "execution_count": 16,
   "metadata": {},
   "outputs": [
    {
     "data": {
      "text/plain": [
       "(20, 341)"
      ]
     },
     "execution_count": 16,
     "metadata": {},
     "output_type": "execute_result"
    }
   ],
   "source": [
    "# 所以设定阈值为 t=0.04\n",
    "t = 0.04\n",
    "# 统计大于阈值的数量\n",
    "np.sum(shap_distance_male > t), np.sum(shap_distance_female > t)"
   ]
  },
  {
   "cell_type": "markdown",
   "metadata": {},
   "source": [
    "## 获得公平和不公平的 idx"
   ]
  },
  {
   "cell_type": "code",
   "execution_count": 17,
   "metadata": {},
   "outputs": [],
   "source": [
    "# 统计大于阈值的 index\n",
    "unfair_idx_male = np.where(shap_distance_male > t)\n",
    "fair_idx_male = np.where(shap_distance_male <= t)\n",
    "assert len(shap_distance_male) == len(unfair_idx_male[0]) + len(\n",
    "    fair_idx_male[0]\n",
    "), \"和不相等\"\n",
    "# 女性\n",
    "unfair_idx_female = np.where(shap_distance_female > t)\n",
    "fair_idx_female = np.where(shap_distance_female <= t)\n",
    "assert len(shap_distance_female) == len(unfair_idx_female[0]) + len(\n",
    "    fair_idx_female[0]\n",
    "), \"和不相等\""
   ]
  },
  {
   "cell_type": "code",
   "execution_count": 18,
   "metadata": {},
   "outputs": [
    {
     "name": "stdout",
     "output_type": "stream",
     "text": [
      "不公平的idx [ 1976  2705  3180  3800  4222  5363  6500  6926  7369  7909  8423  8631\n",
      "  8758  9350  9880 11293 11430 12371 12463 14746]\n",
      "查看计算好的值 0.0416298545897007\n",
      "使用 sdig 直接计算得到 0.0416298545897007\n"
     ]
    }
   ],
   "source": [
    "## 一个很简单的测试\n",
    "print(\"不公平的idx\", unfair_idx_male[0])\n",
    "## 随机选一个\n",
    "test_unfair_idx = unfair_idx_male[0][0]\n",
    "print(\"查看计算好的值\", shap_distance_male[test_unfair_idx])\n",
    "## 计算 sdig\n",
    "print(\"使用 sdig 直接计算得到\", sdig(test_unfair_idx, shapley_values_male, A))"
   ]
  },
  {
   "cell_type": "code",
   "execution_count": 19,
   "metadata": {},
   "outputs": [],
   "source": [
    "def index_mapper(a, idx1, idx2):\n",
    "    \"\"\"索引映射\n",
    "    已知 b = a[idx1] 且 c = b[idx2]\n",
    "    要定位 c 在 a 的位置，则 a[idx1[idx2]]\"\"\"\n",
    "    if isinstance(a, np.ndarray):\n",
    "        return a[idx1[idx2]]\n",
    "    elif isinstance(a, pd.DataFrame):\n",
    "        return a.iloc[idx1[idx2]]\n",
    "    elif isinstance(a, pd.Series):\n",
    "        return a.iloc[idx1[idx2]]\n",
    "    raise TypeError(\"a 的类型是 \", type(a))"
   ]
  },
  {
   "cell_type": "code",
   "execution_count": 20,
   "metadata": {},
   "outputs": [],
   "source": [
    "from sklearn.neighbors import NearestNeighbors\n",
    "def get_knn_idx(knn_k, X_train, X_target):\n",
    "    knn = NearestNeighbors(n_neighbors=knn_k)\n",
    "    knn.fit(X_train)\n",
    "    distance, idx = knn.kneighbors(X_target)\n",
    "    return idx"
   ]
  },
  {
   "cell_type": "code",
   "execution_count": 21,
   "metadata": {},
   "outputs": [],
   "source": [
    "knn_k = 9"
   ]
  },
  {
   "cell_type": "code",
   "execution_count": 22,
   "metadata": {},
   "outputs": [],
   "source": [
    "# 获得【男性】公平样本和不公平样本\n",
    "fair_samples_male = index_mapper(X_train, idxs_iloc_in_X_train_male, fair_idx_male)\n",
    "unfair_samples_male = index_mapper(X_train, idxs_iloc_in_X_train_male, unfair_idx_male)\n",
    "knn_idx_male = get_knn_idx(knn_k, fair_samples_male, unfair_samples_male)"
   ]
  },
  {
   "cell_type": "code",
   "execution_count": 23,
   "metadata": {},
   "outputs": [],
   "source": [
    "# 获得【女性】公平样本和不公平样本\n",
    "fair_samples_female = index_mapper(X_train, idxs_iloc_in_X_train_female, fair_idx_female)\n",
    "unfair_samples_female = index_mapper(X_train, idxs_iloc_in_X_train_female, unfair_idx_female)\n",
    "knn_idx_female = get_knn_idx(knn_k, fair_samples_female, unfair_samples_female)"
   ]
  },
  {
   "cell_type": "code",
   "execution_count": 33,
   "metadata": {},
   "outputs": [
    {
     "name": "stdout",
     "output_type": "stream",
     "text": [
      "总数是 20，其中有 18 个不同 18 20\n",
      "总数是 341，其中有 40 个不同 40 341\n"
     ]
    },
    {
     "data": {
      "text/plain": [
       "age               1.273263\n",
       "workclass         1.703439\n",
       "fnlwgt           -0.888808\n",
       "education         0.184396\n",
       "education.num    -0.423425\n",
       "marital.status   -0.402341\n",
       "occupation       -1.034080\n",
       "relationship     -0.899410\n",
       "race              0.392980\n",
       "sex               0.699071\n",
       "capital.gain     -0.145189\n",
       "capital.loss     -0.217407\n",
       "hours.per.week    1.179704\n",
       "native.country    0.262317\n",
       "Name: 23862, dtype: float64"
      ]
     },
     "execution_count": 33,
     "metadata": {},
     "output_type": "execute_result"
    }
   ],
   "source": [
    "from scipy import stats\n",
    "\n",
    "def need_modify_idx(target, y_train, idx1, knn_idxs):\n",
    "    count = 0\n",
    "    total = len(target)\n",
    "    unfair_list = []\n",
    "    # 对于每个不公平样本进行遍历\n",
    "    for i in range(total):\n",
    "        # 不公平样本\n",
    "        unfair_sample_idx = target[i]\n",
    "        idx2 = idx1[unfair_sample_idx] # unfair_sample 在 X_train 上的 idx\n",
    "        unfair_sample = index_mapper(y_train, idx1, unfair_sample_idx)\n",
    "        if unfair_sample != y_train.iloc[idx2]:\n",
    "            raise BaseException(\"不匹配错误\")\n",
    "        # 近邻的公平样本\n",
    "        fair_samples_idx = knn_idxs[i]\n",
    "        knn_samples = index_mapper(y_train, idx1, fair_samples_idx)\n",
    "\n",
    "        # 统计计算\n",
    "        fair_mode = stats.mode(knn_samples).mode\n",
    "        if fair_mode != unfair_sample:\n",
    "            count += 1\n",
    "            unfair_list.append(idx2)\n",
    "    print(f\"总数是 {total}，其中有 {count} 个不同\", count, total)\n",
    "    return np.array(unfair_list)\n",
    "# 获得男性需要改变的 list\n",
    "unfair_need_modify_male = need_modify_idx(unfair_idx_male[0], y_train, idxs_iloc_in_X_train_male, knn_idx_male)\n",
    "\n",
    "# 获得女性需要改变的 list\n",
    "unfair_need_modify_female = need_modify_idx(unfair_idx_female[0], y_train, idxs_iloc_in_X_train_female, knn_idx_female)\n",
    "# print(sorted(unfair_need_modify_male))\n",
    "# print(sorted(unfair_need_modify_female))\n",
    "# print(y_train.iloc[unfair_need_modify_male])\n",
    "X_train.iloc[5099]"
   ]
  },
  {
   "cell_type": "code",
   "execution_count": 71,
   "metadata": {},
   "outputs": [
    {
     "name": "stdout",
     "output_type": "stream",
     "text": [
      "18 40\n",
      "18 <class 'int'>\n"
     ]
    },
    {
     "data": {
      "text/plain": [
       "(36,)"
      ]
     },
     "execution_count": 71,
     "metadata": {},
     "output_type": "execute_result"
    }
   ],
   "source": [
    "# 合并向量\n",
    "percent_m = 1\n",
    "shape_male = unfair_need_modify_male.shape[0]\n",
    "shape_female = unfair_need_modify_female.shape[0]\n",
    "print(shape_male, shape_female)\n",
    "m = int(min(shape_male, shape_female) * percent_m)\n",
    "print(m, type(m))\n",
    "random_index_male = np.random.choice(shape_male, size=m, replace=False)\n",
    "random_index_female = np.random.choice(shape_female, size=m, replace=False)\n",
    "unfair_list_np = np.concatenate((unfair_need_modify_male[random_index_male], unfair_need_modify_female[random_index_female]))\n",
    "unfair_list_np.shape"
   ]
  },
  {
   "cell_type": "code",
   "execution_count": 72,
   "metadata": {},
   "outputs": [],
   "source": [
    "y_train_fair = y_train.copy()\n",
    "y_train_fair.iloc[unfair_list_np] = 1 - y_train.iloc[unfair_list_np]"
   ]
  },
  {
   "cell_type": "code",
   "execution_count": 73,
   "metadata": {},
   "outputs": [
    {
     "data": {
      "text/plain": [
       "{'准确率(1)': 0.8632408639574163,\n",
       " '精确率(0)': 0.7702060221870047,\n",
       " '召回率(1)': 0.6180584993641374,\n",
       " 'FPR(0)': 0.058704453441295545,\n",
       " 'FNR(0)': 0.38194150063586263,\n",
       " 'F1 Score(1)': 0.6857949200376293,\n",
       " '人口平等 差异(0)': 0.17066296559050181,\n",
       " '人口平等 比率(1)': 0.3207026922441943,\n",
       " '机会均等 差异(0)': 0.09014924128731039,\n",
       " '机会均等 比率(1)': 0.29340043120986636}"
      ]
     },
     "execution_count": 73,
     "metadata": {},
     "output_type": "execute_result"
    }
   ],
   "source": [
    "xgboost_fair, res_fair = train_model_and_test(\n",
    "    X_train,\n",
    "    y_train_fair,\n",
    "    X_test,\n",
    "    y_test,\n",
    "    model_cls=xgboost.XGBRegressor,\n",
    "    test_func=test_model,\n",
    "    sensitive_feature=sex,\n",
    "    desc=\"公平组\",\n",
    ")\n",
    "res_fair"
   ]
  },
  {
   "cell_type": "code",
   "execution_count": 74,
   "metadata": {},
   "outputs": [
    {
     "data": {
      "text/html": [
       "<div>\n",
       "<style scoped>\n",
       "    .dataframe tbody tr th:only-of-type {\n",
       "        vertical-align: middle;\n",
       "    }\n",
       "\n",
       "    .dataframe tbody tr th {\n",
       "        vertical-align: top;\n",
       "    }\n",
       "\n",
       "    .dataframe thead th {\n",
       "        text-align: right;\n",
       "    }\n",
       "</style>\n",
       "<table border=\"1\" class=\"dataframe\">\n",
       "  <thead>\n",
       "    <tr style=\"text-align: right;\">\n",
       "      <th></th>\n",
       "      <th>准确率(1)</th>\n",
       "      <th>精确率(0)</th>\n",
       "      <th>召回率(1)</th>\n",
       "      <th>FPR(0)</th>\n",
       "      <th>FNR(0)</th>\n",
       "      <th>F1 Score(1)</th>\n",
       "      <th>人口平等 差异(0)</th>\n",
       "      <th>人口平等 比率(1)</th>\n",
       "      <th>机会均等 差异(0)</th>\n",
       "      <th>机会均等 比率(1)</th>\n",
       "    </tr>\n",
       "  </thead>\n",
       "  <tbody>\n",
       "    <tr>\n",
       "      <th>origin</th>\n",
       "      <td>0.862422</td>\n",
       "      <td>0.768377</td>\n",
       "      <td>0.615939</td>\n",
       "      <td>0.059109</td>\n",
       "      <td>0.384061</td>\n",
       "      <td>0.683765</td>\n",
       "      <td>0.169896</td>\n",
       "      <td>0.322507</td>\n",
       "      <td>0.087648</td>\n",
       "      <td>0.29597</td>\n",
       "    </tr>\n",
       "    <tr>\n",
       "      <th>shap-fair</th>\n",
       "      <td>0.863241</td>\n",
       "      <td>0.770206</td>\n",
       "      <td>0.618058</td>\n",
       "      <td>0.058704</td>\n",
       "      <td>0.381942</td>\n",
       "      <td>0.685795</td>\n",
       "      <td>0.170663</td>\n",
       "      <td>0.320703</td>\n",
       "      <td>0.090149</td>\n",
       "      <td>0.29340</td>\n",
       "    </tr>\n",
       "  </tbody>\n",
       "</table>\n",
       "</div>"
      ],
      "text/plain": [
       "             准确率(1)    精确率(0)    召回率(1)    FPR(0)    FNR(0)  F1 Score(1)  \\\n",
       "origin     0.862422  0.768377  0.615939  0.059109  0.384061     0.683765   \n",
       "shap-fair  0.863241  0.770206  0.618058  0.058704  0.381942     0.685795   \n",
       "\n",
       "           人口平等 差异(0)  人口平等 比率(1)  机会均等 差异(0)  机会均等 比率(1)  \n",
       "origin       0.169896    0.322507    0.087648     0.29597  \n",
       "shap-fair    0.170663    0.320703    0.090149     0.29340  "
      ]
     },
     "execution_count": 74,
     "metadata": {},
     "output_type": "execute_result"
    }
   ],
   "source": [
    "df = pd.DataFrame([res_xgboost_baseline, res_fair],index=[\"origin\", \"shap-fair\"])\n",
    "df"
   ]
  },
  {
   "cell_type": "code",
   "execution_count": 75,
   "metadata": {},
   "outputs": [
    {
     "data": {
      "image/png": "[encoded data removed]",
      "text/plain": [
       "<Figure size 1000x500 with 2 Axes>"
      ]
     },
     "metadata": {},
     "output_type": "display_data"
    }
   ],
   "source": [
    "# 画在一张图上\n",
    "cmap = plt.get_cmap(\"tab10\")\n",
    "fig, (ax1, ax2) = plt.subplots(1, 2, figsize=(10, 5))\n",
    "\n",
    "\n",
    "def plot_sub(ax, title, df: pd.DataFrame, filter, linestyle):\n",
    "    # 初始化图例对象\n",
    "    scatter_legend = []\n",
    "    ax.set_title(title)\n",
    "    for i, col in enumerate(df.columns):\n",
    "        if filter(col):\n",
    "            continue\n",
    "        values = df[col].values\n",
    "        x = df.index\n",
    "        ax.plot(x, values, linestyle=linestyle, label=col, color=cmap(i))\n",
    "        scatter = ax.scatter(x, values, marker=\"s\", color=cmap(i))\n",
    "        # 在每个散点的位置添加数值标签\n",
    "        y = values\n",
    "        for i in range(len(x)):\n",
    "            ax.text(x[i], y[i], str(round(y[i], 4)), ha=\"center\", va=\"bottom\")\n",
    "        # 将散点图的图例对象添加到列表中\n",
    "        scatter_legend.append(scatter)\n",
    "    ax.legend()\n",
    "    # ax.legend(bbox_to_anchor=(1, 1), loc=\"upper left\")\n",
    "\n",
    "\n",
    "plot_sub(ax1, \"1 好\", df, lambda x: \"1\" not in x, \"-\")\n",
    "plot_sub(ax2, \"0 好\", df, lambda x: \"0\" not in x, \"--\")\n",
    "\n",
    "plt.show()"
   ]
  },
  {
   "cell_type": "code",
   "execution_count": null,
   "metadata": {},
   "outputs": [],
   "source": []
  }
 ],
 "metadata": {
  "kernelspec": {
   "display_name": "dl",
   "language": "python",
   "name": "python3"
  },
  "language_info": {
   "codemirror_mode": {
    "name": "ipython",
    "version": 3
   },
   "file_extension": ".py",
   "mimetype": "text/x-python",
   "name": "python",
   "nbconvert_exporter": "python",
   "pygments_lexer": "ipython3",
   "version": "3.10.14"
  }
 },
 "nbformat": 4,
 "nbformat_minor": 2
}
