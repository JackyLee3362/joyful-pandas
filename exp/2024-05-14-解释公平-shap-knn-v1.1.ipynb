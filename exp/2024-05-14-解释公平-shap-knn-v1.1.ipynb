{
 "cells": [
  {
   "cell_type": "markdown",
   "metadata": {},
   "source": [
    "# shap-knn\n",
    "\n",
    "## 使用可解释工具增强训练集的公平性\n",
    "\n",
    "![图片](assets/流程图.drawio.svg)"
   ]
  },
  {
   "cell_type": "markdown",
   "metadata": {},
   "source": [
    "现在的问题，就是如何用理论证明之前的方法存在问题\n",
    "\n",
    "两种方法\n",
    "\n",
    "1. 找出之前方法的理论缺陷\n",
    "2. 举例说明之前的样本存在的缺陷"
   ]
  },
  {
   "cell_type": "markdown",
   "metadata": {},
   "source": [
    "现在可能存在的一些问题\n",
    "\n",
    "1. 寻找权重的 Lmba 方法不是很了解，是该老师 09 年另一篇文章中的方法，该方法可能存在缺陷\n",
    "2. 从语义上来说，计算两个\n",
    "\n",
    "\n"
   ]
  },
  {
   "cell_type": "markdown",
   "metadata": {},
   "source": [
    "## 聚类假设\n",
    "\n",
    "相似的样本应该获得相似的预测结果\n"
   ]
  }
 ],
 "metadata": {
  "language_info": {
   "name": "python"
  }
 },
 "nbformat": 4,
 "nbformat_minor": 2
}
