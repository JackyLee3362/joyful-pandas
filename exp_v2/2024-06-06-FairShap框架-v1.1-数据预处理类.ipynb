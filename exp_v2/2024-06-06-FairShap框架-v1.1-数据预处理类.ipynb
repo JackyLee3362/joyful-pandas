{
 "cells": [
  {
   "cell_type": "markdown",
   "metadata": {},
   "source": [
    "# 主要是框架内部的处理类\n",
    "\n",
    "写一个类\n",
    "\n",
    "新的 idea：\n",
    "\n",
    "1. 将 Male 分类出来后，继续划分，如果是 Male 且 标签是 1，分为 1 组，从该组中寻找，如果该组存在 shapley_value 明显较大的值，则增加 Male 改为 Female 的样本重新训练\n",
    "2. 将 Female 分类出来后，继续划分，如果是 Female 且 标签是 0，单独分为 1 组，从该组中寻找，如果该组存在 shapley_value 明显较小的值，则 增加 Female 改为 Male 的样本重新训练\n"
   ]
  },
  {
   "cell_type": "markdown",
   "metadata": {},
   "source": [
    "## 数据预处理部分\n"
   ]
  },
  {
   "cell_type": "code",
   "execution_count": 97,
   "metadata": {},
   "outputs": [],
   "source": [
    "# %%\n",
    "\"\"\"数据集预处理类\"\"\"\n",
    "\n",
    "from collections import namedtuple\n",
    "import numpy as np\n",
    "import pandas as pd\n",
    "from sklearn import preprocessing\n",
    "from sklearn.model_selection import train_test_split\n",
    "\n",
    "import os\n",
    "import logging\n",
    "from rich.logging import RichHandler\n",
    "\n",
    "Group = namedtuple(\"Group\", [\"scale_name\", \"origin_name\", \"X\", \"y\"])\n",
    "\n",
    "\n",
    "# %%\n",
    "class DataPreProcessor:\n",
    "    \"\"\"数据预处理器\"\"\"\n",
    "\n",
    "    def __init__(\n",
    "        self,\n",
    "        *,\n",
    "        dataset_name: str,\n",
    "        data_path: str,\n",
    "        sensitive_names: list[str],\n",
    "        label: str,\n",
    "        label_mapper: str,\n",
    "        sensitive_mappers: list[dict],\n",
    "        np_seed: int,\n",
    "        log_level: int,\n",
    "    ) -> None:\n",
    "        \"\"\"初始化数据预处理器\"\"\"\n",
    "        self.dataset_name = dataset_name\n",
    "        # 设置 numpy 随机数种子\n",
    "        np.random.seed(np_seed)\n",
    "        self.seed = np_seed\n",
    "        self.sensitive_names = sensitive_names\n",
    "        # 初始化日志\n",
    "        self._init_logger(level=log_level)\n",
    "        # 初始化 df\n",
    "        self._load_df(data_path)\n",
    "        # 初始化数据集\n",
    "        self._init_Xy(label, label_mapper)\n",
    "\n",
    "    def handle_dataset_by_dummy(self):\n",
    "        # dummy +\n",
    "        self\n",
    "        \n",
    "        self.X_dummy = pd.get_dummies(self.X)\n",
    "        self._split_Xy(self.X_dummy, self.y)\n",
    "        self._group_Xy(self.X_train, self.y)\n",
    "        self.log.info(\n",
    "            \"数据集处理完毕， 遍历 xxx.grouped 查看数据，每个单元是Group(scale_name, origin_name , X, y)\"\n",
    "        )\n",
    "\n",
    "    def _init_logger(self, logger_name=\"default_dataset\", level=None) -> None:\n",
    "        \"\"\"初始化日志\"\"\"\n",
    "        if level is None:\n",
    "            level = logging.INFO\n",
    "        FORMAT = \"%(message)s\"\n",
    "        logging.basicConfig(\n",
    "            level=\"INFO\", format=FORMAT, datefmt=\"[%X]\", handlers=[RichHandler()]\n",
    "        )\n",
    "        self.log = logging.getLogger(logger_name)\n",
    "        self.log.setLevel(level)\n",
    "\n",
    "    def _load_df(self, data_path: str):\n",
    "        \"\"\"载入数据\"\"\"\n",
    "        if not os.path.exists(data_path):\n",
    "            raise FileNotFoundError(f\"{data_path} 文件路径不存在\")\n",
    "        if not data_path.endswith(\"csv\"):\n",
    "            raise TypeError(\"文件类型错误，应该是 csv 文件\")\n",
    "        self.df = pd.read_csv(data_path, encoding=\"latin-1\")\n",
    "        self.log.debug(f\"df 包含 {self.df.shape[0]} 行数据，{self.df.shape[1]} 列\")\n",
    "\n",
    "    def _init_Xy(self, label, mapper):\n",
    "        \"\"\"清洗数据 + 划分数据集\"\"\"\n",
    "        self.X = self.df.drop(label, axis=1)\n",
    "        self.y = self.df[label].map(mapper)\n",
    "        self.X.replace(\"?\", np.nan)\n",
    "\n",
    "    def _split_Xy(self, X, y, test_size=0.3):\n",
    "        \"\"\"分割数据 = 训练集 + 测试集\"\"\"\n",
    "        if self.seed is None:\n",
    "            raise BaseException(\"self.seed 未定义\")\n",
    "        self.X_train, self.X_test, self.y_train, self.y_test = train_test_split(\n",
    "            X, y, test_size=test_size, random_state=self.seed\n",
    "        )\n",
    "\n",
    "    def _dummy(self):\n",
    "        self.X_dummy = pd.get_dummies(self.X)\n",
    "\n",
    "    def _group_Xy(self, X, y):\n",
    "        result = []\n",
    "        groups = X.groupby(self.sensitive_names)\n",
    "        # print(self.mapper_scale_origin)\n",
    "        for name, data in groups:\n",
    "            # origin = self.mapper_scale_origin[name]\n",
    "            label = y[data.index]\n",
    "            # result.append(Group(name, origin, data, label))\n",
    "            result.append(Group(name, name, data, label))\n",
    "        self.groups = result\n",
    "        return result"
   ]
  },
  {
   "cell_type": "code",
   "execution_count": 98,
   "metadata": {},
   "outputs": [],
   "source": [
    "# 重新加载模块\n",
    "dataset_name = \"adult\"\n",
    "data_path = \"../input/adult.csv\"\n",
    "sensitive_names = [\"sex\"]\n",
    "label = \"income\"\n",
    "label_mapper = {\"<=50K\": 0, \">50K\": 1}\n",
    "\n",
    "# 数据处理\n",
    "\n",
    "\n",
    "p = DataPreProcessor(\n",
    "    dataset_name=dataset_name,\n",
    "    data_path=data_path,\n",
    "    sensitive_names=sensitive_names,\n",
    "    label=label,\n",
    "    np_seed=42,\n",
    "    log_level=None,\n",
    "    label_mapper=label_mapper,\n",
    ")"
   ]
  },
  {
   "cell_type": "code",
   "execution_count": 99,
   "metadata": {},
   "outputs": [
    {
     "data": {
      "text/plain": [
       "((32561, 14), (32561,))"
      ]
     },
     "execution_count": 99,
     "metadata": {},
     "output_type": "execute_result"
    }
   ],
   "source": [
    "import xgboost\n",
    "\n",
    "X = p.X\n",
    "y = p.y\n",
    "X.shape, y.shape"
   ]
  },
  {
   "cell_type": "code",
   "execution_count": 100,
   "metadata": {},
   "outputs": [
    {
     "data": {
      "text/html": [
       "<div>\n",
       "<style scoped>\n",
       "    .dataframe tbody tr th:only-of-type {\n",
       "        vertical-align: middle;\n",
       "    }\n",
       "\n",
       "    .dataframe tbody tr th {\n",
       "        vertical-align: top;\n",
       "    }\n",
       "\n",
       "    .dataframe thead th {\n",
       "        text-align: right;\n",
       "    }\n",
       "</style>\n",
       "<table border=\"1\" class=\"dataframe\">\n",
       "  <thead>\n",
       "    <tr style=\"text-align: right;\">\n",
       "      <th></th>\n",
       "      <th>age</th>\n",
       "      <th>workclass</th>\n",
       "      <th>fnlwgt</th>\n",
       "      <th>education</th>\n",
       "      <th>education.num</th>\n",
       "      <th>marital.status</th>\n",
       "      <th>occupation</th>\n",
       "      <th>relationship</th>\n",
       "      <th>race</th>\n",
       "      <th>sex</th>\n",
       "      <th>capital.gain</th>\n",
       "      <th>capital.loss</th>\n",
       "      <th>hours.per.week</th>\n",
       "      <th>native.country</th>\n",
       "    </tr>\n",
       "  </thead>\n",
       "  <tbody>\n",
       "    <tr>\n",
       "      <th>0</th>\n",
       "      <td>90</td>\n",
       "      <td>?</td>\n",
       "      <td>77053</td>\n",
       "      <td>HS-grad</td>\n",
       "      <td>9</td>\n",
       "      <td>Widowed</td>\n",
       "      <td>?</td>\n",
       "      <td>Not-in-family</td>\n",
       "      <td>White</td>\n",
       "      <td>Female</td>\n",
       "      <td>0</td>\n",
       "      <td>4356</td>\n",
       "      <td>40</td>\n",
       "      <td>United-States</td>\n",
       "    </tr>\n",
       "    <tr>\n",
       "      <th>1</th>\n",
       "      <td>82</td>\n",
       "      <td>Private</td>\n",
       "      <td>132870</td>\n",
       "      <td>HS-grad</td>\n",
       "      <td>9</td>\n",
       "      <td>Widowed</td>\n",
       "      <td>Exec-managerial</td>\n",
       "      <td>Not-in-family</td>\n",
       "      <td>White</td>\n",
       "      <td>Female</td>\n",
       "      <td>0</td>\n",
       "      <td>4356</td>\n",
       "      <td>18</td>\n",
       "      <td>United-States</td>\n",
       "    </tr>\n",
       "    <tr>\n",
       "      <th>2</th>\n",
       "      <td>66</td>\n",
       "      <td>?</td>\n",
       "      <td>186061</td>\n",
       "      <td>Some-college</td>\n",
       "      <td>10</td>\n",
       "      <td>Widowed</td>\n",
       "      <td>?</td>\n",
       "      <td>Unmarried</td>\n",
       "      <td>Black</td>\n",
       "      <td>Female</td>\n",
       "      <td>0</td>\n",
       "      <td>4356</td>\n",
       "      <td>40</td>\n",
       "      <td>United-States</td>\n",
       "    </tr>\n",
       "    <tr>\n",
       "      <th>3</th>\n",
       "      <td>54</td>\n",
       "      <td>Private</td>\n",
       "      <td>140359</td>\n",
       "      <td>7th-8th</td>\n",
       "      <td>4</td>\n",
       "      <td>Divorced</td>\n",
       "      <td>Machine-op-inspct</td>\n",
       "      <td>Unmarried</td>\n",
       "      <td>White</td>\n",
       "      <td>Female</td>\n",
       "      <td>0</td>\n",
       "      <td>3900</td>\n",
       "      <td>40</td>\n",
       "      <td>United-States</td>\n",
       "    </tr>\n",
       "    <tr>\n",
       "      <th>4</th>\n",
       "      <td>41</td>\n",
       "      <td>Private</td>\n",
       "      <td>264663</td>\n",
       "      <td>Some-college</td>\n",
       "      <td>10</td>\n",
       "      <td>Separated</td>\n",
       "      <td>Prof-specialty</td>\n",
       "      <td>Own-child</td>\n",
       "      <td>White</td>\n",
       "      <td>Female</td>\n",
       "      <td>0</td>\n",
       "      <td>3900</td>\n",
       "      <td>40</td>\n",
       "      <td>United-States</td>\n",
       "    </tr>\n",
       "  </tbody>\n",
       "</table>\n",
       "</div>"
      ],
      "text/plain": [
       "   age workclass  fnlwgt     education  education.num marital.status  \\\n",
       "0   90         ?   77053       HS-grad              9        Widowed   \n",
       "1   82   Private  132870       HS-grad              9        Widowed   \n",
       "2   66         ?  186061  Some-college             10        Widowed   \n",
       "3   54   Private  140359       7th-8th              4       Divorced   \n",
       "4   41   Private  264663  Some-college             10      Separated   \n",
       "\n",
       "          occupation   relationship   race     sex  capital.gain  \\\n",
       "0                  ?  Not-in-family  White  Female             0   \n",
       "1    Exec-managerial  Not-in-family  White  Female             0   \n",
       "2                  ?      Unmarried  Black  Female             0   \n",
       "3  Machine-op-inspct      Unmarried  White  Female             0   \n",
       "4     Prof-specialty      Own-child  White  Female             0   \n",
       "\n",
       "   capital.loss  hours.per.week native.country  \n",
       "0          4356              40  United-States  \n",
       "1          4356              18  United-States  \n",
       "2          4356              40  United-States  \n",
       "3          3900              40  United-States  \n",
       "4          3900              40  United-States  "
      ]
     },
     "execution_count": 100,
     "metadata": {},
     "output_type": "execute_result"
    }
   ],
   "source": [
    "X.head()"
   ]
  },
  {
   "cell_type": "code",
   "execution_count": 121,
   "metadata": {},
   "outputs": [
    {
     "ename": "TypeError",
     "evalue": "the first argument must be callable",
     "output_type": "error",
     "traceback": [
      "\u001b[1;31m---------------------------------------------------------------------------\u001b[0m",
      "\u001b[1;31mTypeError\u001b[0m                                 Traceback (most recent call last)",
      "\u001b[1;32m~\\AppData\\Local\\Temp\\ipykernel_10840\\3826946103.py\u001b[0m in \u001b[0;36m?\u001b[1;34m()\u001b[0m\n\u001b[0;32m      1\u001b[0m \u001b[0msensitive_names\u001b[0m\u001b[1;33m\u001b[0m\u001b[1;33m\u001b[0m\u001b[0m\n\u001b[0;32m      2\u001b[0m \u001b[0md\u001b[0m \u001b[1;33m=\u001b[0m \u001b[1;33m{\u001b[0m\u001b[1;36m1\u001b[0m\u001b[1;33m:\u001b[0m \u001b[1;34m\"Male\"\u001b[0m\u001b[1;33m,\u001b[0m \u001b[1;36m0\u001b[0m\u001b[1;33m:\u001b[0m\u001b[1;34m\"Female\"\u001b[0m\u001b[1;33m}\u001b[0m\u001b[1;33m\u001b[0m\u001b[1;33m\u001b[0m\u001b[0m\n\u001b[0;32m      3\u001b[0m \u001b[1;31m# X[sensitive_names] = X[sensitive_names].apply(lambda x:d[x], axis=1 )\u001b[0m\u001b[1;33m\u001b[0m\u001b[1;33m\u001b[0m\u001b[0m\n\u001b[1;32m----> 4\u001b[1;33m \u001b[0mX\u001b[0m\u001b[1;33m[\u001b[0m\u001b[0msensitive_names\u001b[0m\u001b[1;33m]\u001b[0m\u001b[1;33m.\u001b[0m\u001b[0mmap\u001b[0m\u001b[1;33m(\u001b[0m\u001b[0md\u001b[0m\u001b[1;33m)\u001b[0m\u001b[1;33m\u001b[0m\u001b[1;33m\u001b[0m\u001b[0m\n\u001b[0m",
      "\u001b[1;32mc:\\Users\\JACKYLEE\\anaconda3\\envs\\dl\\lib\\site-packages\\pandas\\core\\frame.py\u001b[0m in \u001b[0;36m?\u001b[1;34m(self, func, na_action, **kwargs)\u001b[0m\n\u001b[0;32m  10111\u001b[0m \u001b[1;33m\u001b[0m\u001b[0m\n\u001b[0;32m  10112\u001b[0m         \u001b[1;32mif\u001b[0m \u001b[0mself\u001b[0m\u001b[1;33m.\u001b[0m\u001b[0mempty\u001b[0m\u001b[1;33m:\u001b[0m\u001b[1;33m\u001b[0m\u001b[1;33m\u001b[0m\u001b[0m\n\u001b[0;32m  10113\u001b[0m             \u001b[1;32mreturn\u001b[0m \u001b[0mself\u001b[0m\u001b[1;33m.\u001b[0m\u001b[0mcopy\u001b[0m\u001b[1;33m(\u001b[0m\u001b[1;33m)\u001b[0m\u001b[1;33m\u001b[0m\u001b[1;33m\u001b[0m\u001b[0m\n\u001b[0;32m  10114\u001b[0m \u001b[1;33m\u001b[0m\u001b[0m\n\u001b[1;32m> 10115\u001b[1;33m         \u001b[0mfunc\u001b[0m \u001b[1;33m=\u001b[0m \u001b[0mfunctools\u001b[0m\u001b[1;33m.\u001b[0m\u001b[0mpartial\u001b[0m\u001b[1;33m(\u001b[0m\u001b[0mfunc\u001b[0m\u001b[1;33m,\u001b[0m \u001b[1;33m**\u001b[0m\u001b[0mkwargs\u001b[0m\u001b[1;33m)\u001b[0m\u001b[1;33m\u001b[0m\u001b[1;33m\u001b[0m\u001b[0m\n\u001b[0m\u001b[0;32m  10116\u001b[0m \u001b[1;33m\u001b[0m\u001b[0m\n\u001b[0;32m  10117\u001b[0m         \u001b[1;32mdef\u001b[0m \u001b[0minfer\u001b[0m\u001b[1;33m(\u001b[0m\u001b[0mx\u001b[0m\u001b[1;33m)\u001b[0m\u001b[1;33m:\u001b[0m\u001b[1;33m\u001b[0m\u001b[1;33m\u001b[0m\u001b[0m\n\u001b[0;32m  10118\u001b[0m             \u001b[1;32mreturn\u001b[0m \u001b[0mx\u001b[0m\u001b[1;33m.\u001b[0m\u001b[0m_map_values\u001b[0m\u001b[1;33m(\u001b[0m\u001b[0mfunc\u001b[0m\u001b[1;33m,\u001b[0m \u001b[0mna_action\u001b[0m\u001b[1;33m=\u001b[0m\u001b[0mna_action\u001b[0m\u001b[1;33m)\u001b[0m\u001b[1;33m\u001b[0m\u001b[1;33m\u001b[0m\u001b[0m\n",
      "\u001b[1;31mTypeError\u001b[0m: the first argument must be callable"
     ]
    }
   ],
   "source": [
    "sensitive_names\n",
    "d = {1: \"Male\", 0:\"Female\"}\n",
    "# X[sensitive_names] = X[sensitive_names].apply(lambda x:d[x], axis=1 )\n",
    "X[sensitive_names].map(lambda:d)"
   ]
  },
  {
   "cell_type": "code",
   "execution_count": 101,
   "metadata": {},
   "outputs": [
    {
     "data": {
      "text/plain": [
       "0    0\n",
       "1    0\n",
       "2    0\n",
       "3    0\n",
       "4    0\n",
       "Name: sex, dtype: int64"
      ]
     },
     "execution_count": 101,
     "metadata": {},
     "output_type": "execute_result"
    }
   ],
   "source": [
    "X[\"sex\"] = X[\"sex\"].map({\"Female\": 0, \"Male\": 1})\n",
    "X_dummy = pd.get_dummies(X)\n",
    "X_dummy[\"sex\"].head()"
   ]
  },
  {
   "cell_type": "code",
   "execution_count": 102,
   "metadata": {},
   "outputs": [],
   "source": [
    "X_train, X_test, y_train, y_test = train_test_split(\n",
    "    X_dummy, y, test_size=0.3, random_state=42\n",
    ")"
   ]
  },
  {
   "cell_type": "code",
   "execution_count": 103,
   "metadata": {},
   "outputs": [],
   "source": [
    "model = xgboost.XGBClassifier()\n",
    "model.fit(X_train, y_train)\n",
    "y_pred = model.predict(X_test)"
   ]
  },
  {
   "cell_type": "code",
   "execution_count": 104,
   "metadata": {},
   "outputs": [
    {
     "data": {
      "text/plain": [
       "14160    1\n",
       "27048    1\n",
       "28868    0\n",
       "5667     1\n",
       "7827     0\n",
       "        ..\n",
       "32476    0\n",
       "21100    1\n",
       "27131    1\n",
       "25526    1\n",
       "21385    1\n",
       "Name: sex, Length: 9769, dtype: int64"
      ]
     },
     "execution_count": 104,
     "metadata": {},
     "output_type": "execute_result"
    }
   ],
   "source": [
    "sensitive_features = X_test[\"sex\"]\n",
    "sensitive_features"
   ]
  },
  {
   "cell_type": "code",
   "execution_count": 105,
   "metadata": {},
   "outputs": [
    {
     "data": {
      "text/plain": [
       "准确度(1)      0.870816\n",
       "精确度(1)      0.779855\n",
       "召回率(1)      0.641880\n",
       "f1分数(1)     0.704173\n",
       "AUC分数(1)    0.792403\n",
       "DP差异(0)     0.186338\n",
       "DP比率(1)     0.279521\n",
       "EO差异(0)     0.091090\n",
       "EO比率(1)     0.195470\n",
       "Name: adult, dtype: float64"
      ]
     },
     "execution_count": 105,
     "metadata": {},
     "output_type": "execute_result"
    }
   ],
   "source": [
    "%reload_ext autoreload\n",
    "from utils.FairMetric_0605 import FairMetric\n",
    "\n",
    "fm = FairMetric(\"adult\", y_true=y_test, y_pred=y_pred, sensitive_features=sensitive_features)\n",
    "fm.eval_metrics()\n",
    "fm.metrics"
   ]
  },
  {
   "cell_type": "code",
   "execution_count": 106,
   "metadata": {},
   "outputs": [
    {
     "data": {
      "text/plain": [
       "19749    0.072803\n",
       "1216    -0.260657\n",
       "27962    0.040728\n",
       "23077    0.121484\n",
       "10180   -0.396558\n",
       "Name: sex, dtype: float32"
      ]
     },
     "execution_count": 106,
     "metadata": {},
     "output_type": "execute_result"
    }
   ],
   "source": [
    "import shap\n",
    "import pandas as pd\n",
    "\n",
    "\n",
    "def get_shapley_values(X, model):\n",
    "    explainer = shap.Explainer(model)\n",
    "    shap_values = explainer(X)\n",
    "    shapley_values = pd.DataFrame(\n",
    "        data=shap_values.values, columns=X.columns, index=X.index\n",
    "    )\n",
    "    return shapley_values\n",
    "\n",
    "\n",
    "shapley_values = get_shapley_values(X_train, model)\n",
    "shapley_values[\"sex\"].head()"
   ]
  },
  {
   "cell_type": "code",
   "execution_count": 107,
   "metadata": {},
   "outputs": [
    {
     "data": {
      "text/plain": [
       "[Group(scale_name=(0,), origin_name=(0,), X=       age  fnlwgt  education.num  sex  capital.gain  capital.loss  \\\n",
       " 1216    62  109463             10    0             0          1617   \n",
       " 10180   67  431426              9    0             0             0   \n",
       " 31752   26  261203              4    0             0             0   \n",
       " 17581   19  225294              9    0             0             0   \n",
       " 31033   22  172766             10    0             0             0   \n",
       " ...    ...     ...            ...  ...           ...           ...   \n",
       " 1685    46  133938             14    0         27828             0   \n",
       " 14423   24  204226             14    0             0             0   \n",
       " 4426    60   24215              6    0             0             0   \n",
       " 6265    34   64830             12    0             0             0   \n",
       " 22118   21  213055             10    0             0             0   \n",
       " \n",
       "        hours.per.week  workclass_?  workclass_Federal-gov  \\\n",
       " 1216               33        False                  False   \n",
       " 10180               2        False                  False   \n",
       " 31752              30        False                  False   \n",
       " 17581              40        False                  False   \n",
       " 31033              40        False                  False   \n",
       " ...               ...          ...                    ...   \n",
       " 1685               50        False                  False   \n",
       " 14423              40        False                  False   \n",
       " 4426               10         True                  False   \n",
       " 6265               45        False                  False   \n",
       " 22118              40         True                  False   \n",
       " \n",
       "        workclass_Local-gov  ...  native.country_Portugal  \\\n",
       " 1216                 False  ...                    False   \n",
       " 10180                False  ...                    False   \n",
       " 31752                False  ...                    False   \n",
       " 17581                False  ...                    False   \n",
       " 31033                False  ...                    False   \n",
       " ...                    ...  ...                      ...   \n",
       " 1685                 False  ...                    False   \n",
       " 14423                False  ...                    False   \n",
       " 4426                 False  ...                    False   \n",
       " 6265                 False  ...                    False   \n",
       " 22118                False  ...                    False   \n",
       " \n",
       "        native.country_Puerto-Rico  native.country_Scotland  \\\n",
       " 1216                        False                    False   \n",
       " 10180                       False                    False   \n",
       " 31752                       False                    False   \n",
       " 17581                       False                    False   \n",
       " 31033                       False                    False   \n",
       " ...                           ...                      ...   \n",
       " 1685                        False                    False   \n",
       " 14423                       False                    False   \n",
       " 4426                        False                    False   \n",
       " 6265                        False                    False   \n",
       " 22118                       False                    False   \n",
       " \n",
       "        native.country_South  native.country_Taiwan  native.country_Thailand  \\\n",
       " 1216                  False                  False                    False   \n",
       " 10180                 False                  False                    False   \n",
       " 31752                 False                  False                    False   \n",
       " 17581                 False                  False                    False   \n",
       " 31033                 False                  False                    False   \n",
       " ...                     ...                    ...                      ...   \n",
       " 1685                  False                  False                    False   \n",
       " 14423                 False                  False                    False   \n",
       " 4426                  False                  False                    False   \n",
       " 6265                  False                  False                    False   \n",
       " 22118                 False                  False                    False   \n",
       " \n",
       "        native.country_Trinadad&Tobago  native.country_United-States  \\\n",
       " 1216                            False                          True   \n",
       " 10180                           False                          True   \n",
       " 31752                           False                         False   \n",
       " 17581                           False                          True   \n",
       " 31033                           False                          True   \n",
       " ...                               ...                           ...   \n",
       " 1685                            False                          True   \n",
       " 14423                           False                          True   \n",
       " 4426                            False                          True   \n",
       " 6265                            False                          True   \n",
       " 22118                           False                          True   \n",
       " \n",
       "        native.country_Vietnam  native.country_Yugoslavia  \n",
       " 1216                    False                      False  \n",
       " 10180                   False                      False  \n",
       " 31752                   False                      False  \n",
       " 17581                   False                      False  \n",
       " 31033                   False                      False  \n",
       " ...                       ...                        ...  \n",
       " 1685                    False                      False  \n",
       " 14423                   False                      False  \n",
       " 4426                    False                      False  \n",
       " 6265                    False                      False  \n",
       " 22118                   False                      False  \n",
       " \n",
       " [7548 rows x 107 columns], y=1216     0\n",
       " 10180    0\n",
       " 31752    0\n",
       " 17581    0\n",
       " 31033    0\n",
       "         ..\n",
       " 1685     1\n",
       " 14423    0\n",
       " 4426     0\n",
       " 6265     0\n",
       " 22118    0\n",
       " Name: income, Length: 7548, dtype: int64),\n",
       " Group(scale_name=(1,), origin_name=(1,), X=       age  fnlwgt  education.num  sex  capital.gain  capital.loss  \\\n",
       " 19749   58  290661              9    1             0             0   \n",
       " 27962   33  137088             13    1             0             0   \n",
       " 23077   24  117767             12    1             0             0   \n",
       " 12681   30  157289              7    1             0             0   \n",
       " 9144    33  192644              9    1             0             0   \n",
       " ...    ...     ...            ...  ...           ...           ...   \n",
       " 29802   25  410240              9    1             0             0   \n",
       " 5390    51  146767             11    1             0             0   \n",
       " 860     55  238192              9    1             0          1887   \n",
       " 15795   41  154076             10    1             0             0   \n",
       " 23654   22  162667              9    1             0             0   \n",
       " \n",
       "        hours.per.week  workclass_?  workclass_Federal-gov  \\\n",
       " 19749              40        False                  False   \n",
       " 27962              40        False                  False   \n",
       " 23077              20        False                  False   \n",
       " 12681              40         True                  False   \n",
       " 9144               35        False                  False   \n",
       " ...               ...          ...                    ...   \n",
       " 29802              40        False                  False   \n",
       " 5390               40        False                  False   \n",
       " 860                40        False                   True   \n",
       " 15795              50        False                  False   \n",
       " 23654              50        False                  False   \n",
       " \n",
       "        workclass_Local-gov  ...  native.country_Portugal  \\\n",
       " 19749                False  ...                    False   \n",
       " 27962                False  ...                    False   \n",
       " 23077                False  ...                    False   \n",
       " 12681                False  ...                    False   \n",
       " 9144                 False  ...                    False   \n",
       " ...                    ...  ...                      ...   \n",
       " 29802                False  ...                    False   \n",
       " 5390                 False  ...                    False   \n",
       " 860                  False  ...                    False   \n",
       " 15795                False  ...                    False   \n",
       " 23654                False  ...                     True   \n",
       " \n",
       "        native.country_Puerto-Rico  native.country_Scotland  \\\n",
       " 19749                       False                    False   \n",
       " 27962                       False                    False   \n",
       " 23077                       False                    False   \n",
       " 12681                       False                    False   \n",
       " 9144                         True                    False   \n",
       " ...                           ...                      ...   \n",
       " 29802                       False                    False   \n",
       " 5390                        False                    False   \n",
       " 860                         False                    False   \n",
       " 15795                       False                    False   \n",
       " 23654                       False                    False   \n",
       " \n",
       "        native.country_South  native.country_Taiwan  native.country_Thailand  \\\n",
       " 19749                 False                  False                    False   \n",
       " 27962                 False                  False                    False   \n",
       " 23077                 False                  False                    False   \n",
       " 12681                 False                  False                    False   \n",
       " 9144                  False                  False                    False   \n",
       " ...                     ...                    ...                      ...   \n",
       " 29802                 False                  False                    False   \n",
       " 5390                  False                  False                    False   \n",
       " 860                   False                  False                    False   \n",
       " 15795                 False                  False                    False   \n",
       " 23654                 False                  False                    False   \n",
       " \n",
       "        native.country_Trinadad&Tobago  native.country_United-States  \\\n",
       " 19749                           False                          True   \n",
       " 27962                           False                         False   \n",
       " 23077                           False                          True   \n",
       " 12681                           False                          True   \n",
       " 9144                            False                         False   \n",
       " ...                               ...                           ...   \n",
       " 29802                           False                          True   \n",
       " 5390                            False                          True   \n",
       " 860                             False                          True   \n",
       " 15795                           False                          True   \n",
       " 23654                           False                         False   \n",
       " \n",
       "        native.country_Vietnam  native.country_Yugoslavia  \n",
       " 19749                   False                      False  \n",
       " 27962                   False                      False  \n",
       " 23077                   False                      False  \n",
       " 12681                   False                      False  \n",
       " 9144                    False                      False  \n",
       " ...                       ...                        ...  \n",
       " 29802                   False                      False  \n",
       " 5390                    False                      False  \n",
       " 860                     False                      False  \n",
       " 15795                   False                      False  \n",
       " 23654                   False                      False  \n",
       " \n",
       " [15244 rows x 107 columns], y=19749    0\n",
       " 27962    0\n",
       " 23077    0\n",
       " 12681    0\n",
       " 9144     0\n",
       "         ..\n",
       " 29802    0\n",
       " 5390     1\n",
       " 860      1\n",
       " 15795    1\n",
       " 23654    0\n",
       " Name: income, Length: 15244, dtype: int64)]"
      ]
     },
     "execution_count": 107,
     "metadata": {},
     "output_type": "execute_result"
    }
   ],
   "source": [
    "## 根据 sex 分割\n",
    "groups = p._group_Xy(X=X_train, y=y_train)\n",
    "groups"
   ]
  },
  {
   "cell_type": "code",
   "execution_count": 108,
   "metadata": {},
   "outputs": [],
   "source": [
    "from utils.ShapFairFrameGroup_0606 import ShapFairGroup"
   ]
  },
  {
   "cell_type": "code",
   "execution_count": 109,
   "metadata": {},
   "outputs": [],
   "source": [
    "from datetime import datetime\n",
    "import logging\n",
    "logging.basicConfig(level=logging.INFO)\n",
    "\n",
    "class ShapFairFramework:\n",
    "    def __init__(self, groups, sensitive_names) -> None:\n",
    "        self.groups = groups\n",
    "        self.sensitive_names = sensitive_names\n",
    "\n",
    "    def run(self):\n",
    "        for group in self.groups:\n",
    "            self.handle_group(group)\n",
    "\n",
    "    def handle_group(self, group: Group, *, suffix=\"v1\", threshold):\n",
    "        print(\"-\"*50)\n",
    "        # print(\"处理 group\", \"\".join(group.origin_name))\n",
    "\n",
    "        X: pd.DataFrame = group.X\n",
    "        y: pd.Series = group.y\n",
    "        origin_name = \"\".join(map(lambda x: str(x), group.origin_name))\n",
    "\n",
    "        shapley_values_X = shapley_values.loc[X.index]\n",
    "        sfg = ShapFairGroup(X, y, shapley_values_X, self.sensitive_names)\n",
    "        date = datetime.today().strftime(\"%Y-%m-%d\")\n",
    "        # todo\n",
    "        sfg.sdgg(f\"cache/{date}-{origin_name}--{suffix}.csv\")\n",
    "        sfg.show_sigg_hist(\"sex\")\n",
    "        # todo 硬编码\n",
    "        sfg.get_candidates_fair_X(\"sex\", threshold)\n",
    "        sfg.get_df_neighbors_by_knn()\n",
    "        sfg.get_unfair_idx()\n",
    "        return sfg.unfair_idx.values"
   ]
  },
  {
   "cell_type": "code",
   "execution_count": 110,
   "metadata": {},
   "outputs": [
    {
     "name": "stdout",
     "output_type": "stream",
     "text": [
      "--------------------------------------------------\n",
      "读取缓存:  cache/2024-06-06-0--v1.csv\n"
     ]
    },
    {
     "data": {
      "image/png": "[encoded data removed]",
      "text/plain": [
       "<Figure size 640x480 with 1 Axes>"
      ]
     },
     "metadata": {},
     "output_type": "display_data"
    },
    {
     "name": "stdout",
     "output_type": "stream",
     "text": [
      "统计: 大于 threshold 724 个, 小于 6824 个\n",
      "候选者 724 个, 不公平者 37 个, 比例 5.11%\n",
      "--------------------------------------------------\n",
      "读取缓存:  cache/2024-06-06-1--v1.csv\n"
     ]
    },
    {
     "data": {
      "image/png": "[encoded data removed]",
      "text/plain": [
       "<Figure size 640x480 with 1 Axes>"
      ]
     },
     "metadata": {},
     "output_type": "display_data"
    },
    {
     "name": "stdout",
     "output_type": "stream",
     "text": [
      "统计: 大于 threshold 48 个, 小于 15196 个\n",
      "候选者 48 个, 不公平者 17 个, 比例 35.42%\n"
     ]
    }
   ],
   "source": [
    "sff = ShapFairFramework(groups, sensitive_names=sensitive_names)\n",
    "female_unfair_idxs = sff.handle_group(groups[0], threshold=0.22)\n",
    "male_unfair_idxs = sff.handle_group(groups[1], threshold=0.18)"
   ]
  },
  {
   "cell_type": "code",
   "execution_count": 111,
   "metadata": {},
   "outputs": [
    {
     "data": {
      "text/plain": [
       "income\n",
       "False    22738\n",
       "True        54\n",
       "Name: count, dtype: int64"
      ]
     },
     "execution_count": 111,
     "metadata": {},
     "output_type": "execute_result"
    }
   ],
   "source": [
    "import numpy as np\n",
    "unfair_idx = np.r_[female_unfair_idxs, male_unfair_idxs]\n",
    "unfair_idx, len(unfair_idx)\n",
    "\n",
    "\n",
    "y_new = y_train.copy()\n",
    "y_new[unfair_idx] = 1 - y_new[unfair_idx]\n",
    "y_new.shape\n",
    "(y_new != y_train).value_counts()"
   ]
  },
  {
   "cell_type": "code",
   "execution_count": 112,
   "metadata": {},
   "outputs": [],
   "source": [
    "model_new = xgboost.XGBClassifier()\n",
    "model_new.fit(X_train, y_new)\n",
    "y_pred = model_new.predict(X_test)"
   ]
  },
  {
   "cell_type": "code",
   "execution_count": 113,
   "metadata": {},
   "outputs": [
    {
     "data": {
      "text/plain": [
       "准确度(1)      0.871123\n",
       "精确度(1)      0.777037\n",
       "召回率(1)      0.647863\n",
       "f1分数(1)     0.706595\n",
       "AUC分数(1)    0.794654\n",
       "DP差异(0)     0.190620\n",
       "DP比率(1)     0.274112\n",
       "EO差异(0)     0.105111\n",
       "EO比率(1)     0.194471\n",
       "Name: XGBClassifier-new, dtype: float64"
      ]
     },
     "execution_count": 113,
     "metadata": {},
     "output_type": "execute_result"
    }
   ],
   "source": [
    "fm_new = FairMetric(\"XGBClassifier-new\", y_test, y_pred, sensitive_features=sensitive_features)\n",
    "fm_new.metrics"
   ]
  },
  {
   "cell_type": "code",
   "execution_count": 114,
   "metadata": {},
   "outputs": [
    {
     "data": {
      "text/plain": [
       "准确度(1)      0.870816\n",
       "精确度(1)      0.779855\n",
       "召回率(1)      0.641880\n",
       "f1分数(1)     0.704173\n",
       "AUC分数(1)    0.792403\n",
       "DP差异(0)     0.186338\n",
       "DP比率(1)     0.279521\n",
       "EO差异(0)     0.091090\n",
       "EO比率(1)     0.195470\n",
       "Name: adult, dtype: float64"
      ]
     },
     "execution_count": 114,
     "metadata": {},
     "output_type": "execute_result"
    }
   ],
   "source": [
    "fm.metrics"
   ]
  },
  {
   "cell_type": "code",
   "execution_count": 126,
   "metadata": {},
   "outputs": [
    {
     "name": "stdout",
     "output_type": "stream",
     "text": [
      "       Name     Age\n",
      "0  Mr. John  Mr. 25\n",
      "1  Mr. Emma  Mr. 28\n",
      "2  Mr. Mike  Mr. 30\n"
     ]
    }
   ],
   "source": [
    "import pandas as pd\n",
    "\n",
    "# 创建示例的 DataFrame 对象\n",
    "data = {'Name': ['John', 'Emma', 'Mike'],\n",
    "        'Age': [\"25\", \"28\", \"30\"]}\n",
    "df = pd.DataFrame(data)\n",
    "\n",
    "# 定义一个函数来处理每个元素\n",
    "def add_prefix(name):\n",
    "    return 'Mr. ' + name\n",
    "\n",
    "# 使用 map() 方法将函数应用于 Name 列的每个元素\n",
    "columns = [\"Name\", \"Age\"]\n",
    "df[columns] = df[columns].map(add_prefix)\n",
    "\n",
    "# 输出修改后的 DataFrame\n",
    "print(df)"
   ]
  },
  {
   "cell_type": "code",
   "execution_count": null,
   "metadata": {},
   "outputs": [],
   "source": []
  }
 ],
 "metadata": {
  "kernelspec": {
   "display_name": "dl",
   "language": "python",
   "name": "python3"
  },
  "language_info": {
   "codemirror_mode": {
    "name": "ipython",
    "version": 3
   },
   "file_extension": ".py",
   "mimetype": "text/x-python",
   "name": "python",
   "nbconvert_exporter": "python",
   "pygments_lexer": "ipython3",
   "version": "3.10.14"
  }
 },
 "nbformat": 4,
 "nbformat_minor": 2
}
