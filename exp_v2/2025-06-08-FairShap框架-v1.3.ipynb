{
 "cells": [
  {
   "cell_type": "markdown",
   "metadata": {},
   "source": [
    "# FairShap 框架"
   ]
  },
  {
   "cell_type": "markdown",
   "metadata": {},
   "source": [
    "![svg](assets/2024-06-07-流程图-v2.drawio.svg)"
   ]
  },
  {
   "cell_type": "markdown",
   "metadata": {},
   "source": [
    "## 数据预处理部分\n"
   ]
  },
  {
   "cell_type": "code",
   "execution_count": 5,
   "metadata": {},
   "outputs": [],
   "source": [
    "from utils.dataPreProcessor_0608 import DataPreProcessor\n",
    "\n",
    "        "
   ]
  },
  {
   "cell_type": "code",
   "execution_count": 6,
   "metadata": {},
   "outputs": [],
   "source": [
    "# 重新加载模块\n",
    "dataset_name = \"adult\"\n",
    "data_path = \"../input/adult.csv\"\n",
    "label=\"income\"\n",
    "sensitive_names = [\"sex\"]\n",
    "columns_mapper = {\n",
    "    \"income\": {\"<=50K\": 0, \">50K\": 1},\n",
    "    \"sex\": {\"Male\": 1, \"Female\": 0},\n",
    "}\n",
    "np_seed = 42\n",
    "test_size=0.3\n",
    "# 数据处理\n",
    "\n",
    "\n",
    "p = DataPreProcessor(\n",
    "    dataset_name=dataset_name,\n",
    "    data_path=data_path,\n",
    "    sensitive_names=sensitive_names,\n",
    "    label=label,\n",
    "    columns_mapper=columns_mapper,\n",
    "    np_seed=np_seed,\n",
    "    log_level=None,\n",
    ")"
   ]
  },
  {
   "cell_type": "code",
   "execution_count": 9,
   "metadata": {},
   "outputs": [],
   "source": [
    "X_train, X_test, y_train, y_test = p.get_split()"
   ]
  },
  {
   "cell_type": "code",
   "execution_count": 11,
   "metadata": {},
   "outputs": [
    {
     "data": {
      "text/html": [
       "<div>\n",
       "<style scoped>\n",
       "    .dataframe tbody tr th:only-of-type {\n",
       "        vertical-align: middle;\n",
       "    }\n",
       "\n",
       "    .dataframe tbody tr th {\n",
       "        vertical-align: top;\n",
       "    }\n",
       "\n",
       "    .dataframe thead th {\n",
       "        text-align: right;\n",
       "    }\n",
       "</style>\n",
       "<table border=\"1\" class=\"dataframe\">\n",
       "  <thead>\n",
       "    <tr style=\"text-align: right;\">\n",
       "      <th></th>\n",
       "      <th>age</th>\n",
       "      <th>fnlwgt</th>\n",
       "      <th>education.num</th>\n",
       "      <th>sex</th>\n",
       "      <th>capital.gain</th>\n",
       "      <th>capital.loss</th>\n",
       "      <th>hours.per.week</th>\n",
       "      <th>workclass_Federal-gov</th>\n",
       "      <th>workclass_Local-gov</th>\n",
       "      <th>workclass_Never-worked</th>\n",
       "      <th>...</th>\n",
       "      <th>native.country_Portugal</th>\n",
       "      <th>native.country_Puerto-Rico</th>\n",
       "      <th>native.country_Scotland</th>\n",
       "      <th>native.country_South</th>\n",
       "      <th>native.country_Taiwan</th>\n",
       "      <th>native.country_Thailand</th>\n",
       "      <th>native.country_Trinadad&amp;Tobago</th>\n",
       "      <th>native.country_United-States</th>\n",
       "      <th>native.country_Vietnam</th>\n",
       "      <th>native.country_Yugoslavia</th>\n",
       "    </tr>\n",
       "  </thead>\n",
       "  <tbody>\n",
       "    <tr>\n",
       "      <th>19749</th>\n",
       "      <td>58</td>\n",
       "      <td>290661</td>\n",
       "      <td>9</td>\n",
       "      <td>1</td>\n",
       "      <td>0</td>\n",
       "      <td>0</td>\n",
       "      <td>40</td>\n",
       "      <td>False</td>\n",
       "      <td>False</td>\n",
       "      <td>False</td>\n",
       "      <td>...</td>\n",
       "      <td>False</td>\n",
       "      <td>False</td>\n",
       "      <td>False</td>\n",
       "      <td>False</td>\n",
       "      <td>False</td>\n",
       "      <td>False</td>\n",
       "      <td>False</td>\n",
       "      <td>True</td>\n",
       "      <td>False</td>\n",
       "      <td>False</td>\n",
       "    </tr>\n",
       "    <tr>\n",
       "      <th>1216</th>\n",
       "      <td>62</td>\n",
       "      <td>109463</td>\n",
       "      <td>10</td>\n",
       "      <td>0</td>\n",
       "      <td>0</td>\n",
       "      <td>1617</td>\n",
       "      <td>33</td>\n",
       "      <td>False</td>\n",
       "      <td>False</td>\n",
       "      <td>False</td>\n",
       "      <td>...</td>\n",
       "      <td>False</td>\n",
       "      <td>False</td>\n",
       "      <td>False</td>\n",
       "      <td>False</td>\n",
       "      <td>False</td>\n",
       "      <td>False</td>\n",
       "      <td>False</td>\n",
       "      <td>True</td>\n",
       "      <td>False</td>\n",
       "      <td>False</td>\n",
       "    </tr>\n",
       "    <tr>\n",
       "      <th>27962</th>\n",
       "      <td>33</td>\n",
       "      <td>137088</td>\n",
       "      <td>13</td>\n",
       "      <td>1</td>\n",
       "      <td>0</td>\n",
       "      <td>0</td>\n",
       "      <td>40</td>\n",
       "      <td>False</td>\n",
       "      <td>False</td>\n",
       "      <td>False</td>\n",
       "      <td>...</td>\n",
       "      <td>False</td>\n",
       "      <td>False</td>\n",
       "      <td>False</td>\n",
       "      <td>False</td>\n",
       "      <td>False</td>\n",
       "      <td>False</td>\n",
       "      <td>False</td>\n",
       "      <td>False</td>\n",
       "      <td>False</td>\n",
       "      <td>False</td>\n",
       "    </tr>\n",
       "    <tr>\n",
       "      <th>23077</th>\n",
       "      <td>24</td>\n",
       "      <td>117767</td>\n",
       "      <td>12</td>\n",
       "      <td>1</td>\n",
       "      <td>0</td>\n",
       "      <td>0</td>\n",
       "      <td>20</td>\n",
       "      <td>False</td>\n",
       "      <td>False</td>\n",
       "      <td>False</td>\n",
       "      <td>...</td>\n",
       "      <td>False</td>\n",
       "      <td>False</td>\n",
       "      <td>False</td>\n",
       "      <td>False</td>\n",
       "      <td>False</td>\n",
       "      <td>False</td>\n",
       "      <td>False</td>\n",
       "      <td>True</td>\n",
       "      <td>False</td>\n",
       "      <td>False</td>\n",
       "    </tr>\n",
       "    <tr>\n",
       "      <th>10180</th>\n",
       "      <td>67</td>\n",
       "      <td>431426</td>\n",
       "      <td>9</td>\n",
       "      <td>0</td>\n",
       "      <td>0</td>\n",
       "      <td>0</td>\n",
       "      <td>2</td>\n",
       "      <td>False</td>\n",
       "      <td>False</td>\n",
       "      <td>False</td>\n",
       "      <td>...</td>\n",
       "      <td>False</td>\n",
       "      <td>False</td>\n",
       "      <td>False</td>\n",
       "      <td>False</td>\n",
       "      <td>False</td>\n",
       "      <td>False</td>\n",
       "      <td>False</td>\n",
       "      <td>True</td>\n",
       "      <td>False</td>\n",
       "      <td>False</td>\n",
       "    </tr>\n",
       "  </tbody>\n",
       "</table>\n",
       "<p>5 rows × 104 columns</p>\n",
       "</div>"
      ],
      "text/plain": [
       "       age  fnlwgt  education.num  sex  capital.gain  capital.loss  \\\n",
       "19749   58  290661              9    1             0             0   \n",
       "1216    62  109463             10    0             0          1617   \n",
       "27962   33  137088             13    1             0             0   \n",
       "23077   24  117767             12    1             0             0   \n",
       "10180   67  431426              9    0             0             0   \n",
       "\n",
       "       hours.per.week  workclass_Federal-gov  workclass_Local-gov  \\\n",
       "19749              40                  False                False   \n",
       "1216               33                  False                False   \n",
       "27962              40                  False                False   \n",
       "23077              20                  False                False   \n",
       "10180               2                  False                False   \n",
       "\n",
       "       workclass_Never-worked  ...  native.country_Portugal  \\\n",
       "19749                   False  ...                    False   \n",
       "1216                    False  ...                    False   \n",
       "27962                   False  ...                    False   \n",
       "23077                   False  ...                    False   \n",
       "10180                   False  ...                    False   \n",
       "\n",
       "       native.country_Puerto-Rico  native.country_Scotland  \\\n",
       "19749                       False                    False   \n",
       "1216                        False                    False   \n",
       "27962                       False                    False   \n",
       "23077                       False                    False   \n",
       "10180                       False                    False   \n",
       "\n",
       "       native.country_South  native.country_Taiwan  native.country_Thailand  \\\n",
       "19749                 False                  False                    False   \n",
       "1216                  False                  False                    False   \n",
       "27962                 False                  False                    False   \n",
       "23077                 False                  False                    False   \n",
       "10180                 False                  False                    False   \n",
       "\n",
       "       native.country_Trinadad&Tobago  native.country_United-States  \\\n",
       "19749                           False                          True   \n",
       "1216                            False                          True   \n",
       "27962                           False                         False   \n",
       "23077                           False                          True   \n",
       "10180                           False                          True   \n",
       "\n",
       "       native.country_Vietnam  native.country_Yugoslavia  \n",
       "19749                   False                      False  \n",
       "1216                    False                      False  \n",
       "27962                   False                      False  \n",
       "23077                   False                      False  \n",
       "10180                   False                      False  \n",
       "\n",
       "[5 rows x 104 columns]"
      ]
     },
     "execution_count": 11,
     "metadata": {},
     "output_type": "execute_result"
    }
   ],
   "source": [
    "X_train.head()"
   ]
  },
  {
   "cell_type": "code",
   "execution_count": 14,
   "metadata": {},
   "outputs": [],
   "source": [
    "import xgboost\n",
    "model = xgboost.XGBClassifier()\n",
    "model.fit(X_train, y_train)\n",
    "y_pred = model.predict(X_test)"
   ]
  },
  {
   "cell_type": "code",
   "execution_count": 28,
   "metadata": {},
   "outputs": [
    {
     "data": {
      "text/plain": [
       "14160    1\n",
       "27048    1\n",
       "28868    0\n",
       "5667     1\n",
       "7827     0\n",
       "        ..\n",
       "32476    0\n",
       "21100    1\n",
       "27131    1\n",
       "25526    1\n",
       "21385    1\n",
       "Name: sex, Length: 9769, dtype: int64"
      ]
     },
     "execution_count": 28,
     "metadata": {},
     "output_type": "execute_result"
    }
   ],
   "source": [
    "sensitive_features = X_test[\"sex\"]\n",
    "sensitive_features"
   ]
  },
  {
   "cell_type": "code",
   "execution_count": 29,
   "metadata": {},
   "outputs": [
    {
     "data": {
      "text/plain": [
       "准确度(1)      0.870918\n",
       "精确度(1)      0.779389\n",
       "召回率(1)      0.643162\n",
       "f1分数(1)     0.704753\n",
       "AUC分数(1)    0.792910\n",
       "DP差异(0)     0.185713\n",
       "DP比率(1)     0.282786\n",
       "EO差异(0)     0.099638\n",
       "EO比率(1)     0.218000\n",
       "Name: adult, dtype: float64"
      ]
     },
     "execution_count": 29,
     "metadata": {},
     "output_type": "execute_result"
    }
   ],
   "source": [
    "%reload_ext autoreload\n",
    "from utils.FairMetric_0605 import FairMetric\n",
    "\n",
    "fm = FairMetric(\"adult\", y_true=y_test, y_pred=y_pred, sensitive_features=sensitive_features)\n",
    "fm.eval_metrics()\n",
    "fm.metrics"
   ]
  },
  {
   "cell_type": "code",
   "execution_count": 30,
   "metadata": {},
   "outputs": [],
   "source": [
    "# 找到 优势集 和 劣势集 的 index\n",
    "male_y1_index = ((X_train['sex'] == 1) & (y_train == 1))\n",
    "male_y1 = X_train.loc[male_y1_index]\n",
    "\n",
    "female_y0_index = ((X_train['sex'] == 0) & (y_train == 0))\n",
    "female_y0 = X_train.loc[female_y0_index]"
   ]
  },
  {
   "cell_type": "code",
   "execution_count": 31,
   "metadata": {},
   "outputs": [
    {
     "name": "stdout",
     "output_type": "stream",
     "text": [
      "sex\n",
      "1    4652\n",
      "Name: count, dtype: int64 income\n",
      "1    4652\n",
      "Name: count, dtype: int64\n",
      "sex\n",
      "0    6699\n",
      "Name: count, dtype: int64 income\n",
      "0    6699\n",
      "Name: count, dtype: int64\n"
     ]
    }
   ],
   "source": [
    "# 简单验证\n",
    "print(male_y1['sex'].value_counts(), y_train[male_y1_index].value_counts())\n",
    "print(female_y0['sex'].value_counts(), y_train[female_y0_index].value_counts())"
   ]
  },
  {
   "cell_type": "code",
   "execution_count": 32,
   "metadata": {},
   "outputs": [],
   "source": [
    "import shap\n",
    "def get_shapley_values(X, model):\n",
    "    explainer = shap.Explainer(model)\n",
    "    shap_values = explainer(X)\n",
    "    shapley_values = pd.DataFrame(\n",
    "        data=shap_values.values, columns=X.columns, index=X.index\n",
    "    )\n",
    "    return shapley_values\n",
    "shapley_values = get_shapley_values(X_train, model)"
   ]
  },
  {
   "cell_type": "code",
   "execution_count": 33,
   "metadata": {},
   "outputs": [
    {
     "data": {
      "text/html": [
       "<div>\n",
       "<style scoped>\n",
       "    .dataframe tbody tr th:only-of-type {\n",
       "        vertical-align: middle;\n",
       "    }\n",
       "\n",
       "    .dataframe tbody tr th {\n",
       "        vertical-align: top;\n",
       "    }\n",
       "\n",
       "    .dataframe thead th {\n",
       "        text-align: right;\n",
       "    }\n",
       "</style>\n",
       "<table border=\"1\" class=\"dataframe\">\n",
       "  <thead>\n",
       "    <tr style=\"text-align: right;\">\n",
       "      <th></th>\n",
       "      <th>age</th>\n",
       "      <th>fnlwgt</th>\n",
       "      <th>education.num</th>\n",
       "      <th>sex</th>\n",
       "      <th>capital.gain</th>\n",
       "      <th>capital.loss</th>\n",
       "      <th>hours.per.week</th>\n",
       "      <th>workclass_Federal-gov</th>\n",
       "      <th>workclass_Local-gov</th>\n",
       "      <th>workclass_Never-worked</th>\n",
       "      <th>...</th>\n",
       "      <th>native.country_Portugal</th>\n",
       "      <th>native.country_Puerto-Rico</th>\n",
       "      <th>native.country_Scotland</th>\n",
       "      <th>native.country_South</th>\n",
       "      <th>native.country_Taiwan</th>\n",
       "      <th>native.country_Thailand</th>\n",
       "      <th>native.country_Trinadad&amp;Tobago</th>\n",
       "      <th>native.country_United-States</th>\n",
       "      <th>native.country_Vietnam</th>\n",
       "      <th>native.country_Yugoslavia</th>\n",
       "    </tr>\n",
       "  </thead>\n",
       "  <tbody>\n",
       "    <tr>\n",
       "      <th>19749</th>\n",
       "      <td>0.484842</td>\n",
       "      <td>-0.228446</td>\n",
       "      <td>-0.373211</td>\n",
       "      <td>0.066091</td>\n",
       "      <td>-0.151900</td>\n",
       "      <td>-0.064256</td>\n",
       "      <td>-0.026789</td>\n",
       "      <td>-0.029827</td>\n",
       "      <td>0.012762</td>\n",
       "      <td>0.0</td>\n",
       "      <td>...</td>\n",
       "      <td>0.0</td>\n",
       "      <td>0.001327</td>\n",
       "      <td>0.0</td>\n",
       "      <td>0.0</td>\n",
       "      <td>-0.000420</td>\n",
       "      <td>0.0</td>\n",
       "      <td>0.0</td>\n",
       "      <td>0.021753</td>\n",
       "      <td>0.001019</td>\n",
       "      <td>-0.000480</td>\n",
       "    </tr>\n",
       "    <tr>\n",
       "      <th>1216</th>\n",
       "      <td>0.478362</td>\n",
       "      <td>-0.138005</td>\n",
       "      <td>-0.213564</td>\n",
       "      <td>-0.603941</td>\n",
       "      <td>-0.130865</td>\n",
       "      <td>-2.648266</td>\n",
       "      <td>-0.882516</td>\n",
       "      <td>-0.023052</td>\n",
       "      <td>0.003886</td>\n",
       "      <td>0.0</td>\n",
       "      <td>...</td>\n",
       "      <td>0.0</td>\n",
       "      <td>0.001471</td>\n",
       "      <td>0.0</td>\n",
       "      <td>0.0</td>\n",
       "      <td>-0.000420</td>\n",
       "      <td>0.0</td>\n",
       "      <td>0.0</td>\n",
       "      <td>0.002083</td>\n",
       "      <td>0.000933</td>\n",
       "      <td>-0.000479</td>\n",
       "    </tr>\n",
       "    <tr>\n",
       "      <th>27962</th>\n",
       "      <td>-0.293473</td>\n",
       "      <td>-0.031952</td>\n",
       "      <td>0.700457</td>\n",
       "      <td>0.044355</td>\n",
       "      <td>-0.198254</td>\n",
       "      <td>-0.095064</td>\n",
       "      <td>-0.079898</td>\n",
       "      <td>-0.017346</td>\n",
       "      <td>0.006110</td>\n",
       "      <td>0.0</td>\n",
       "      <td>...</td>\n",
       "      <td>0.0</td>\n",
       "      <td>0.001892</td>\n",
       "      <td>0.0</td>\n",
       "      <td>0.0</td>\n",
       "      <td>-0.002735</td>\n",
       "      <td>0.0</td>\n",
       "      <td>0.0</td>\n",
       "      <td>-0.289931</td>\n",
       "      <td>0.001018</td>\n",
       "      <td>-0.000479</td>\n",
       "    </tr>\n",
       "    <tr>\n",
       "      <th>23077</th>\n",
       "      <td>-1.785897</td>\n",
       "      <td>-0.044517</td>\n",
       "      <td>0.085909</td>\n",
       "      <td>0.122137</td>\n",
       "      <td>-0.126202</td>\n",
       "      <td>-0.058107</td>\n",
       "      <td>-0.902482</td>\n",
       "      <td>-0.016421</td>\n",
       "      <td>-0.002605</td>\n",
       "      <td>0.0</td>\n",
       "      <td>...</td>\n",
       "      <td>0.0</td>\n",
       "      <td>0.001336</td>\n",
       "      <td>0.0</td>\n",
       "      <td>0.0</td>\n",
       "      <td>-0.000096</td>\n",
       "      <td>0.0</td>\n",
       "      <td>0.0</td>\n",
       "      <td>0.016154</td>\n",
       "      <td>0.001018</td>\n",
       "      <td>-0.000479</td>\n",
       "    </tr>\n",
       "    <tr>\n",
       "      <th>10180</th>\n",
       "      <td>-0.627592</td>\n",
       "      <td>0.178091</td>\n",
       "      <td>-0.516186</td>\n",
       "      <td>-0.280310</td>\n",
       "      <td>-0.129516</td>\n",
       "      <td>-0.084090</td>\n",
       "      <td>-0.577171</td>\n",
       "      <td>-0.015572</td>\n",
       "      <td>0.004121</td>\n",
       "      <td>0.0</td>\n",
       "      <td>...</td>\n",
       "      <td>0.0</td>\n",
       "      <td>0.001101</td>\n",
       "      <td>0.0</td>\n",
       "      <td>0.0</td>\n",
       "      <td>-0.000391</td>\n",
       "      <td>0.0</td>\n",
       "      <td>0.0</td>\n",
       "      <td>-0.003176</td>\n",
       "      <td>0.001018</td>\n",
       "      <td>-0.000480</td>\n",
       "    </tr>\n",
       "  </tbody>\n",
       "</table>\n",
       "<p>5 rows × 104 columns</p>\n",
       "</div>"
      ],
      "text/plain": [
       "            age    fnlwgt  education.num       sex  capital.gain  \\\n",
       "19749  0.484842 -0.228446      -0.373211  0.066091     -0.151900   \n",
       "1216   0.478362 -0.138005      -0.213564 -0.603941     -0.130865   \n",
       "27962 -0.293473 -0.031952       0.700457  0.044355     -0.198254   \n",
       "23077 -1.785897 -0.044517       0.085909  0.122137     -0.126202   \n",
       "10180 -0.627592  0.178091      -0.516186 -0.280310     -0.129516   \n",
       "\n",
       "       capital.loss  hours.per.week  workclass_Federal-gov  \\\n",
       "19749     -0.064256       -0.026789              -0.029827   \n",
       "1216      -2.648266       -0.882516              -0.023052   \n",
       "27962     -0.095064       -0.079898              -0.017346   \n",
       "23077     -0.058107       -0.902482              -0.016421   \n",
       "10180     -0.084090       -0.577171              -0.015572   \n",
       "\n",
       "       workclass_Local-gov  workclass_Never-worked  ...  \\\n",
       "19749             0.012762                     0.0  ...   \n",
       "1216              0.003886                     0.0  ...   \n",
       "27962             0.006110                     0.0  ...   \n",
       "23077            -0.002605                     0.0  ...   \n",
       "10180             0.004121                     0.0  ...   \n",
       "\n",
       "       native.country_Portugal  native.country_Puerto-Rico  \\\n",
       "19749                      0.0                    0.001327   \n",
       "1216                       0.0                    0.001471   \n",
       "27962                      0.0                    0.001892   \n",
       "23077                      0.0                    0.001336   \n",
       "10180                      0.0                    0.001101   \n",
       "\n",
       "       native.country_Scotland  native.country_South  native.country_Taiwan  \\\n",
       "19749                      0.0                   0.0              -0.000420   \n",
       "1216                       0.0                   0.0              -0.000420   \n",
       "27962                      0.0                   0.0              -0.002735   \n",
       "23077                      0.0                   0.0              -0.000096   \n",
       "10180                      0.0                   0.0              -0.000391   \n",
       "\n",
       "       native.country_Thailand  native.country_Trinadad&Tobago  \\\n",
       "19749                      0.0                             0.0   \n",
       "1216                       0.0                             0.0   \n",
       "27962                      0.0                             0.0   \n",
       "23077                      0.0                             0.0   \n",
       "10180                      0.0                             0.0   \n",
       "\n",
       "       native.country_United-States  native.country_Vietnam  \\\n",
       "19749                      0.021753                0.001019   \n",
       "1216                       0.002083                0.000933   \n",
       "27962                     -0.289931                0.001018   \n",
       "23077                      0.016154                0.001018   \n",
       "10180                     -0.003176                0.001018   \n",
       "\n",
       "       native.country_Yugoslavia  \n",
       "19749                  -0.000480  \n",
       "1216                   -0.000479  \n",
       "27962                  -0.000479  \n",
       "23077                  -0.000479  \n",
       "10180                  -0.000480  \n",
       "\n",
       "[5 rows x 104 columns]"
      ]
     },
     "execution_count": 33,
     "metadata": {},
     "output_type": "execute_result"
    }
   ],
   "source": [
    "shapley_values.head()"
   ]
  },
  {
   "cell_type": "code",
   "execution_count": 34,
   "metadata": {},
   "outputs": [],
   "source": [
    "male_y1_shap_values = shapley_values.loc[male_y1_index]\n",
    "female_y0_shap_values = shapley_values.loc[female_y0_index]"
   ]
  },
  {
   "cell_type": "code",
   "execution_count": 35,
   "metadata": {},
   "outputs": [
    {
     "data": {
      "text/plain": [
       "sex\n",
       "1    4652\n",
       "Name: count, dtype: int64"
      ]
     },
     "execution_count": 35,
     "metadata": {},
     "output_type": "execute_result"
    }
   ],
   "source": [
    "X_train.loc[male_y1_index]['sex'].value_counts()"
   ]
  },
  {
   "cell_type": "code",
   "execution_count": 37,
   "metadata": {},
   "outputs": [],
   "source": [
    "def f_select(\n",
    "    *,\n",
    "    percent=0.03,\n",
    "    df_sv: pd.DataFrame = None,\n",
    "    X: pd.DataFrame = None,\n",
    "    y: pd.Series = None,\n",
    "    ascending=True,\n",
    "    changed_label=None\n",
    "):\n",
    "    df_sorted = df_sv.sort_values(\"sex\", ascending=ascending)\n",
    "    num = round(df_sorted.shape[0] * percent)\n",
    "    idx = df_sorted.head(num).index\n",
    "    select_X = X.loc[idx]\n",
    "    select_X[\"sex\"] = changed_label\n",
    "    select_y = y.loc[idx]\n",
    "    return select_X, select_y\n",
    "\n",
    "percent = 0.3\n",
    "X_origin_male, y_origin_male = f_select(\n",
    "    percent=percent,\n",
    "    df_sv=male_y1_shap_values, X=X_train, y=y_train, changed_label=0\n",
    ")\n",
    "X_origin_female, y_origin_female = f_select(\n",
    "    percent=percent,\n",
    "    df_sv=female_y0_shap_values, ascending=False, X=X_train, y=y_train, changed_label=1\n",
    ")"
   ]
  },
  {
   "cell_type": "code",
   "execution_count": 38,
   "metadata": {},
   "outputs": [
    {
     "data": {
      "text/plain": [
       "((22792, 104), (22792,))"
      ]
     },
     "execution_count": 38,
     "metadata": {},
     "output_type": "execute_result"
    }
   ],
   "source": [
    "X_train.shape, y_train.shape"
   ]
  },
  {
   "cell_type": "code",
   "execution_count": 39,
   "metadata": {},
   "outputs": [
    {
     "data": {
      "text/plain": [
       "((26198, 104), (26198,))"
      ]
     },
     "execution_count": 39,
     "metadata": {},
     "output_type": "execute_result"
    }
   ],
   "source": [
    "X_train_new = pd.concat([X_train, X_origin_male, X_origin_female])\n",
    "y_train_new = pd.concat([y_train, y_origin_male, y_origin_female])\n",
    "X_train_new.shape, y_train_new.shape"
   ]
  },
  {
   "cell_type": "code",
   "execution_count": 40,
   "metadata": {},
   "outputs": [
    {
     "data": {
      "text/plain": [
       "(26198, 104)"
      ]
     },
     "execution_count": 40,
     "metadata": {},
     "output_type": "execute_result"
    }
   ],
   "source": [
    "X_train_new.shape"
   ]
  },
  {
   "cell_type": "code",
   "execution_count": 41,
   "metadata": {},
   "outputs": [],
   "source": [
    "model_new = xgboost.XGBClassifier()\n",
    "model_new.fit(X_train_new, y_train_new)\n",
    "y_pred_new = model_new.predict(X_test)\n"
   ]
  },
  {
   "cell_type": "code",
   "execution_count": 44,
   "metadata": {},
   "outputs": [
    {
     "data": {
      "text/plain": [
       "准确度(1)      0.872454\n",
       "精确度(1)      0.781379\n",
       "召回率(1)      0.649145\n",
       "f1分数(1)     0.709150\n",
       "AUC分数(1)    0.795969\n",
       "DP差异(0)     0.182143\n",
       "DP比率(1)     0.296990\n",
       "EO差异(0)     0.071325\n",
       "EO比率(1)     0.228215\n",
       "Name: adult-new, dtype: float64"
      ]
     },
     "execution_count": 44,
     "metadata": {},
     "output_type": "execute_result"
    }
   ],
   "source": [
    "fm_new = FairMetric(\"adult-new\", y_true=y_test, y_pred=y_pred_new, sensitive_features=sensitive_features)\n",
    "fm_new.eval_metrics()\n",
    "fm_new.metrics"
   ]
  },
  {
   "cell_type": "code",
   "execution_count": 45,
   "metadata": {},
   "outputs": [
    {
     "data": {
      "text/plain": [
       "准确度(1)      0.870918\n",
       "精确度(1)      0.779389\n",
       "召回率(1)      0.643162\n",
       "f1分数(1)     0.704753\n",
       "AUC分数(1)    0.792910\n",
       "DP差异(0)     0.185713\n",
       "DP比率(1)     0.282786\n",
       "EO差异(0)     0.099638\n",
       "EO比率(1)     0.218000\n",
       "Name: adult, dtype: float64"
      ]
     },
     "execution_count": 45,
     "metadata": {},
     "output_type": "execute_result"
    }
   ],
   "source": [
    "fm.metrics"
   ]
  }
 ],
 "metadata": {
  "kernelspec": {
   "display_name": "dl",
   "language": "python",
   "name": "python3"
  },
  "language_info": {
   "codemirror_mode": {
    "name": "ipython",
    "version": 3
   },
   "file_extension": ".py",
   "mimetype": "text/x-python",
   "name": "python",
   "nbconvert_exporter": "python",
   "pygments_lexer": "ipython3",
   "version": "3.10.14"
  }
 },
 "nbformat": 4,
 "nbformat_minor": 2
}
