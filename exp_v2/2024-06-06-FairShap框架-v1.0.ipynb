{
 "cells": [
  {
   "cell_type": "markdown",
   "metadata": {},
   "source": [
    "# 主要是框架内部的处理类\n",
    "\n",
    "写一个类"
   ]
  },
  {
   "cell_type": "markdown",
   "metadata": {},
   "source": [
    "## 数据预处理部分"
   ]
  },
  {
   "cell_type": "code",
   "execution_count": 1,
   "metadata": {},
   "outputs": [
    {
     "name": "stdout",
     "output_type": "stream",
     "text": [
      "{(0.703665851855809,): ('Male',), (-1.4211290733558493,): ('Female',)}\n"
     ]
    },
    {
     "data": {
      "text/html": [
       "<pre style=\"white-space:pre;overflow-x:auto;line-height:normal;font-family:Menlo,'DejaVu Sans Mono',consolas,'Courier New',monospace\"><span style=\"color: #7fbfbf; text-decoration-color: #7fbfbf\">[16:13:38] </span><span style=\"color: #000080; text-decoration-color: #000080\">INFO    </span> 数据集处理完毕， 遍历 xxx.grouped                                   <a href=\"file://d:\\Dropbox\\Projects\\joyful-pandas\\exp_v2\\utils\\DataPreProcessor_0605.py\" target=\"_blank\"><span style=\"color: #7f7f7f; text-decoration-color: #7f7f7f\">DataPreProcessor_0605.py</span></a><span style=\"color: #7f7f7f; text-decoration-color: #7f7f7f\">:</span><a href=\"file://d:\\Dropbox\\Projects\\joyful-pandas\\exp_v2\\utils\\DataPreProcessor_0605.py#46\" target=\"_blank\"><span style=\"color: #7f7f7f; text-decoration-color: #7f7f7f\">46</span></a>\n",
       "<span style=\"color: #7fbfbf; text-decoration-color: #7fbfbf\">           </span>         查看数据，<span style=\"color: #800080; text-decoration-color: #800080; font-weight: bold\">每个单元是Group</span><span style=\"font-weight: bold\">(</span>scale_name, origin_name , X, y<span style=\"font-weight: bold\">)</span>           <span style=\"color: #7f7f7f; text-decoration-color: #7f7f7f\">                           </span>\n",
       "</pre>\n"
      ],
      "text/plain": [
       "\u001b[2;36m[16:13:38]\u001b[0m\u001b[2;36m \u001b[0m\u001b[34mINFO    \u001b[0m 数据集处理完毕， 遍历 xxx.grouped                                   \u001b]8;id=127786;file://d:\\Dropbox\\Projects\\joyful-pandas\\exp_v2\\utils\\DataPreProcessor_0605.py\u001b\\\u001b[2mDataPreProcessor_0605.py\u001b[0m\u001b]8;;\u001b\\\u001b[2m:\u001b[0m\u001b]8;id=673704;file://d:\\Dropbox\\Projects\\joyful-pandas\\exp_v2\\utils\\DataPreProcessor_0605.py#46\u001b\\\u001b[2m46\u001b[0m\u001b]8;;\u001b\\\n",
       "\u001b[2;36m           \u001b[0m         查看数据，\u001b[1;35m每个单元是Group\u001b[0m\u001b[1m(\u001b[0mscale_name, origin_name , X, y\u001b[1m)\u001b[0m           \u001b[2m                           \u001b[0m\n"
      ]
     },
     "metadata": {},
     "output_type": "display_data"
    }
   ],
   "source": [
    "# 重新加载模块\n",
    "%load_ext autoreload\n",
    "%autoreload 2\n",
    "from utils.DataPreProcessor_0605 import DataPreProcessor, Group \n",
    "\n",
    "sensitive_names = [\"sex\"]\n",
    "processor = DataPreProcessor(\n",
    "    data_path=\"../input/adult.csv\", \n",
    "    sensitive_names=sensitive_names,\n",
    "    label=\"income\",\n",
    "    label_mapper={\"<=50K\":0, \">50K\":1}\n",
    ")"
   ]
  },
  {
   "cell_type": "markdown",
   "metadata": {},
   "source": [
    "## 模型训练与预测"
   ]
  },
  {
   "cell_type": "code",
   "execution_count": 2,
   "metadata": {},
   "outputs": [],
   "source": [
    "import xgboost\n",
    "\n",
    "# 训练集、测试集和敏感属性\n",
    "X_train = processor.X_train_label_scale\n",
    "y_train = processor.y_train\n",
    "X_test = processor.X_test_label_scale\n",
    "y_test = processor.y_test\n",
    "sensitive_indexes = processor.X_test[sensitive_names]\n",
    "\n",
    "# 模型训练 \n",
    "model = xgboost.XGBClassifier()\n",
    "model.fit(X_train, y_train)\n",
    "y_pred = model.predict(X_test)"
   ]
  },
  {
   "cell_type": "code",
   "execution_count": 3,
   "metadata": {},
   "outputs": [
    {
     "data": {
      "text/plain": [
       "准确度(1)      0.871635\n",
       "精确度(1)      0.772044\n",
       "召回率(1)      0.658547\n",
       "f1分数(1)     0.710793\n",
       "AUC分数(1)    0.798650\n",
       "DP差异(0)     0.186382\n",
       "DP比率(1)     0.298818\n",
       "EO差异(0)     0.069172\n",
       "EO比率(1)     0.215589\n",
       "Name: XGBClassifier-baseline, dtype: float64"
      ]
     },
     "execution_count": 3,
     "metadata": {},
     "output_type": "execute_result"
    }
   ],
   "source": [
    "from utils.FairMetric_0605 import FairMetric\n",
    "\n",
    "fm = FairMetric(\"XGBClassifier-baseline\", y_test, y_pred, sensitive_features=sensitive_indexes)\n",
    "fm.metrics"
   ]
  },
  {
   "cell_type": "code",
   "execution_count": 4,
   "metadata": {},
   "outputs": [
    {
     "name": "stderr",
     "output_type": "stream",
     "text": [
      "IProgress not found. Please update jupyter and ipywidgets. See https://ipywidgets.readthedocs.io/en/stable/user_install.html\n"
     ]
    },
    {
     "data": {
      "text/html": [
       "<div>\n",
       "<style scoped>\n",
       "    .dataframe tbody tr th:only-of-type {\n",
       "        vertical-align: middle;\n",
       "    }\n",
       "\n",
       "    .dataframe tbody tr th {\n",
       "        vertical-align: top;\n",
       "    }\n",
       "\n",
       "    .dataframe thead th {\n",
       "        text-align: right;\n",
       "    }\n",
       "</style>\n",
       "<table border=\"1\" class=\"dataframe\">\n",
       "  <thead>\n",
       "    <tr style=\"text-align: right;\">\n",
       "      <th></th>\n",
       "      <th>age</th>\n",
       "      <th>workclass</th>\n",
       "      <th>fnlwgt</th>\n",
       "      <th>education</th>\n",
       "      <th>education.num</th>\n",
       "      <th>marital.status</th>\n",
       "      <th>occupation</th>\n",
       "      <th>relationship</th>\n",
       "      <th>race</th>\n",
       "      <th>sex</th>\n",
       "      <th>capital.gain</th>\n",
       "      <th>capital.loss</th>\n",
       "      <th>hours.per.week</th>\n",
       "      <th>native.country</th>\n",
       "    </tr>\n",
       "  </thead>\n",
       "  <tbody>\n",
       "    <tr>\n",
       "      <th>19749</th>\n",
       "      <td>0.494813</td>\n",
       "      <td>0.026526</td>\n",
       "      <td>-0.213601</td>\n",
       "      <td>-0.045938</td>\n",
       "      <td>-0.376381</td>\n",
       "      <td>0.463009</td>\n",
       "      <td>-0.021303</td>\n",
       "      <td>0.509124</td>\n",
       "      <td>0.029389</td>\n",
       "      <td>0.075267</td>\n",
       "      <td>-0.155306</td>\n",
       "      <td>-0.064937</td>\n",
       "      <td>-0.049951</td>\n",
       "      <td>0.023530</td>\n",
       "    </tr>\n",
       "    <tr>\n",
       "      <th>1216</th>\n",
       "      <td>0.500095</td>\n",
       "      <td>-0.002224</td>\n",
       "      <td>-0.207415</td>\n",
       "      <td>-0.189268</td>\n",
       "      <td>-0.220711</td>\n",
       "      <td>-0.490526</td>\n",
       "      <td>0.123010</td>\n",
       "      <td>-0.486618</td>\n",
       "      <td>0.022525</td>\n",
       "      <td>-0.381510</td>\n",
       "      <td>-0.132950</td>\n",
       "      <td>-2.609746</td>\n",
       "      <td>-0.836442</td>\n",
       "      <td>0.001223</td>\n",
       "    </tr>\n",
       "    <tr>\n",
       "      <th>27962</th>\n",
       "      <td>-0.201751</td>\n",
       "      <td>0.024517</td>\n",
       "      <td>-0.071968</td>\n",
       "      <td>0.033012</td>\n",
       "      <td>0.767833</td>\n",
       "      <td>0.451731</td>\n",
       "      <td>-0.474881</td>\n",
       "      <td>0.655555</td>\n",
       "      <td>-0.308522</td>\n",
       "      <td>0.038492</td>\n",
       "      <td>-0.198145</td>\n",
       "      <td>-0.099592</td>\n",
       "      <td>-0.055016</td>\n",
       "      <td>-0.609599</td>\n",
       "    </tr>\n",
       "    <tr>\n",
       "      <th>23077</th>\n",
       "      <td>-1.826280</td>\n",
       "      <td>0.035445</td>\n",
       "      <td>-0.060712</td>\n",
       "      <td>-0.215791</td>\n",
       "      <td>0.111234</td>\n",
       "      <td>-1.321697</td>\n",
       "      <td>0.256745</td>\n",
       "      <td>-0.766208</td>\n",
       "      <td>-0.008487</td>\n",
       "      <td>0.073554</td>\n",
       "      <td>-0.147942</td>\n",
       "      <td>-0.066919</td>\n",
       "      <td>-0.916901</td>\n",
       "      <td>0.023987</td>\n",
       "    </tr>\n",
       "    <tr>\n",
       "      <th>10180</th>\n",
       "      <td>-0.303005</td>\n",
       "      <td>0.052490</td>\n",
       "      <td>0.285900</td>\n",
       "      <td>-0.134943</td>\n",
       "      <td>-0.460785</td>\n",
       "      <td>0.547875</td>\n",
       "      <td>0.057780</td>\n",
       "      <td>1.367415</td>\n",
       "      <td>0.068808</td>\n",
       "      <td>-0.171300</td>\n",
       "      <td>-0.102331</td>\n",
       "      <td>-0.071025</td>\n",
       "      <td>-1.030011</td>\n",
       "      <td>0.015273</td>\n",
       "    </tr>\n",
       "  </tbody>\n",
       "</table>\n",
       "</div>"
      ],
      "text/plain": [
       "            age  workclass    fnlwgt  education  education.num  \\\n",
       "19749  0.494813   0.026526 -0.213601  -0.045938      -0.376381   \n",
       "1216   0.500095  -0.002224 -0.207415  -0.189268      -0.220711   \n",
       "27962 -0.201751   0.024517 -0.071968   0.033012       0.767833   \n",
       "23077 -1.826280   0.035445 -0.060712  -0.215791       0.111234   \n",
       "10180 -0.303005   0.052490  0.285900  -0.134943      -0.460785   \n",
       "\n",
       "       marital.status  occupation  relationship      race       sex  \\\n",
       "19749        0.463009   -0.021303      0.509124  0.029389  0.075267   \n",
       "1216        -0.490526    0.123010     -0.486618  0.022525 -0.381510   \n",
       "27962        0.451731   -0.474881      0.655555 -0.308522  0.038492   \n",
       "23077       -1.321697    0.256745     -0.766208 -0.008487  0.073554   \n",
       "10180        0.547875    0.057780      1.367415  0.068808 -0.171300   \n",
       "\n",
       "       capital.gain  capital.loss  hours.per.week  native.country  \n",
       "19749     -0.155306     -0.064937       -0.049951        0.023530  \n",
       "1216      -0.132950     -2.609746       -0.836442        0.001223  \n",
       "27962     -0.198145     -0.099592       -0.055016       -0.609599  \n",
       "23077     -0.147942     -0.066919       -0.916901        0.023987  \n",
       "10180     -0.102331     -0.071025       -1.030011        0.015273  "
      ]
     },
     "execution_count": 4,
     "metadata": {},
     "output_type": "execute_result"
    }
   ],
   "source": [
    "import shap\n",
    "import pandas as pd\n",
    "\n",
    "def get_shapley_values(X, model):\n",
    "    explainer = shap.Explainer(model)\n",
    "    shap_values = explainer(X)\n",
    "    shapley_values = pd.DataFrame(data=shap_values.values, columns=X.columns, index=X.index)\n",
    "    return shapley_values\n",
    "shapley_values = get_shapley_values(processor.X_train_label_scale, model)\n",
    "shapley_values.head()\n"
   ]
  },
  {
   "cell_type": "markdown",
   "metadata": {},
   "source": [
    "## SHAP-FAIR 框架\n",
    "\n",
    "![图片](./assets/2024-05-27-流程图.drawio.svg)"
   ]
  },
  {
   "cell_type": "code",
   "execution_count": 5,
   "metadata": {},
   "outputs": [
    {
     "data": {
      "text/plain": [
       "(('Male',),\n",
       " (15244, 14),\n",
       " (15244,),\n",
       "           sex\n",
       " 14160    Male\n",
       " 27048    Male\n",
       " 28868  Female\n",
       " 5667     Male\n",
       " 7827   Female\n",
       " ...       ...\n",
       " 32476  Female\n",
       " 21100    Male\n",
       " 27131    Male\n",
       " 25526    Male\n",
       " 21385    Male\n",
       " \n",
       " [9769 rows x 1 columns])"
      ]
     },
     "execution_count": 5,
     "metadata": {},
     "output_type": "execute_result"
    }
   ],
   "source": [
    "# 挑选一个 group，以男性举例\n",
    "handle_group: Group = processor.groups[1]\n",
    "X: pd.DataFrame = handle_group.X\n",
    "y: pd.Series = handle_group.y\n",
    "handle_group.origin_name, X.shape, y.shape, sensitive_indexes"
   ]
  },
  {
   "cell_type": "markdown",
   "metadata": {},
   "source": [
    "### 个体间-SHAP距离\n",
    "\n",
    "Shapley Distance between Individual and Individual\n",
    "\n",
    "$$\n",
    "{\\rm SDII}(F, \\phi_i, \\phi_j) = \\sum_{f\\in F}^f|\\phi_i^f-\\phi_j^f|\n",
    "$$\n",
    "\n",
    "### 个体与组-SHAP距离 \n",
    "\n",
    "Shapley Distance between Individual and Group\n",
    "\n",
    "$$\n",
    "{\\rm SDIG}(F, \\phi_i, \\phi) = \\frac 1{m-1}\\sum_{\\phi_j \\in \\phi}^{\\phi}{\\rm SDII}(F, \\phi_i, \\phi_j)\n",
    "$$"
   ]
  },
  {
   "cell_type": "code",
   "execution_count": 6,
   "metadata": {},
   "outputs": [],
   "source": [
    "from utils.ShapFairFrameGroup_0606 import ShapFairGroup"
   ]
  },
  {
   "cell_type": "code",
   "execution_count": 7,
   "metadata": {},
   "outputs": [
    {
     "name": "stdout",
     "output_type": "stream",
     "text": [
      "读取缓存:  cache/2024-06-06-Male-test.csv\n",
      "统计: 大于 threshold 379 个, 小于 14865 个\n",
      "候选者 379 个, 不公平者 99 个, 比例 26.12%\n"
     ]
    }
   ],
   "source": [
    "handle_group: Group = processor.groups[1]\n",
    "X: pd.DataFrame = handle_group.X\n",
    "y: pd.Series = handle_group.y\n",
    "handle_group.origin_name, X.shape, y.shape, sensitive_indexes\n",
    "shapley_values_X = shapley_values.loc[X.index]\n",
    "sfg = ShapFairGroup(X, y, shapley_values_X, sensitive_names)\n",
    "sfg.sdgg(\"cache/2024-06-06-Male-test.csv\")\n",
    "sfg.get_candidates_fair_X('sex', 0.1)\n",
    "sfg.get_df_neighbors_by_knn()\n",
    "sfg.get_unfair_idx()\n",
    "male_unfair_idx = sfg.unfair_idx.values"
   ]
  },
  {
   "cell_type": "code",
   "execution_count": 8,
   "metadata": {},
   "outputs": [
    {
     "name": "stdout",
     "output_type": "stream",
     "text": [
      "--------------------------------------------------\n",
      "处理 group Female\n",
      "读取缓存:  cache/2024-06-06-Female-v1.csv\n"
     ]
    },
    {
     "data": {
      "image/png": "[encoded data removed]",
      "text/plain": [
       "<Figure size 640x480 with 1 Axes>"
      ]
     },
     "metadata": {},
     "output_type": "display_data"
    },
    {
     "name": "stdout",
     "output_type": "stream",
     "text": [
      "统计: 大于 threshold 577 个, 小于 6971 个\n",
      "候选者 577 个, 不公平者 21 个, 比例 3.64%\n",
      "--------------------------------------------------\n",
      "处理 group Male\n",
      "读取缓存:  cache/2024-06-06-Male-v1.csv\n"
     ]
    },
    {
     "data": {
      "image/png": "[encoded data removed]",
      "text/plain": [
       "<Figure size 640x480 with 1 Axes>"
      ]
     },
     "metadata": {},
     "output_type": "display_data"
    },
    {
     "name": "stdout",
     "output_type": "stream",
     "text": [
      "统计: 大于 threshold 47 个, 小于 15197 个\n",
      "候选者 47 个, 不公平者 17 个, 比例 36.17%\n"
     ]
    }
   ],
   "source": [
    "from datetime import datetime\n",
    "import logging\n",
    "logging.basicConfig(level=logging.INFO)\n",
    "\n",
    "class ShapFairFramework:\n",
    "    def __init__(self, groups, sensitive_names) -> None:\n",
    "        self.groups = groups\n",
    "        self.sensitive_names = sensitive_names\n",
    "\n",
    "    def run(self):\n",
    "        for group in self.groups:\n",
    "            self.handle_group(group)\n",
    "\n",
    "    def handle_group(self, group: Group, *, suffix=\"v1\", threshold):\n",
    "        print(\"-\"*50)\n",
    "        print(\"处理 group\", \"\".join(group.origin_name))\n",
    "\n",
    "        X: pd.DataFrame = group.X\n",
    "        y: pd.Series = group.y\n",
    "        origin_name = \"\".join(group.origin_name)\n",
    "\n",
    "        shapley_values_X = shapley_values.loc[X.index]\n",
    "        sfg = ShapFairGroup(X, y, shapley_values_X, self.sensitive_names)\n",
    "        date = datetime.today().strftime(\"%Y-%m-%d\")\n",
    "        sfg.sdgg(f\"cache/{date}-{origin_name}-{suffix}.csv\")\n",
    "        sfg.show_sigg_hist(\"sex\")\n",
    "        # todo 硬编码\n",
    "        sfg.get_candidates_fair_X(\"sex\", threshold)\n",
    "        sfg.get_df_neighbors_by_knn()\n",
    "        sfg.get_unfair_idx()\n",
    "        return sfg.unfair_idx.values\n",
    "\n",
    "groups = processor.groups\n",
    "sff = ShapFairFramework(groups, sensitive_names=sensitive_names)\n",
    "female_unfair_idxs = sff.handle_group(groups[0], threshold=0.25)\n",
    "male_unfair_idxs = sff.handle_group(groups[1], threshold=0.18)"
   ]
  },
  {
   "cell_type": "code",
   "execution_count": 9,
   "metadata": {},
   "outputs": [
    {
     "data": {
      "text/plain": [
       "0"
      ]
     },
     "execution_count": 9,
     "metadata": {},
     "output_type": "execute_result"
    }
   ],
   "source": [
    "logging.getLogger().getEffectiveLevel()\n",
    "logging.NOTSET"
   ]
  },
  {
   "cell_type": "code",
   "execution_count": 10,
   "metadata": {},
   "outputs": [
    {
     "data": {
      "text/plain": [
       "(array([ 3213, 29211,    31, 25311, 23900,  4965, 18907, 22923, 14568,\n",
       "           22,    51, 28994,  2149, 22733, 21749,   154, 15472, 18196,\n",
       "        30381, 20643,  2368], dtype=int64),\n",
       " 21)"
      ]
     },
     "execution_count": 10,
     "metadata": {},
     "output_type": "execute_result"
    }
   ],
   "source": [
    "female_unfair_idxs, len(female_unfair_idxs)"
   ]
  },
  {
   "cell_type": "code",
   "execution_count": 11,
   "metadata": {},
   "outputs": [
    {
     "data": {
      "text/plain": [
       "(array([ 3213, 29211,    31, 25311, 23900,  4965, 18907, 22923, 14568,\n",
       "           22,    51, 28994,  2149, 22733, 21749,   154, 15472, 18196,\n",
       "        30381, 20643,  2368, 13857,  5088, 28722, 28753, 13881, 26353,\n",
       "        22709,  6999, 15197, 17952, 28255, 26996, 24802, 32142, 28011,\n",
       "         3173,   197], dtype=int64),\n",
       " 38)"
      ]
     },
     "execution_count": 11,
     "metadata": {},
     "output_type": "execute_result"
    }
   ],
   "source": [
    "import numpy as np\n",
    "unfair_idx = np.r_[female_unfair_idxs, male_unfair_idxs]\n",
    "unfair_idx, len(unfair_idx)"
   ]
  },
  {
   "cell_type": "code",
   "execution_count": 12,
   "metadata": {},
   "outputs": [
    {
     "data": {
      "text/plain": [
       "income\n",
       "False    22754\n",
       "True        38\n",
       "Name: count, dtype: int64"
      ]
     },
     "execution_count": 12,
     "metadata": {},
     "output_type": "execute_result"
    }
   ],
   "source": [
    "y_new = y_train.copy()\n",
    "y_new[unfair_idx] = 1 - y_new[unfair_idx]\n",
    "y_new.shape\n",
    "(y_new != y_train).value_counts()"
   ]
  },
  {
   "cell_type": "code",
   "execution_count": 13,
   "metadata": {},
   "outputs": [],
   "source": [
    "model = xgboost.XGBClassifier()\n",
    "model.fit(X_train, y_new)\n",
    "y_pred = model.predict(X_test)"
   ]
  },
  {
   "cell_type": "code",
   "execution_count": 14,
   "metadata": {},
   "outputs": [
    {
     "data": {
      "text/plain": [
       "准确度(1)      0.872658\n",
       "精确度(1)      0.781603\n",
       "召回率(1)      0.650000\n",
       "f1分数(1)     0.709753\n",
       "AUC分数(1)    0.796396\n",
       "DP差异(0)     0.186152\n",
       "DP比率(1)     0.285725\n",
       "EO差异(0)     0.082904\n",
       "EO比率(1)     0.204330\n",
       "Name: XGBClassifier-new, dtype: float64"
      ]
     },
     "execution_count": 14,
     "metadata": {},
     "output_type": "execute_result"
    }
   ],
   "source": [
    "fm_new = FairMetric(\"XGBClassifier-new\", y_test, y_pred, sensitive_features=sensitive_indexes)\n",
    "fm_new.metrics"
   ]
  },
  {
   "cell_type": "code",
   "execution_count": 15,
   "metadata": {},
   "outputs": [
    {
     "data": {
      "text/plain": [
       "准确度(1)      0.871635\n",
       "精确度(1)      0.772044\n",
       "召回率(1)      0.658547\n",
       "f1分数(1)     0.710793\n",
       "AUC分数(1)    0.798650\n",
       "DP差异(0)     0.186382\n",
       "DP比率(1)     0.298818\n",
       "EO差异(0)     0.069172\n",
       "EO比率(1)     0.215589\n",
       "Name: XGBClassifier-baseline, dtype: float64"
      ]
     },
     "execution_count": 15,
     "metadata": {},
     "output_type": "execute_result"
    }
   ],
   "source": [
    "fm.metrics"
   ]
  },
  {
   "cell_type": "code",
   "execution_count": null,
   "metadata": {},
   "outputs": [],
   "source": []
  }
 ],
 "metadata": {
  "kernelspec": {
   "display_name": "dl",
   "language": "python",
   "name": "python3"
  },
  "language_info": {
   "codemirror_mode": {
    "name": "ipython",
    "version": 3
   },
   "file_extension": ".py",
   "mimetype": "text/x-python",
   "name": "python",
   "nbconvert_exporter": "python",
   "pygments_lexer": "ipython3",
   "version": "3.10.14"
  }
 },
 "nbformat": 4,
 "nbformat_minor": 2
}
